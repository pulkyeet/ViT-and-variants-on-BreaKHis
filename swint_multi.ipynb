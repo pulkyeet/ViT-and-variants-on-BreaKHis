{
  "nbformat": 4,
  "nbformat_minor": 0,
  "metadata": {
    "colab": {
      "provenance": [],
      "gpuType": "T4"
    },
    "kernelspec": {
      "name": "python3",
      "display_name": "Python 3"
    },
    "language_info": {
      "name": "python"
    },
    "accelerator": "GPU"
  },
  "cells": [
    {
      "cell_type": "code",
      "source": [
        "from google.colab import drive\n",
        "drive.mount('/content/drive')"
      ],
      "metadata": {
        "colab": {
          "base_uri": "https://localhost:8080/"
        },
        "id": "hKmjmbAX2Dpe",
        "outputId": "8e5cfdd9-f753-46c0-f53f-64489ec20cd9"
      },
      "execution_count": 1,
      "outputs": [
        {
          "output_type": "stream",
          "name": "stdout",
          "text": [
            "Drive already mounted at /content/drive; to attempt to forcibly remount, call drive.mount(\"/content/drive\", force_remount=True).\n"
          ]
        }
      ]
    },
    {
      "cell_type": "code",
      "execution_count": 2,
      "metadata": {
        "id": "x0QM_D49w5u2"
      },
      "outputs": [],
      "source": [
        "import torch\n",
        "import torch.nn as nn\n",
        "import pandas as pd\n",
        "import numpy as np\n",
        "import matplotlib.pyplot as plt\n",
        "\n",
        "device = \"cuda\" if torch.cuda.is_available() else \"cpu\""
      ]
    },
    {
      "cell_type": "code",
      "source": [
        "from torch.utils.data import DataLoader\n",
        "from torchvision import datasets\n",
        "from torchvision.transforms import v2\n",
        "import torch.nn.functional as F\n",
        "from torch.nn import init\n",
        "\n",
        "FLIP_PROBABILITY = 0.1\n",
        "\n",
        "data_transform = v2.Compose([\n",
        "    v2.Resize(size=(224,224)),\n",
        "    v2.RandomHorizontalFlip(p=0.5),\n",
        "    v2.RandomRotation(degrees=(-10,10)),\n",
        "    v2.ColorJitter(brightness=0.05, contrast=0.05, saturation=0.05, hue=0.05),\n",
        "    v2.RandomAffine(degrees=0, translate=(0.05, 0.05)),\n",
        "    v2.ToTensor(),\n",
        "    v2.Normalize(mean=[0.485, 0.456, 0.406], std=[0.229, 0.224, 0.225])  # Add normalization\n",
        "])"
      ],
      "metadata": {
        "colab": {
          "base_uri": "https://localhost:8080/"
        },
        "id": "xD-mbyCLw_5H",
        "outputId": "df813b09-b5d9-4868-fa78-4082e29631a2"
      },
      "execution_count": 3,
      "outputs": [
        {
          "output_type": "stream",
          "name": "stderr",
          "text": [
            "/usr/local/lib/python3.10/dist-packages/torchvision/transforms/v2/_deprecated.py:42: UserWarning: The transform `ToTensor()` is deprecated and will be removed in a future release. Instead, please use `v2.Compose([v2.ToImage(), v2.ToDtype(torch.float32, scale=True)])`.Output is equivalent up to float precision.\n",
            "  warnings.warn(\n"
          ]
        }
      ]
    },
    {
      "cell_type": "code",
      "source": [
        "train_data = datasets.ImageFolder(root=\"/content/drive/MyDrive/dataset_v4/train\",\n",
        "                                  transform=data_transform,\n",
        "                                  target_transform=None)\n",
        "test_data = datasets.ImageFolder(root=\"/content/drive/MyDrive/dataset_v4/test\",\n",
        "                                  transform=data_transform)\n",
        "class_names = train_data.classes"
      ],
      "metadata": {
        "id": "MHh0jSY2xEeD"
      },
      "execution_count": 4,
      "outputs": []
    },
    {
      "cell_type": "code",
      "source": [
        "from torch.utils.data import DataLoader\n",
        "\n",
        "BATCH_SIZE = 16\n",
        "train_dataloader = DataLoader(train_data, batch_size=BATCH_SIZE, shuffle=True)\n",
        "test_dataloader = DataLoader(test_data, batch_size=BATCH_SIZE, shuffle=False)"
      ],
      "metadata": {
        "id": "RjOAVy6XxGUj"
      },
      "execution_count": 5,
      "outputs": []
    },
    {
      "cell_type": "code",
      "source": [
        "import torch\n",
        "import torch.nn as nn\n",
        "import torch.nn.functional as F\n",
        "from torch.nn import init\n",
        "\n",
        "class PatchEmbed(nn.Module):\n",
        "    \"\"\"Split image into patches and then embed them.\"\"\"\n",
        "    def __init__(self, img_size=224, patch_size=4, in_chans=3, embed_dim=96):\n",
        "        super().__init__()\n",
        "        self.img_size = (img_size, img_size)\n",
        "        self.patch_size = (patch_size, patch_size)\n",
        "        self.patches_resolution = [img_size // patch_size, img_size // patch_size]\n",
        "        self.num_patches = (img_size // patch_size) ** 2\n",
        "\n",
        "        self.proj = nn.Conv2d(in_chans, embed_dim, kernel_size=patch_size, stride=patch_size)\n",
        "        self.norm = nn.LayerNorm(embed_dim)\n",
        "\n",
        "    def forward(self, x):\n",
        "        B, C, H, W = x.shape\n",
        "        x = self.proj(x).flatten(2).transpose(1, 2)  # B Ph*Pw C\n",
        "        x = self.norm(x)\n",
        "        return x"
      ],
      "metadata": {
        "id": "sOQdx7Hf-kSo"
      },
      "execution_count": 6,
      "outputs": []
    },
    {
      "cell_type": "code",
      "source": [
        "class WindowAttention(nn.Module):\n",
        "    \"\"\"Window based multi-head self attention.\"\"\"\n",
        "    def __init__(self, dim, window_size, num_heads, qkv_bias=True):\n",
        "        super().__init__()\n",
        "        self.dim = dim\n",
        "        self.window_size = window_size  # Wh, Ww\n",
        "        self.num_heads = num_heads\n",
        "        head_dim = dim // num_heads\n",
        "        self.scale = head_dim ** -0.5\n",
        "\n",
        "        self.qkv = nn.Linear(dim, dim * 3, bias=qkv_bias)\n",
        "        self.proj = nn.Linear(dim, dim)\n",
        "\n",
        "        self.relative_position_bias_table = nn.Parameter(\n",
        "            torch.zeros((2 * window_size[0] - 1) * (2 * window_size[1] - 1), num_heads))\n",
        "\n",
        "        # Get pair-wise relative position index for each token inside the window\n",
        "        coords_h = torch.arange(window_size[0])\n",
        "        coords_w = torch.arange(window_size[1])\n",
        "        coords = torch.stack(torch.meshgrid([coords_h, coords_w], indexing=\"ij\"))\n",
        "        coords_flatten = torch.flatten(coords, 1)\n",
        "        relative_coords = coords_flatten[:, :, None] - coords_flatten[:, None, :]\n",
        "        relative_coords = relative_coords.permute(1, 2, 0).contiguous()\n",
        "        relative_coords[:, :, 0] += window_size[0] - 1\n",
        "        relative_coords[:, :, 1] += window_size[1] - 1\n",
        "        relative_coords[:, :, 0] *= 2 * window_size[1] - 1\n",
        "        relative_position_index = relative_coords.sum(-1)\n",
        "        self.register_buffer(\"relative_position_index\", relative_position_index)\n",
        "\n",
        "        init.trunc_normal_(self.relative_position_bias_table, std=.02)\n",
        "\n",
        "    def forward(self, x, mask=None):\n",
        "        B_, N, C = x.shape\n",
        "        qkv = self.qkv(x).reshape(B_, N, 3, self.num_heads, C // self.num_heads).permute(2, 0, 3, 1, 4)\n",
        "        q, k, v = qkv[0], qkv[1], qkv[2]\n",
        "\n",
        "        q = q * self.scale\n",
        "        attn = (q @ k.transpose(-2, -1))\n",
        "\n",
        "        relative_position_bias = self.relative_position_bias_table[self.relative_position_index.view(-1)].view(\n",
        "            self.window_size[0] * self.window_size[1], self.window_size[0] * self.window_size[1], -1)\n",
        "        relative_position_bias = relative_position_bias.permute(2, 0, 1).contiguous()\n",
        "        attn = attn + relative_position_bias.unsqueeze(0)\n",
        "\n",
        "        if mask is not None:\n",
        "            nW = mask.shape[0]\n",
        "            attn = attn.view(B_ // nW, nW, self.num_heads, N, N) + mask.unsqueeze(1).unsqueeze(0)\n",
        "            attn = attn.view(-1, self.num_heads, N, N)\n",
        "\n",
        "        attn = F.softmax(attn, dim=-1)\n",
        "        x = (attn @ v).transpose(1, 2).reshape(B_, N, C)\n",
        "        x = self.proj(x)\n",
        "        return x"
      ],
      "metadata": {
        "id": "ST3qjg6C-nNW"
      },
      "execution_count": 7,
      "outputs": []
    },
    {
      "cell_type": "code",
      "source": [
        "class SwinTransformerBlock(nn.Module):\n",
        "    \"\"\"Swin Transformer Block.\"\"\"\n",
        "    def __init__(self, dim, num_heads, window_size=7, shift_size=0,\n",
        "                 mlp_ratio=4., qkv_bias=True, drop=0., attn_drop=0.):\n",
        "        super().__init__()\n",
        "        self.dim = dim\n",
        "        self.num_heads = num_heads\n",
        "        self.window_size = window_size\n",
        "        self.shift_size = shift_size\n",
        "        self.mlp_ratio = mlp_ratio\n",
        "\n",
        "        self.norm1 = nn.LayerNorm(dim)\n",
        "        self.attn = WindowAttention(\n",
        "            dim, window_size=(window_size, window_size), num_heads=num_heads, qkv_bias=qkv_bias)\n",
        "\n",
        "        self.norm2 = nn.LayerNorm(dim)\n",
        "        mlp_hidden_dim = int(dim * mlp_ratio)\n",
        "        self.mlp = nn.Sequential(\n",
        "            nn.Linear(dim, mlp_hidden_dim),\n",
        "            nn.GELU(),\n",
        "            nn.Linear(mlp_hidden_dim, dim)\n",
        "        )\n",
        "\n",
        "    def forward(self, x, H, W):\n",
        "        B, L, C = x.shape\n",
        "        shortcut = x\n",
        "        x = self.norm1(x)\n",
        "        x = x.view(B, H, W, C)\n",
        "\n",
        "        # pad feature maps to multiples of window size\n",
        "        pad_l = pad_t = 0\n",
        "        pad_r = (self.window_size - W % self.window_size) % self.window_size\n",
        "        pad_b = (self.window_size - H % self.window_size) % self.window_size\n",
        "        x = F.pad(x, (0, 0, pad_l, pad_r, pad_t, pad_b))\n",
        "        _, Hp, Wp, _ = x.shape\n",
        "\n",
        "        # cyclic shift\n",
        "        if self.shift_size > 0:\n",
        "            shifted_x = torch.roll(x, shifts=(-self.shift_size, -self.shift_size), dims=(1, 2))\n",
        "        else:\n",
        "            shifted_x = x\n",
        "\n",
        "        # partition windows\n",
        "        x_windows = window_partition(shifted_x, self.window_size)  # nW*B, window_size, window_size, C\n",
        "        x_windows = x_windows.view(-1, self.window_size * self.window_size, C)  # nW*B, window_size*window_size, C\n",
        "\n",
        "        # W-MSA/SW-MSA\n",
        "        attn_windows = self.attn(x_windows)  # nW*B, window_size*window_size, C\n",
        "\n",
        "        # merge windows\n",
        "        attn_windows = attn_windows.view(-1, self.window_size, self.window_size, C)\n",
        "        shifted_x = window_reverse(attn_windows, self.window_size, Hp, Wp)  # B H' W' C\n",
        "\n",
        "        # reverse cyclic shift\n",
        "        if self.shift_size > 0:\n",
        "            x = torch.roll(shifted_x, shifts=(self.shift_size, self.shift_size), dims=(1, 2))\n",
        "        else:\n",
        "            x = shifted_x\n",
        "\n",
        "        if pad_r > 0 or pad_b > 0:\n",
        "            x = x[:, :H, :W, :].contiguous()\n",
        "\n",
        "        x = x.view(B, H * W, C)\n",
        "\n",
        "        # FFN\n",
        "        x = shortcut + x\n",
        "        x = x + self.mlp(self.norm2(x))\n",
        "\n",
        "        return x"
      ],
      "metadata": {
        "id": "5PVYKJwz-q-_"
      },
      "execution_count": 8,
      "outputs": []
    },
    {
      "cell_type": "code",
      "source": [
        "class SwinTransformer(nn.Module):\n",
        "    def __init__(self, img_size=224, patch_size=4, in_chans=3, num_classes=1000,\n",
        "                 embed_dim=96, depths=[2, 2, 6, 2], num_heads=[3, 6, 12, 24],\n",
        "                 window_size=7, mlp_ratio=4., qkv_bias=True,\n",
        "                 drop_rate=0., attn_drop_rate=0.):\n",
        "        super().__init__()\n",
        "        self.num_classes = num_classes\n",
        "        self.num_layers = len(depths)\n",
        "        self.embed_dim = embed_dim\n",
        "        self.num_features = int(embed_dim * 2 ** (self.num_layers - 1))\n",
        "\n",
        "        # split image into non-overlapping patches\n",
        "        self.patch_embed = PatchEmbed(\n",
        "            img_size=img_size, patch_size=patch_size, in_chans=in_chans, embed_dim=embed_dim)\n",
        "\n",
        "        # stochastic depth\n",
        "        dpr = [x.item() for x in torch.linspace(0, drop_rate, sum(depths))]\n",
        "\n",
        "        # build layers\n",
        "        self.layers = nn.ModuleList()\n",
        "        for i_layer in range(self.num_layers):\n",
        "            layer = BasicLayer(\n",
        "                dim=int(embed_dim * 2 ** i_layer),\n",
        "                depth=depths[i_layer],\n",
        "                num_heads=num_heads[i_layer],\n",
        "                window_size=window_size,\n",
        "                mlp_ratio=mlp_ratio,\n",
        "                qkv_bias=qkv_bias,\n",
        "                drop=dpr[sum(depths[:i_layer]):sum(depths[:i_layer + 1])],\n",
        "                attn_drop=attn_drop_rate,\n",
        "                downsample=PatchMerging if (i_layer < self.num_layers - 1) else None\n",
        "            )\n",
        "            self.layers.append(layer)\n",
        "\n",
        "        self.norm = nn.LayerNorm(self.num_features)\n",
        "        self.avgpool = nn.AdaptiveAvgPool1d(1)\n",
        "        self.head = nn.Linear(self.num_features, num_classes)\n",
        "\n",
        "    def forward(self, x):\n",
        "        x = self.patch_embed(x)\n",
        "        for layer in self.layers:\n",
        "            x = layer(x)\n",
        "        x = self.norm(x)\n",
        "        x = self.avgpool(x.transpose(1, 2))\n",
        "        x = torch.flatten(x, 1)\n",
        "        x = self.head(x)\n",
        "        return x\n",
        "\n",
        "def window_partition(x, window_size):\n",
        "    \"\"\"\n",
        "    Args:\n",
        "        x: (B, H, W, C)\n",
        "        window_size (int): window size\n",
        "    Returns:\n",
        "        windows: (num_windows*B, window_size, window_size, C)\n",
        "    \"\"\"\n",
        "    B, H, W, C = x.shape\n",
        "    x = x.view(B, H // window_size, window_size, W // window_size, window_size, C)\n",
        "    windows = x.permute(0, 1, 3, 2, 4, 5).contiguous().view(-1, window_size, window_size, C)\n",
        "    return windows\n",
        "\n",
        "def window_reverse(windows, window_size, H, W):\n",
        "    \"\"\"\n",
        "    Args:\n",
        "        windows: (num_windows*B, window_size, window_size, C)\n",
        "        window_size (int): Window size\n",
        "        H (int): Height of image\n",
        "        W (int): Width of image\n",
        "    Returns:\n",
        "        x: (B, H, W, C)\n",
        "    \"\"\"\n",
        "    B = int(windows.shape[0] / (H * W / window_size / window_size))\n",
        "    x = windows.view(B, H // window_size, W // window_size, window_size, window_size, -1)\n",
        "    x = x.permute(0, 1, 3, 2, 4, 5).contiguous().view(B, H, W, -1)\n",
        "    return x\n",
        "\n",
        "class PatchMerging(nn.Module):\n",
        "    \"\"\"Patch Merging Layer.\"\"\"\n",
        "    def __init__(self, dim):\n",
        "        super().__init__()\n",
        "        self.dim = dim\n",
        "        self.reduction = nn.Linear(4 * dim, 2 * dim, bias=False)\n",
        "        self.norm = nn.LayerNorm(4 * dim)\n",
        "\n",
        "    def forward(self, x, H, W):\n",
        "        B, L, C = x.shape\n",
        "        assert L == H * W, \"input feature has wrong size\"\n",
        "        x = x.view(B, H, W, C)\n",
        "\n",
        "        # padding\n",
        "        pad_input = (H % 2 == 1) or (W % 2 == 1)\n",
        "        if pad_input:\n",
        "            x = F.pad(x, (0, 0, 0, W % 2, 0, H % 2))\n",
        "\n",
        "        x0 = x[:, 0::2, 0::2, :]  # B H/2 W/2 C\n",
        "        x1 = x[:, 1::2, 0::2, :]  # B H/2 W/2 C\n",
        "        x2 = x[:, 0::2, 1::2, :]  # B H/2 W/2 C\n",
        "        x3 = x[:, 1::2, 1::2, :]  # B H/2 W/2 C\n",
        "        x = torch.cat([x0, x1, x2, x3], -1)  # B H/2 W/2 4*C\n",
        "        x = x.view(B, -1, 4 * C)  # B H/2*W/2 4*C\n",
        "\n",
        "        x = self.norm(x)\n",
        "        x = self.reduction(x)\n",
        "\n",
        "        return x"
      ],
      "metadata": {
        "id": "itJ854Ev-t6v"
      },
      "execution_count": 9,
      "outputs": []
    },
    {
      "cell_type": "code",
      "source": [
        "class BasicLayer(nn.Module):\n",
        "    \"\"\"A basic Swin Transformer layer for one stage.\"\"\"\n",
        "    def __init__(self, dim, depth, num_heads, window_size,\n",
        "                 mlp_ratio=4., qkv_bias=True, drop=0., attn_drop=0.,\n",
        "                 downsample=None):\n",
        "        super().__init__()\n",
        "        self.dim = dim\n",
        "        self.depth = depth\n",
        "        self.window_size = window_size\n",
        "        self.shift_size = window_size // 2\n",
        "\n",
        "        # build blocks\n",
        "        self.blocks = nn.ModuleList([\n",
        "            SwinTransformerBlock(\n",
        "                dim=dim,\n",
        "                num_heads=num_heads,\n",
        "                window_size=window_size,\n",
        "                shift_size=0 if (i % 2 == 0) else self.shift_size,\n",
        "                mlp_ratio=mlp_ratio,\n",
        "                qkv_bias=qkv_bias,\n",
        "                drop=drop[i] if isinstance(drop, list) else drop,\n",
        "                attn_drop=attn_drop)\n",
        "            for i in range(depth)])\n",
        "\n",
        "        # patch merging layer\n",
        "        if downsample is not None:\n",
        "            self.downsample = downsample(dim=dim)\n",
        "        else:\n",
        "            self.downsample = None\n",
        "\n",
        "    def forward(self, x):\n",
        "        B, L, C = x.shape\n",
        "        H = W = int(L ** 0.5)\n",
        "\n",
        "        for blk in self.blocks:\n",
        "            x = blk(x, H, W)\n",
        "\n",
        "        if self.downsample is not None:\n",
        "            x = self.downsample(x, H, W)\n",
        "            H, W = H // 2, W // 2\n",
        "\n",
        "        return x"
      ],
      "metadata": {
        "id": "1GXhwOu_-zFQ"
      },
      "execution_count": 10,
      "outputs": []
    },
    {
      "cell_type": "code",
      "source": [
        "# Create the Swin Transformer model\n",
        "model = SwinTransformer(\n",
        "    img_size=224,\n",
        "    patch_size=4,\n",
        "    in_chans=3,\n",
        "    num_classes=len(class_names),\n",
        "    embed_dim=96,\n",
        "    depths=[2, 2, 6, 2],\n",
        "    num_heads=[3, 6, 12, 24],\n",
        "    window_size=7,\n",
        "    mlp_ratio=4.,\n",
        "    qkv_bias=True,\n",
        "    drop_rate=0.1,\n",
        "    attn_drop_rate=0.1\n",
        ").to(device)\n",
        "\n",
        "# Loss function and optimizer\n",
        "criterion = nn.CrossEntropyLoss(label_smoothing=0.1)\n",
        "optimizer = torch.optim.AdamW(model.parameters(), lr=0.0001, weight_decay=0.05)\n",
        "\n",
        "# Learning rate scheduler\n",
        "scheduler = torch.optim.lr_scheduler.CosineAnnealingLR(optimizer, T_max=100, eta_min=1e-6)\n",
        "\n",
        "from tqdm import tqdm\n",
        "\n",
        "def train_one_epoch(model, dataloader, criterion, optimizer, device):\n",
        "    model.train()\n",
        "    total_loss = 0\n",
        "    correct = 0\n",
        "    total = 0\n",
        "\n",
        "    progress_bar = tqdm(dataloader, desc='Training')\n",
        "    for images, labels in progress_bar:\n",
        "        images, labels = images.to(device), labels.to(device)\n",
        "\n",
        "        optimizer.zero_grad()\n",
        "        outputs = model(images)\n",
        "        loss = criterion(outputs, labels)\n",
        "\n",
        "        loss.backward()\n",
        "        optimizer.step()\n",
        "\n",
        "        total_loss += loss.item()\n",
        "        _, predicted = outputs.max(1)\n",
        "        total += labels.size(0)\n",
        "        correct += predicted.eq(labels).sum().item()\n",
        "\n",
        "    return total_loss / len(dataloader), 100. * correct / total\n",
        "\n",
        "def test(model, dataloader, criterion, device):\n",
        "    model.eval()\n",
        "    total_loss = 0\n",
        "    correct = 0\n",
        "    total = 0\n",
        "\n",
        "    progress_bar = tqdm(dataloader, desc='Testing')\n",
        "    with torch.no_grad():\n",
        "        for images, labels in progress_bar:\n",
        "            images, labels = images.to(device), labels.to(device)\n",
        "            outputs = model(images)\n",
        "            loss = criterion(outputs, labels)\n",
        "\n",
        "            total_loss += loss.item()\n",
        "            _, predicted = outputs.max(1)\n",
        "            total += labels.size(0)\n",
        "            correct += predicted.eq(labels).sum().item()\n",
        "\n",
        "    return total_loss / len(dataloader), 100. * correct / total\n",
        "\n",
        "# Training loop\n",
        "num_epochs = 100\n",
        "best_acc = 0\n",
        "best_results = None\n",
        "\n",
        "for epoch in range(num_epochs):\n",
        "    print(f'\\nEpoch: {epoch+1}')\n",
        "\n",
        "    # Train\n",
        "    train_loss, train_acc = train_one_epoch(model, train_dataloader, criterion, optimizer, device)\n",
        "\n",
        "    # Test\n",
        "    test_loss, test_acc = test(model, test_dataloader, criterion, device)\n",
        "\n",
        "    print(f'Train Loss: {train_loss:.4f}, Train Acc: {train_acc:.2f}%')\n",
        "    print(f'Test Loss: {test_loss:.4f}, Test Acc: {test_acc:.2f}%')\n",
        "\n",
        "    # Update learning rate\n",
        "    scheduler.step()\n",
        "\n",
        "    # Save best model\n",
        "    if test_acc > best_acc:\n",
        "        best_acc = test_acc\n",
        "        best_results = (test_loss, test_acc)\n",
        "        torch.save({\n",
        "            'epoch': epoch + 1,\n",
        "            'model_state_dict': model.state_dict(),\n",
        "            'optimizer_state_dict': optimizer.state_dict(),\n",
        "            'train_loss': train_loss,\n",
        "            'train_acc': train_acc,\n",
        "            'test_loss': test_loss,\n",
        "            'test_acc': test_acc,\n",
        "        }, 'best_swin_transformer.pth')\n",
        "\n",
        "print('\\nTraining finished!')\n",
        "print(f'Best model performance:')\n",
        "print(f'Test Loss: {best_results[0]:.4f}, Test Acc: {best_results[1]:.2f}%')"
      ],
      "metadata": {
        "colab": {
          "base_uri": "https://localhost:8080/"
        },
        "id": "f0dzv1Zc-z5k",
        "outputId": "74e8b806-8b10-4707-d7af-46a59ca088cc"
      },
      "execution_count": 12,
      "outputs": [
        {
          "output_type": "stream",
          "name": "stdout",
          "text": [
            "\n",
            "Epoch: 1\n"
          ]
        },
        {
          "output_type": "stream",
          "name": "stderr",
          "text": [
            "Training: 100%|██████████| 121/121 [00:49<00:00,  2.44it/s]\n",
            "Testing: 100%|██████████| 46/46 [03:21<00:00,  4.38s/it]\n"
          ]
        },
        {
          "output_type": "stream",
          "name": "stdout",
          "text": [
            "Train Loss: 0.6135, Train Acc: 74.77%\n",
            "Test Loss: 0.5114, Test Acc: 81.24%\n",
            "\n",
            "Epoch: 2\n"
          ]
        },
        {
          "output_type": "stream",
          "name": "stderr",
          "text": [
            "Training: 100%|██████████| 121/121 [00:49<00:00,  2.47it/s]\n",
            "Testing: 100%|██████████| 46/46 [00:12<00:00,  3.62it/s]\n"
          ]
        },
        {
          "output_type": "stream",
          "name": "stdout",
          "text": [
            "Train Loss: 0.5519, Train Acc: 78.41%\n",
            "Test Loss: 0.5154, Test Acc: 81.93%\n",
            "\n",
            "Epoch: 3\n"
          ]
        },
        {
          "output_type": "stream",
          "name": "stderr",
          "text": [
            "Training: 100%|██████████| 121/121 [00:48<00:00,  2.48it/s]\n",
            "Testing: 100%|██████████| 46/46 [00:12<00:00,  3.70it/s]\n"
          ]
        },
        {
          "output_type": "stream",
          "name": "stdout",
          "text": [
            "Train Loss: 0.5107, Train Acc: 81.17%\n",
            "Test Loss: 0.4914, Test Acc: 83.03%\n",
            "\n",
            "Epoch: 4\n"
          ]
        },
        {
          "output_type": "stream",
          "name": "stderr",
          "text": [
            "Training: 100%|██████████| 121/121 [00:49<00:00,  2.46it/s]\n",
            "Testing: 100%|██████████| 46/46 [00:12<00:00,  3.63it/s]\n"
          ]
        },
        {
          "output_type": "stream",
          "name": "stdout",
          "text": [
            "Train Loss: 0.5127, Train Acc: 81.22%\n",
            "Test Loss: 0.5088, Test Acc: 82.90%\n",
            "\n",
            "Epoch: 5\n"
          ]
        },
        {
          "output_type": "stream",
          "name": "stderr",
          "text": [
            "Training: 100%|██████████| 121/121 [00:48<00:00,  2.48it/s]\n",
            "Testing: 100%|██████████| 46/46 [00:12<00:00,  3.68it/s]\n"
          ]
        },
        {
          "output_type": "stream",
          "name": "stdout",
          "text": [
            "Train Loss: 0.4994, Train Acc: 82.99%\n",
            "Test Loss: 0.4762, Test Acc: 84.41%\n",
            "\n",
            "Epoch: 6\n"
          ]
        },
        {
          "output_type": "stream",
          "name": "stderr",
          "text": [
            "Training: 100%|██████████| 121/121 [00:48<00:00,  2.50it/s]\n",
            "Testing: 100%|██████████| 46/46 [00:12<00:00,  3.64it/s]\n"
          ]
        },
        {
          "output_type": "stream",
          "name": "stdout",
          "text": [
            "Train Loss: 0.4950, Train Acc: 82.93%\n",
            "Test Loss: 0.4646, Test Acc: 84.97%\n",
            "\n",
            "Epoch: 7\n"
          ]
        },
        {
          "output_type": "stream",
          "name": "stderr",
          "text": [
            "Training: 100%|██████████| 121/121 [00:48<00:00,  2.48it/s]\n",
            "Testing: 100%|██████████| 46/46 [00:12<00:00,  3.67it/s]\n"
          ]
        },
        {
          "output_type": "stream",
          "name": "stdout",
          "text": [
            "Train Loss: 0.4793, Train Acc: 83.77%\n",
            "Test Loss: 0.4853, Test Acc: 84.55%\n",
            "\n",
            "Epoch: 8\n"
          ]
        },
        {
          "output_type": "stream",
          "name": "stderr",
          "text": [
            "Training: 100%|██████████| 121/121 [00:48<00:00,  2.50it/s]\n",
            "Testing: 100%|██████████| 46/46 [00:12<00:00,  3.64it/s]\n"
          ]
        },
        {
          "output_type": "stream",
          "name": "stdout",
          "text": [
            "Train Loss: 0.4772, Train Acc: 84.08%\n",
            "Test Loss: 0.4770, Test Acc: 83.59%\n",
            "\n",
            "Epoch: 9\n"
          ]
        },
        {
          "output_type": "stream",
          "name": "stderr",
          "text": [
            "Training: 100%|██████████| 121/121 [00:48<00:00,  2.48it/s]\n",
            "Testing: 100%|██████████| 46/46 [00:12<00:00,  3.65it/s]\n"
          ]
        },
        {
          "output_type": "stream",
          "name": "stdout",
          "text": [
            "Train Loss: 0.4698, Train Acc: 83.77%\n",
            "Test Loss: 0.4840, Test Acc: 83.86%\n",
            "\n",
            "Epoch: 10\n"
          ]
        },
        {
          "output_type": "stream",
          "name": "stderr",
          "text": [
            "Training: 100%|██████████| 121/121 [00:48<00:00,  2.50it/s]\n",
            "Testing: 100%|██████████| 46/46 [00:12<00:00,  3.67it/s]\n"
          ]
        },
        {
          "output_type": "stream",
          "name": "stdout",
          "text": [
            "Train Loss: 0.4624, Train Acc: 84.70%\n",
            "Test Loss: 0.5584, Test Acc: 76.69%\n",
            "\n",
            "Epoch: 11\n"
          ]
        },
        {
          "output_type": "stream",
          "name": "stderr",
          "text": [
            "Training: 100%|██████████| 121/121 [00:48<00:00,  2.49it/s]\n",
            "Testing: 100%|██████████| 46/46 [00:12<00:00,  3.66it/s]\n"
          ]
        },
        {
          "output_type": "stream",
          "name": "stdout",
          "text": [
            "Train Loss: 0.4621, Train Acc: 84.29%\n",
            "Test Loss: 0.4509, Test Acc: 86.62%\n",
            "\n",
            "Epoch: 12\n"
          ]
        },
        {
          "output_type": "stream",
          "name": "stderr",
          "text": [
            "Training: 100%|██████████| 121/121 [00:48<00:00,  2.49it/s]\n",
            "Testing: 100%|██████████| 46/46 [00:12<00:00,  3.73it/s]\n"
          ]
        },
        {
          "output_type": "stream",
          "name": "stdout",
          "text": [
            "Train Loss: 0.4607, Train Acc: 85.48%\n",
            "Test Loss: 0.4857, Test Acc: 83.03%\n",
            "\n",
            "Epoch: 13\n"
          ]
        },
        {
          "output_type": "stream",
          "name": "stderr",
          "text": [
            "Training: 100%|██████████| 121/121 [00:48<00:00,  2.49it/s]\n",
            "Testing: 100%|██████████| 46/46 [00:12<00:00,  3.64it/s]\n"
          ]
        },
        {
          "output_type": "stream",
          "name": "stdout",
          "text": [
            "Train Loss: 0.4522, Train Acc: 84.76%\n",
            "Test Loss: 0.4861, Test Acc: 82.76%\n",
            "\n",
            "Epoch: 14\n"
          ]
        },
        {
          "output_type": "stream",
          "name": "stderr",
          "text": [
            "Training: 100%|██████████| 121/121 [00:48<00:00,  2.50it/s]\n",
            "Testing: 100%|██████████| 46/46 [00:12<00:00,  3.75it/s]\n"
          ]
        },
        {
          "output_type": "stream",
          "name": "stdout",
          "text": [
            "Train Loss: 0.4665, Train Acc: 84.24%\n",
            "Test Loss: 0.5137, Test Acc: 83.45%\n",
            "\n",
            "Epoch: 15\n"
          ]
        },
        {
          "output_type": "stream",
          "name": "stderr",
          "text": [
            "Training: 100%|██████████| 121/121 [00:48<00:00,  2.50it/s]\n",
            "Testing: 100%|██████████| 46/46 [00:12<00:00,  3.66it/s]\n"
          ]
        },
        {
          "output_type": "stream",
          "name": "stdout",
          "text": [
            "Train Loss: 0.4573, Train Acc: 84.50%\n",
            "Test Loss: 0.4440, Test Acc: 85.24%\n",
            "\n",
            "Epoch: 16\n"
          ]
        },
        {
          "output_type": "stream",
          "name": "stderr",
          "text": [
            "Training: 100%|██████████| 121/121 [00:48<00:00,  2.49it/s]\n",
            "Testing: 100%|██████████| 46/46 [00:12<00:00,  3.73it/s]\n"
          ]
        },
        {
          "output_type": "stream",
          "name": "stdout",
          "text": [
            "Train Loss: 0.4537, Train Acc: 84.91%\n",
            "Test Loss: 0.4315, Test Acc: 86.21%\n",
            "\n",
            "Epoch: 17\n"
          ]
        },
        {
          "output_type": "stream",
          "name": "stderr",
          "text": [
            "Training: 100%|██████████| 121/121 [00:48<00:00,  2.49it/s]\n",
            "Testing: 100%|██████████| 46/46 [00:12<00:00,  3.66it/s]\n"
          ]
        },
        {
          "output_type": "stream",
          "name": "stdout",
          "text": [
            "Train Loss: 0.4221, Train Acc: 86.68%\n",
            "Test Loss: 0.4471, Test Acc: 84.55%\n",
            "\n",
            "Epoch: 18\n"
          ]
        },
        {
          "output_type": "stream",
          "name": "stderr",
          "text": [
            "Training: 100%|██████████| 121/121 [00:48<00:00,  2.49it/s]\n",
            "Testing: 100%|██████████| 46/46 [00:12<00:00,  3.72it/s]\n"
          ]
        },
        {
          "output_type": "stream",
          "name": "stdout",
          "text": [
            "Train Loss: 0.4397, Train Acc: 86.58%\n",
            "Test Loss: 0.4354, Test Acc: 87.31%\n",
            "\n",
            "Epoch: 19\n"
          ]
        },
        {
          "output_type": "stream",
          "name": "stderr",
          "text": [
            "Training: 100%|██████████| 121/121 [00:48<00:00,  2.50it/s]\n",
            "Testing: 100%|██████████| 46/46 [00:12<00:00,  3.68it/s]\n"
          ]
        },
        {
          "output_type": "stream",
          "name": "stdout",
          "text": [
            "Train Loss: 0.4169, Train Acc: 87.83%\n",
            "Test Loss: 0.4388, Test Acc: 86.34%\n",
            "\n",
            "Epoch: 20\n"
          ]
        },
        {
          "output_type": "stream",
          "name": "stderr",
          "text": [
            "Training: 100%|██████████| 121/121 [00:48<00:00,  2.50it/s]\n",
            "Testing: 100%|██████████| 46/46 [00:12<00:00,  3.68it/s]\n"
          ]
        },
        {
          "output_type": "stream",
          "name": "stdout",
          "text": [
            "Train Loss: 0.4024, Train Acc: 88.55%\n",
            "Test Loss: 0.4381, Test Acc: 86.21%\n",
            "\n",
            "Epoch: 21\n"
          ]
        },
        {
          "output_type": "stream",
          "name": "stderr",
          "text": [
            "Training: 100%|██████████| 121/121 [00:48<00:00,  2.49it/s]\n",
            "Testing: 100%|██████████| 46/46 [00:12<00:00,  3.65it/s]\n"
          ]
        },
        {
          "output_type": "stream",
          "name": "stdout",
          "text": [
            "Train Loss: 0.4130, Train Acc: 87.57%\n",
            "Test Loss: 0.4069, Test Acc: 88.41%\n",
            "\n",
            "Epoch: 22\n"
          ]
        },
        {
          "output_type": "stream",
          "name": "stderr",
          "text": [
            "Training: 100%|██████████| 121/121 [00:49<00:00,  2.44it/s]\n",
            "Testing: 100%|██████████| 46/46 [00:12<00:00,  3.68it/s]\n"
          ]
        },
        {
          "output_type": "stream",
          "name": "stdout",
          "text": [
            "Train Loss: 0.4096, Train Acc: 87.51%\n",
            "Test Loss: 0.4044, Test Acc: 88.83%\n",
            "\n",
            "Epoch: 23\n"
          ]
        },
        {
          "output_type": "stream",
          "name": "stderr",
          "text": [
            "Training: 100%|██████████| 121/121 [00:49<00:00,  2.46it/s]\n",
            "Testing: 100%|██████████| 46/46 [00:12<00:00,  3.61it/s]\n"
          ]
        },
        {
          "output_type": "stream",
          "name": "stdout",
          "text": [
            "Train Loss: 0.4120, Train Acc: 88.50%\n",
            "Test Loss: 0.3823, Test Acc: 88.83%\n",
            "\n",
            "Epoch: 24\n"
          ]
        },
        {
          "output_type": "stream",
          "name": "stderr",
          "text": [
            "Training: 100%|██████████| 121/121 [00:49<00:00,  2.46it/s]\n",
            "Testing: 100%|██████████| 46/46 [00:12<00:00,  3.65it/s]\n"
          ]
        },
        {
          "output_type": "stream",
          "name": "stdout",
          "text": [
            "Train Loss: 0.3835, Train Acc: 89.39%\n",
            "Test Loss: 0.3684, Test Acc: 90.48%\n",
            "\n",
            "Epoch: 25\n"
          ]
        },
        {
          "output_type": "stream",
          "name": "stderr",
          "text": [
            "Training: 100%|██████████| 121/121 [00:48<00:00,  2.49it/s]\n",
            "Testing: 100%|██████████| 46/46 [00:12<00:00,  3.65it/s]\n"
          ]
        },
        {
          "output_type": "stream",
          "name": "stdout",
          "text": [
            "Train Loss: 0.3806, Train Acc: 90.17%\n",
            "Test Loss: 0.4005, Test Acc: 88.55%\n",
            "\n",
            "Epoch: 26\n"
          ]
        },
        {
          "output_type": "stream",
          "name": "stderr",
          "text": [
            "Training: 100%|██████████| 121/121 [00:48<00:00,  2.48it/s]\n",
            "Testing: 100%|██████████| 46/46 [00:12<00:00,  3.66it/s]\n"
          ]
        },
        {
          "output_type": "stream",
          "name": "stdout",
          "text": [
            "Train Loss: 0.3751, Train Acc: 89.65%\n",
            "Test Loss: 0.3638, Test Acc: 90.34%\n",
            "\n",
            "Epoch: 27\n"
          ]
        },
        {
          "output_type": "stream",
          "name": "stderr",
          "text": [
            "Training: 100%|██████████| 121/121 [00:48<00:00,  2.49it/s]\n",
            "Testing: 100%|██████████| 46/46 [00:12<00:00,  3.70it/s]\n"
          ]
        },
        {
          "output_type": "stream",
          "name": "stdout",
          "text": [
            "Train Loss: 0.3637, Train Acc: 90.17%\n",
            "Test Loss: 0.3584, Test Acc: 90.62%\n",
            "\n",
            "Epoch: 28\n"
          ]
        },
        {
          "output_type": "stream",
          "name": "stderr",
          "text": [
            "Training: 100%|██████████| 121/121 [00:48<00:00,  2.48it/s]\n",
            "Testing: 100%|██████████| 46/46 [00:12<00:00,  3.67it/s]\n"
          ]
        },
        {
          "output_type": "stream",
          "name": "stdout",
          "text": [
            "Train Loss: 0.3562, Train Acc: 90.69%\n",
            "Test Loss: 0.3813, Test Acc: 88.69%\n",
            "\n",
            "Epoch: 29\n"
          ]
        },
        {
          "output_type": "stream",
          "name": "stderr",
          "text": [
            "Training: 100%|██████████| 121/121 [00:48<00:00,  2.49it/s]\n",
            "Testing: 100%|██████████| 46/46 [00:12<00:00,  3.69it/s]\n"
          ]
        },
        {
          "output_type": "stream",
          "name": "stdout",
          "text": [
            "Train Loss: 0.3569, Train Acc: 90.37%\n",
            "Test Loss: 0.4373, Test Acc: 83.72%\n",
            "\n",
            "Epoch: 30\n"
          ]
        },
        {
          "output_type": "stream",
          "name": "stderr",
          "text": [
            "Training: 100%|██████████| 121/121 [00:48<00:00,  2.49it/s]\n",
            "Testing: 100%|██████████| 46/46 [00:12<00:00,  3.58it/s]\n"
          ]
        },
        {
          "output_type": "stream",
          "name": "stdout",
          "text": [
            "Train Loss: 0.3641, Train Acc: 90.17%\n",
            "Test Loss: 0.3525, Test Acc: 90.62%\n",
            "\n",
            "Epoch: 31\n"
          ]
        },
        {
          "output_type": "stream",
          "name": "stderr",
          "text": [
            "Training: 100%|██████████| 121/121 [00:48<00:00,  2.49it/s]\n",
            "Testing: 100%|██████████| 46/46 [00:12<00:00,  3.70it/s]\n"
          ]
        },
        {
          "output_type": "stream",
          "name": "stdout",
          "text": [
            "Train Loss: 0.3396, Train Acc: 91.88%\n",
            "Test Loss: 0.3345, Test Acc: 91.59%\n",
            "\n",
            "Epoch: 32\n"
          ]
        },
        {
          "output_type": "stream",
          "name": "stderr",
          "text": [
            "Training: 100%|██████████| 121/121 [00:48<00:00,  2.52it/s]\n",
            "Testing: 100%|██████████| 46/46 [00:12<00:00,  3.64it/s]\n"
          ]
        },
        {
          "output_type": "stream",
          "name": "stdout",
          "text": [
            "Train Loss: 0.3472, Train Acc: 91.05%\n",
            "Test Loss: 0.3833, Test Acc: 89.93%\n",
            "\n",
            "Epoch: 33\n"
          ]
        },
        {
          "output_type": "stream",
          "name": "stderr",
          "text": [
            "Training: 100%|██████████| 121/121 [00:48<00:00,  2.48it/s]\n",
            "Testing: 100%|██████████| 46/46 [00:12<00:00,  3.64it/s]\n"
          ]
        },
        {
          "output_type": "stream",
          "name": "stdout",
          "text": [
            "Train Loss: 0.3498, Train Acc: 90.37%\n",
            "Test Loss: 0.3570, Test Acc: 90.90%\n",
            "\n",
            "Epoch: 34\n"
          ]
        },
        {
          "output_type": "stream",
          "name": "stderr",
          "text": [
            "Training: 100%|██████████| 121/121 [00:48<00:00,  2.51it/s]\n",
            "Testing: 100%|██████████| 46/46 [00:12<00:00,  3.66it/s]\n"
          ]
        },
        {
          "output_type": "stream",
          "name": "stdout",
          "text": [
            "Train Loss: 0.3427, Train Acc: 91.42%\n",
            "Test Loss: 0.3321, Test Acc: 91.86%\n",
            "\n",
            "Epoch: 35\n"
          ]
        },
        {
          "output_type": "stream",
          "name": "stderr",
          "text": [
            "Training: 100%|██████████| 121/121 [00:49<00:00,  2.43it/s]\n",
            "Testing: 100%|██████████| 46/46 [00:12<00:00,  3.63it/s]\n"
          ]
        },
        {
          "output_type": "stream",
          "name": "stdout",
          "text": [
            "Train Loss: 0.3384, Train Acc: 91.42%\n",
            "Test Loss: 0.3297, Test Acc: 91.17%\n",
            "\n",
            "Epoch: 36\n"
          ]
        },
        {
          "output_type": "stream",
          "name": "stderr",
          "text": [
            "Training: 100%|██████████| 121/121 [00:48<00:00,  2.51it/s]\n",
            "Testing: 100%|██████████| 46/46 [00:12<00:00,  3.67it/s]\n"
          ]
        },
        {
          "output_type": "stream",
          "name": "stdout",
          "text": [
            "Train Loss: 0.3174, Train Acc: 92.98%\n",
            "Test Loss: 0.3186, Test Acc: 92.69%\n",
            "\n",
            "Epoch: 37\n"
          ]
        },
        {
          "output_type": "stream",
          "name": "stderr",
          "text": [
            "Training: 100%|██████████| 121/121 [00:48<00:00,  2.48it/s]\n",
            "Testing: 100%|██████████| 46/46 [00:12<00:00,  3.66it/s]\n"
          ]
        },
        {
          "output_type": "stream",
          "name": "stdout",
          "text": [
            "Train Loss: 0.3296, Train Acc: 91.78%\n",
            "Test Loss: 0.3366, Test Acc: 92.00%\n",
            "\n",
            "Epoch: 38\n"
          ]
        },
        {
          "output_type": "stream",
          "name": "stderr",
          "text": [
            "Training: 100%|██████████| 121/121 [00:48<00:00,  2.49it/s]\n",
            "Testing: 100%|██████████| 46/46 [00:12<00:00,  3.64it/s]\n"
          ]
        },
        {
          "output_type": "stream",
          "name": "stdout",
          "text": [
            "Train Loss: 0.3260, Train Acc: 92.66%\n",
            "Test Loss: 0.3093, Test Acc: 93.79%\n",
            "\n",
            "Epoch: 39\n"
          ]
        },
        {
          "output_type": "stream",
          "name": "stderr",
          "text": [
            "Training: 100%|██████████| 121/121 [00:48<00:00,  2.49it/s]\n",
            "Testing: 100%|██████████| 46/46 [00:12<00:00,  3.64it/s]\n"
          ]
        },
        {
          "output_type": "stream",
          "name": "stdout",
          "text": [
            "Train Loss: 0.3234, Train Acc: 92.35%\n",
            "Test Loss: 0.3342, Test Acc: 92.14%\n",
            "\n",
            "Epoch: 40\n"
          ]
        },
        {
          "output_type": "stream",
          "name": "stderr",
          "text": [
            "Training: 100%|██████████| 121/121 [00:48<00:00,  2.49it/s]\n",
            "Testing: 100%|██████████| 46/46 [00:12<00:00,  3.65it/s]\n"
          ]
        },
        {
          "output_type": "stream",
          "name": "stdout",
          "text": [
            "Train Loss: 0.3203, Train Acc: 92.56%\n",
            "Test Loss: 0.3242, Test Acc: 93.52%\n",
            "\n",
            "Epoch: 41\n"
          ]
        },
        {
          "output_type": "stream",
          "name": "stderr",
          "text": [
            "Training: 100%|██████████| 121/121 [00:48<00:00,  2.50it/s]\n",
            "Testing: 100%|██████████| 46/46 [00:12<00:00,  3.68it/s]\n"
          ]
        },
        {
          "output_type": "stream",
          "name": "stdout",
          "text": [
            "Train Loss: 0.3291, Train Acc: 92.51%\n",
            "Test Loss: 0.3300, Test Acc: 92.00%\n",
            "\n",
            "Epoch: 42\n"
          ]
        },
        {
          "output_type": "stream",
          "name": "stderr",
          "text": [
            "Training: 100%|██████████| 121/121 [00:48<00:00,  2.51it/s]\n",
            "Testing: 100%|██████████| 46/46 [00:12<00:00,  3.76it/s]\n"
          ]
        },
        {
          "output_type": "stream",
          "name": "stdout",
          "text": [
            "Train Loss: 0.3305, Train Acc: 92.30%\n",
            "Test Loss: 0.4144, Test Acc: 88.55%\n",
            "\n",
            "Epoch: 43\n"
          ]
        },
        {
          "output_type": "stream",
          "name": "stderr",
          "text": [
            "Training: 100%|██████████| 121/121 [00:48<00:00,  2.50it/s]\n",
            "Testing: 100%|██████████| 46/46 [00:12<00:00,  3.70it/s]\n"
          ]
        },
        {
          "output_type": "stream",
          "name": "stdout",
          "text": [
            "Train Loss: 0.3445, Train Acc: 90.69%\n",
            "Test Loss: 0.3227, Test Acc: 92.41%\n",
            "\n",
            "Epoch: 44\n"
          ]
        },
        {
          "output_type": "stream",
          "name": "stderr",
          "text": [
            "Training: 100%|██████████| 121/121 [00:48<00:00,  2.49it/s]\n",
            "Testing: 100%|██████████| 46/46 [00:12<00:00,  3.67it/s]\n"
          ]
        },
        {
          "output_type": "stream",
          "name": "stdout",
          "text": [
            "Train Loss: 0.3103, Train Acc: 93.44%\n",
            "Test Loss: 0.3152, Test Acc: 92.97%\n",
            "\n",
            "Epoch: 45\n"
          ]
        },
        {
          "output_type": "stream",
          "name": "stderr",
          "text": [
            "Training: 100%|██████████| 121/121 [00:48<00:00,  2.48it/s]\n",
            "Testing: 100%|██████████| 46/46 [00:12<00:00,  3.65it/s]\n"
          ]
        },
        {
          "output_type": "stream",
          "name": "stdout",
          "text": [
            "Train Loss: 0.3033, Train Acc: 93.70%\n",
            "Test Loss: 0.2986, Test Acc: 94.21%\n",
            "\n",
            "Epoch: 46\n"
          ]
        },
        {
          "output_type": "stream",
          "name": "stderr",
          "text": [
            "Training: 100%|██████████| 121/121 [00:49<00:00,  2.46it/s]\n",
            "Testing: 100%|██████████| 46/46 [00:12<00:00,  3.74it/s]\n"
          ]
        },
        {
          "output_type": "stream",
          "name": "stdout",
          "text": [
            "Train Loss: 0.3101, Train Acc: 92.82%\n",
            "Test Loss: 0.2944, Test Acc: 94.07%\n",
            "\n",
            "Epoch: 47\n"
          ]
        },
        {
          "output_type": "stream",
          "name": "stderr",
          "text": [
            "Training: 100%|██████████| 121/121 [00:48<00:00,  2.49it/s]\n",
            "Testing: 100%|██████████| 46/46 [00:12<00:00,  3.65it/s]\n"
          ]
        },
        {
          "output_type": "stream",
          "name": "stdout",
          "text": [
            "Train Loss: 0.3032, Train Acc: 93.60%\n",
            "Test Loss: 0.3047, Test Acc: 93.79%\n",
            "\n",
            "Epoch: 48\n"
          ]
        },
        {
          "output_type": "stream",
          "name": "stderr",
          "text": [
            "Training: 100%|██████████| 121/121 [00:48<00:00,  2.48it/s]\n",
            "Testing: 100%|██████████| 46/46 [00:12<00:00,  3.71it/s]\n"
          ]
        },
        {
          "output_type": "stream",
          "name": "stdout",
          "text": [
            "Train Loss: 0.3026, Train Acc: 93.76%\n",
            "Test Loss: 0.3201, Test Acc: 92.69%\n",
            "\n",
            "Epoch: 49\n"
          ]
        },
        {
          "output_type": "stream",
          "name": "stderr",
          "text": [
            "Training: 100%|██████████| 121/121 [00:48<00:00,  2.50it/s]\n",
            "Testing: 100%|██████████| 46/46 [00:12<00:00,  3.66it/s]\n"
          ]
        },
        {
          "output_type": "stream",
          "name": "stdout",
          "text": [
            "Train Loss: 0.2966, Train Acc: 93.91%\n",
            "Test Loss: 0.2936, Test Acc: 94.48%\n",
            "\n",
            "Epoch: 50\n"
          ]
        },
        {
          "output_type": "stream",
          "name": "stderr",
          "text": [
            "Training: 100%|██████████| 121/121 [00:48<00:00,  2.48it/s]\n",
            "Testing: 100%|██████████| 46/46 [00:12<00:00,  3.67it/s]\n"
          ]
        },
        {
          "output_type": "stream",
          "name": "stdout",
          "text": [
            "Train Loss: 0.2963, Train Acc: 93.86%\n",
            "Test Loss: 0.3109, Test Acc: 92.55%\n",
            "\n",
            "Epoch: 51\n"
          ]
        },
        {
          "output_type": "stream",
          "name": "stderr",
          "text": [
            "Training: 100%|██████████| 121/121 [00:48<00:00,  2.50it/s]\n",
            "Testing: 100%|██████████| 46/46 [00:12<00:00,  3.69it/s]\n"
          ]
        },
        {
          "output_type": "stream",
          "name": "stdout",
          "text": [
            "Train Loss: 0.2972, Train Acc: 93.86%\n",
            "Test Loss: 0.2929, Test Acc: 94.21%\n",
            "\n",
            "Epoch: 52\n"
          ]
        },
        {
          "output_type": "stream",
          "name": "stderr",
          "text": [
            "Training: 100%|██████████| 121/121 [00:48<00:00,  2.49it/s]\n",
            "Testing: 100%|██████████| 46/46 [00:12<00:00,  3.68it/s]\n"
          ]
        },
        {
          "output_type": "stream",
          "name": "stdout",
          "text": [
            "Train Loss: 0.2892, Train Acc: 94.22%\n",
            "Test Loss: 0.3085, Test Acc: 93.10%\n",
            "\n",
            "Epoch: 53\n"
          ]
        },
        {
          "output_type": "stream",
          "name": "stderr",
          "text": [
            "Training: 100%|██████████| 121/121 [00:48<00:00,  2.51it/s]\n",
            "Testing: 100%|██████████| 46/46 [00:12<00:00,  3.66it/s]\n"
          ]
        },
        {
          "output_type": "stream",
          "name": "stdout",
          "text": [
            "Train Loss: 0.2918, Train Acc: 94.64%\n",
            "Test Loss: 0.2960, Test Acc: 94.48%\n",
            "\n",
            "Epoch: 54\n"
          ]
        },
        {
          "output_type": "stream",
          "name": "stderr",
          "text": [
            "Training: 100%|██████████| 121/121 [00:48<00:00,  2.49it/s]\n",
            "Testing: 100%|██████████| 46/46 [00:12<00:00,  3.68it/s]\n"
          ]
        },
        {
          "output_type": "stream",
          "name": "stdout",
          "text": [
            "Train Loss: 0.2887, Train Acc: 94.48%\n",
            "Test Loss: 0.2905, Test Acc: 94.62%\n",
            "\n",
            "Epoch: 55\n"
          ]
        },
        {
          "output_type": "stream",
          "name": "stderr",
          "text": [
            "Training: 100%|██████████| 121/121 [00:48<00:00,  2.49it/s]\n",
            "Testing: 100%|██████████| 46/46 [00:12<00:00,  3.68it/s]\n"
          ]
        },
        {
          "output_type": "stream",
          "name": "stdout",
          "text": [
            "Train Loss: 0.3009, Train Acc: 94.12%\n",
            "Test Loss: 0.2993, Test Acc: 93.52%\n",
            "\n",
            "Epoch: 56\n"
          ]
        },
        {
          "output_type": "stream",
          "name": "stderr",
          "text": [
            "Training: 100%|██████████| 121/121 [00:48<00:00,  2.48it/s]\n",
            "Testing: 100%|██████████| 46/46 [00:12<00:00,  3.64it/s]\n"
          ]
        },
        {
          "output_type": "stream",
          "name": "stdout",
          "text": [
            "Train Loss: 0.2826, Train Acc: 95.53%\n",
            "Test Loss: 0.2802, Test Acc: 94.90%\n",
            "\n",
            "Epoch: 57\n"
          ]
        },
        {
          "output_type": "stream",
          "name": "stderr",
          "text": [
            "Training: 100%|██████████| 121/121 [00:48<00:00,  2.51it/s]\n",
            "Testing: 100%|██████████| 46/46 [00:12<00:00,  3.63it/s]\n"
          ]
        },
        {
          "output_type": "stream",
          "name": "stdout",
          "text": [
            "Train Loss: 0.2852, Train Acc: 94.80%\n",
            "Test Loss: 0.2991, Test Acc: 94.21%\n",
            "\n",
            "Epoch: 58\n"
          ]
        },
        {
          "output_type": "stream",
          "name": "stderr",
          "text": [
            "Training: 100%|██████████| 121/121 [00:48<00:00,  2.47it/s]\n",
            "Testing: 100%|██████████| 46/46 [00:12<00:00,  3.64it/s]\n"
          ]
        },
        {
          "output_type": "stream",
          "name": "stdout",
          "text": [
            "Train Loss: 0.2891, Train Acc: 95.21%\n",
            "Test Loss: 0.3190, Test Acc: 92.97%\n",
            "\n",
            "Epoch: 59\n"
          ]
        },
        {
          "output_type": "stream",
          "name": "stderr",
          "text": [
            "Training: 100%|██████████| 121/121 [00:48<00:00,  2.48it/s]\n",
            "Testing: 100%|██████████| 46/46 [00:12<00:00,  3.71it/s]\n"
          ]
        },
        {
          "output_type": "stream",
          "name": "stdout",
          "text": [
            "Train Loss: 0.2836, Train Acc: 94.64%\n",
            "Test Loss: 0.2839, Test Acc: 95.17%\n",
            "\n",
            "Epoch: 60\n"
          ]
        },
        {
          "output_type": "stream",
          "name": "stderr",
          "text": [
            "Training: 100%|██████████| 121/121 [00:49<00:00,  2.46it/s]\n",
            "Testing: 100%|██████████| 46/46 [00:12<00:00,  3.67it/s]\n"
          ]
        },
        {
          "output_type": "stream",
          "name": "stdout",
          "text": [
            "Train Loss: 0.2703, Train Acc: 95.79%\n",
            "Test Loss: 0.2830, Test Acc: 94.76%\n",
            "\n",
            "Epoch: 61\n"
          ]
        },
        {
          "output_type": "stream",
          "name": "stderr",
          "text": [
            "Training: 100%|██████████| 121/121 [00:48<00:00,  2.48it/s]\n",
            "Testing: 100%|██████████| 46/46 [00:12<00:00,  3.76it/s]\n"
          ]
        },
        {
          "output_type": "stream",
          "name": "stdout",
          "text": [
            "Train Loss: 0.2764, Train Acc: 95.47%\n",
            "Test Loss: 0.2873, Test Acc: 94.90%\n",
            "\n",
            "Epoch: 62\n"
          ]
        },
        {
          "output_type": "stream",
          "name": "stderr",
          "text": [
            "Training: 100%|██████████| 121/121 [00:48<00:00,  2.51it/s]\n",
            "Testing: 100%|██████████| 46/46 [00:12<00:00,  3.68it/s]\n"
          ]
        },
        {
          "output_type": "stream",
          "name": "stdout",
          "text": [
            "Train Loss: 0.2779, Train Acc: 95.21%\n",
            "Test Loss: 0.2771, Test Acc: 95.45%\n",
            "\n",
            "Epoch: 63\n"
          ]
        },
        {
          "output_type": "stream",
          "name": "stderr",
          "text": [
            "Training: 100%|██████████| 121/121 [00:48<00:00,  2.50it/s]\n",
            "Testing: 100%|██████████| 46/46 [00:12<00:00,  3.70it/s]\n"
          ]
        },
        {
          "output_type": "stream",
          "name": "stdout",
          "text": [
            "Train Loss: 0.2738, Train Acc: 95.73%\n",
            "Test Loss: 0.2869, Test Acc: 94.34%\n",
            "\n",
            "Epoch: 64\n"
          ]
        },
        {
          "output_type": "stream",
          "name": "stderr",
          "text": [
            "Training: 100%|██████████| 121/121 [00:48<00:00,  2.49it/s]\n",
            "Testing: 100%|██████████| 46/46 [00:12<00:00,  3.64it/s]\n"
          ]
        },
        {
          "output_type": "stream",
          "name": "stdout",
          "text": [
            "Train Loss: 0.2838, Train Acc: 95.42%\n",
            "Test Loss: 0.2905, Test Acc: 95.17%\n",
            "\n",
            "Epoch: 65\n"
          ]
        },
        {
          "output_type": "stream",
          "name": "stderr",
          "text": [
            "Training: 100%|██████████| 121/121 [00:48<00:00,  2.48it/s]\n",
            "Testing: 100%|██████████| 46/46 [00:12<00:00,  3.63it/s]\n"
          ]
        },
        {
          "output_type": "stream",
          "name": "stdout",
          "text": [
            "Train Loss: 0.2690, Train Acc: 95.94%\n",
            "Test Loss: 0.2827, Test Acc: 94.90%\n",
            "\n",
            "Epoch: 66\n"
          ]
        },
        {
          "output_type": "stream",
          "name": "stderr",
          "text": [
            "Training: 100%|██████████| 121/121 [00:48<00:00,  2.50it/s]\n",
            "Testing: 100%|██████████| 46/46 [00:12<00:00,  3.63it/s]\n"
          ]
        },
        {
          "output_type": "stream",
          "name": "stdout",
          "text": [
            "Train Loss: 0.2701, Train Acc: 95.37%\n",
            "Test Loss: 0.2902, Test Acc: 93.66%\n",
            "\n",
            "Epoch: 67\n"
          ]
        },
        {
          "output_type": "stream",
          "name": "stderr",
          "text": [
            "Training: 100%|██████████| 121/121 [00:48<00:00,  2.49it/s]\n",
            "Testing: 100%|██████████| 46/46 [00:12<00:00,  3.67it/s]\n"
          ]
        },
        {
          "output_type": "stream",
          "name": "stdout",
          "text": [
            "Train Loss: 0.2724, Train Acc: 95.11%\n",
            "Test Loss: 0.2758, Test Acc: 95.59%\n",
            "\n",
            "Epoch: 68\n"
          ]
        },
        {
          "output_type": "stream",
          "name": "stderr",
          "text": [
            "Training: 100%|██████████| 121/121 [00:48<00:00,  2.49it/s]\n",
            "Testing: 100%|██████████| 46/46 [00:12<00:00,  3.62it/s]\n"
          ]
        },
        {
          "output_type": "stream",
          "name": "stdout",
          "text": [
            "Train Loss: 0.2642, Train Acc: 95.94%\n",
            "Test Loss: 0.2659, Test Acc: 96.14%\n",
            "\n",
            "Epoch: 69\n"
          ]
        },
        {
          "output_type": "stream",
          "name": "stderr",
          "text": [
            "Training: 100%|██████████| 121/121 [00:48<00:00,  2.49it/s]\n",
            "Testing: 100%|██████████| 46/46 [00:12<00:00,  3.66it/s]\n"
          ]
        },
        {
          "output_type": "stream",
          "name": "stdout",
          "text": [
            "Train Loss: 0.2680, Train Acc: 95.53%\n",
            "Test Loss: 0.2778, Test Acc: 95.45%\n",
            "\n",
            "Epoch: 70\n"
          ]
        },
        {
          "output_type": "stream",
          "name": "stderr",
          "text": [
            "Training: 100%|██████████| 121/121 [00:48<00:00,  2.51it/s]\n",
            "Testing: 100%|██████████| 46/46 [00:12<00:00,  3.70it/s]\n"
          ]
        },
        {
          "output_type": "stream",
          "name": "stdout",
          "text": [
            "Train Loss: 0.2650, Train Acc: 96.20%\n",
            "Test Loss: 0.2700, Test Acc: 96.00%\n",
            "\n",
            "Epoch: 71\n"
          ]
        },
        {
          "output_type": "stream",
          "name": "stderr",
          "text": [
            "Training: 100%|██████████| 121/121 [00:48<00:00,  2.49it/s]\n",
            "Testing: 100%|██████████| 46/46 [00:12<00:00,  3.66it/s]\n"
          ]
        },
        {
          "output_type": "stream",
          "name": "stdout",
          "text": [
            "Train Loss: 0.2659, Train Acc: 95.99%\n",
            "Test Loss: 0.2583, Test Acc: 96.69%\n",
            "\n",
            "Epoch: 72\n"
          ]
        },
        {
          "output_type": "stream",
          "name": "stderr",
          "text": [
            "Training: 100%|██████████| 121/121 [00:49<00:00,  2.47it/s]\n",
            "Testing: 100%|██████████| 46/46 [00:12<00:00,  3.71it/s]\n"
          ]
        },
        {
          "output_type": "stream",
          "name": "stdout",
          "text": [
            "Train Loss: 0.2640, Train Acc: 96.05%\n",
            "Test Loss: 0.2512, Test Acc: 97.10%\n",
            "\n",
            "Epoch: 73\n"
          ]
        },
        {
          "output_type": "stream",
          "name": "stderr",
          "text": [
            "Training: 100%|██████████| 121/121 [00:48<00:00,  2.50it/s]\n",
            "Testing: 100%|██████████| 46/46 [00:12<00:00,  3.64it/s]\n"
          ]
        },
        {
          "output_type": "stream",
          "name": "stdout",
          "text": [
            "Train Loss: 0.2580, Train Acc: 96.88%\n",
            "Test Loss: 0.2805, Test Acc: 95.03%\n",
            "\n",
            "Epoch: 74\n"
          ]
        },
        {
          "output_type": "stream",
          "name": "stderr",
          "text": [
            "Training: 100%|██████████| 121/121 [00:48<00:00,  2.47it/s]\n",
            "Testing: 100%|██████████| 46/46 [00:12<00:00,  3.63it/s]\n"
          ]
        },
        {
          "output_type": "stream",
          "name": "stdout",
          "text": [
            "Train Loss: 0.2610, Train Acc: 96.41%\n",
            "Test Loss: 0.2537, Test Acc: 96.83%\n",
            "\n",
            "Epoch: 75\n"
          ]
        },
        {
          "output_type": "stream",
          "name": "stderr",
          "text": [
            "Training: 100%|██████████| 121/121 [00:48<00:00,  2.49it/s]\n",
            "Testing: 100%|██████████| 46/46 [00:12<00:00,  3.60it/s]\n"
          ]
        },
        {
          "output_type": "stream",
          "name": "stdout",
          "text": [
            "Train Loss: 0.2545, Train Acc: 96.72%\n",
            "Test Loss: 0.2525, Test Acc: 96.83%\n",
            "\n",
            "Epoch: 76\n"
          ]
        },
        {
          "output_type": "stream",
          "name": "stderr",
          "text": [
            "Training: 100%|██████████| 121/121 [00:49<00:00,  2.47it/s]\n",
            "Testing: 100%|██████████| 46/46 [00:12<00:00,  3.63it/s]\n"
          ]
        },
        {
          "output_type": "stream",
          "name": "stdout",
          "text": [
            "Train Loss: 0.2548, Train Acc: 96.83%\n",
            "Test Loss: 0.2653, Test Acc: 95.59%\n",
            "\n",
            "Epoch: 77\n"
          ]
        },
        {
          "output_type": "stream",
          "name": "stderr",
          "text": [
            "Training: 100%|██████████| 121/121 [00:48<00:00,  2.51it/s]\n",
            "Testing: 100%|██████████| 46/46 [00:12<00:00,  3.59it/s]\n"
          ]
        },
        {
          "output_type": "stream",
          "name": "stdout",
          "text": [
            "Train Loss: 0.2547, Train Acc: 96.72%\n",
            "Test Loss: 0.2606, Test Acc: 96.69%\n",
            "\n",
            "Epoch: 78\n"
          ]
        },
        {
          "output_type": "stream",
          "name": "stderr",
          "text": [
            "Training: 100%|██████████| 121/121 [00:48<00:00,  2.48it/s]\n",
            "Testing: 100%|██████████| 46/46 [00:12<00:00,  3.64it/s]\n"
          ]
        },
        {
          "output_type": "stream",
          "name": "stdout",
          "text": [
            "Train Loss: 0.2561, Train Acc: 96.31%\n",
            "Test Loss: 0.2695, Test Acc: 95.72%\n",
            "\n",
            "Epoch: 79\n"
          ]
        },
        {
          "output_type": "stream",
          "name": "stderr",
          "text": [
            "Training: 100%|██████████| 121/121 [00:48<00:00,  2.51it/s]\n",
            "Testing: 100%|██████████| 46/46 [00:12<00:00,  3.65it/s]\n"
          ]
        },
        {
          "output_type": "stream",
          "name": "stdout",
          "text": [
            "Train Loss: 0.2497, Train Acc: 96.88%\n",
            "Test Loss: 0.2592, Test Acc: 96.83%\n",
            "\n",
            "Epoch: 80\n"
          ]
        },
        {
          "output_type": "stream",
          "name": "stderr",
          "text": [
            "Training: 100%|██████████| 121/121 [00:48<00:00,  2.50it/s]\n",
            "Testing: 100%|██████████| 46/46 [00:12<00:00,  3.70it/s]\n"
          ]
        },
        {
          "output_type": "stream",
          "name": "stdout",
          "text": [
            "Train Loss: 0.2532, Train Acc: 96.67%\n",
            "Test Loss: 0.2467, Test Acc: 97.24%\n",
            "\n",
            "Epoch: 81\n"
          ]
        },
        {
          "output_type": "stream",
          "name": "stderr",
          "text": [
            "Training: 100%|██████████| 121/121 [00:49<00:00,  2.46it/s]\n",
            "Testing: 100%|██████████| 46/46 [00:12<00:00,  3.73it/s]\n"
          ]
        },
        {
          "output_type": "stream",
          "name": "stdout",
          "text": [
            "Train Loss: 0.2478, Train Acc: 97.24%\n",
            "Test Loss: 0.2493, Test Acc: 96.97%\n",
            "\n",
            "Epoch: 82\n"
          ]
        },
        {
          "output_type": "stream",
          "name": "stderr",
          "text": [
            "Training: 100%|██████████| 121/121 [00:48<00:00,  2.49it/s]\n",
            "Testing: 100%|██████████| 46/46 [00:12<00:00,  3.65it/s]\n"
          ]
        },
        {
          "output_type": "stream",
          "name": "stdout",
          "text": [
            "Train Loss: 0.2468, Train Acc: 97.24%\n",
            "Test Loss: 0.2575, Test Acc: 96.97%\n",
            "\n",
            "Epoch: 83\n"
          ]
        },
        {
          "output_type": "stream",
          "name": "stderr",
          "text": [
            "Training: 100%|██████████| 121/121 [00:48<00:00,  2.51it/s]\n",
            "Testing: 100%|██████████| 46/46 [00:12<00:00,  3.64it/s]\n"
          ]
        },
        {
          "output_type": "stream",
          "name": "stdout",
          "text": [
            "Train Loss: 0.2437, Train Acc: 97.29%\n",
            "Test Loss: 0.2563, Test Acc: 96.69%\n",
            "\n",
            "Epoch: 84\n"
          ]
        },
        {
          "output_type": "stream",
          "name": "stderr",
          "text": [
            "Training: 100%|██████████| 121/121 [00:48<00:00,  2.49it/s]\n",
            "Testing: 100%|██████████| 46/46 [00:12<00:00,  3.65it/s]\n"
          ]
        },
        {
          "output_type": "stream",
          "name": "stdout",
          "text": [
            "Train Loss: 0.2450, Train Acc: 97.71%\n",
            "Test Loss: 0.2505, Test Acc: 97.24%\n",
            "\n",
            "Epoch: 85\n"
          ]
        },
        {
          "output_type": "stream",
          "name": "stderr",
          "text": [
            "Training: 100%|██████████| 121/121 [00:48<00:00,  2.50it/s]\n",
            "Testing: 100%|██████████| 46/46 [00:12<00:00,  3.70it/s]\n"
          ]
        },
        {
          "output_type": "stream",
          "name": "stdout",
          "text": [
            "Train Loss: 0.2429, Train Acc: 97.35%\n",
            "Test Loss: 0.2681, Test Acc: 95.86%\n",
            "\n",
            "Epoch: 86\n"
          ]
        },
        {
          "output_type": "stream",
          "name": "stderr",
          "text": [
            "Training: 100%|██████████| 121/121 [00:48<00:00,  2.50it/s]\n",
            "Testing: 100%|██████████| 46/46 [00:12<00:00,  3.61it/s]\n"
          ]
        },
        {
          "output_type": "stream",
          "name": "stdout",
          "text": [
            "Train Loss: 0.2472, Train Acc: 96.83%\n",
            "Test Loss: 0.2482, Test Acc: 97.10%\n",
            "\n",
            "Epoch: 87\n"
          ]
        },
        {
          "output_type": "stream",
          "name": "stderr",
          "text": [
            "Training: 100%|██████████| 121/121 [00:48<00:00,  2.50it/s]\n",
            "Testing: 100%|██████████| 46/46 [00:12<00:00,  3.70it/s]\n"
          ]
        },
        {
          "output_type": "stream",
          "name": "stdout",
          "text": [
            "Train Loss: 0.2454, Train Acc: 97.14%\n",
            "Test Loss: 0.2643, Test Acc: 96.00%\n",
            "\n",
            "Epoch: 88\n"
          ]
        },
        {
          "output_type": "stream",
          "name": "stderr",
          "text": [
            "Training: 100%|██████████| 121/121 [00:48<00:00,  2.50it/s]\n",
            "Testing: 100%|██████████| 46/46 [00:12<00:00,  3.66it/s]\n"
          ]
        },
        {
          "output_type": "stream",
          "name": "stdout",
          "text": [
            "Train Loss: 0.2420, Train Acc: 97.35%\n",
            "Test Loss: 0.2599, Test Acc: 96.41%\n",
            "\n",
            "Epoch: 89\n"
          ]
        },
        {
          "output_type": "stream",
          "name": "stderr",
          "text": [
            "Training: 100%|██████████| 121/121 [00:47<00:00,  2.52it/s]\n",
            "Testing: 100%|██████████| 46/46 [00:12<00:00,  3.71it/s]\n"
          ]
        },
        {
          "output_type": "stream",
          "name": "stdout",
          "text": [
            "Train Loss: 0.2419, Train Acc: 97.29%\n",
            "Test Loss: 0.2548, Test Acc: 97.10%\n",
            "\n",
            "Epoch: 90\n"
          ]
        },
        {
          "output_type": "stream",
          "name": "stderr",
          "text": [
            "Training: 100%|██████████| 121/121 [00:48<00:00,  2.50it/s]\n",
            "Testing: 100%|██████████| 46/46 [00:12<00:00,  3.70it/s]\n"
          ]
        },
        {
          "output_type": "stream",
          "name": "stdout",
          "text": [
            "Train Loss: 0.2427, Train Acc: 97.45%\n",
            "Test Loss: 0.2563, Test Acc: 96.83%\n",
            "\n",
            "Epoch: 91\n"
          ]
        },
        {
          "output_type": "stream",
          "name": "stderr",
          "text": [
            "Training: 100%|██████████| 121/121 [00:48<00:00,  2.51it/s]\n",
            "Testing: 100%|██████████| 46/46 [00:12<00:00,  3.58it/s]\n"
          ]
        },
        {
          "output_type": "stream",
          "name": "stdout",
          "text": [
            "Train Loss: 0.2367, Train Acc: 98.13%\n",
            "Test Loss: 0.2529, Test Acc: 96.83%\n",
            "\n",
            "Epoch: 92\n"
          ]
        },
        {
          "output_type": "stream",
          "name": "stderr",
          "text": [
            "Training: 100%|██████████| 121/121 [00:48<00:00,  2.49it/s]\n",
            "Testing: 100%|██████████| 46/46 [00:12<00:00,  3.66it/s]\n"
          ]
        },
        {
          "output_type": "stream",
          "name": "stdout",
          "text": [
            "Train Loss: 0.2487, Train Acc: 97.24%\n",
            "Test Loss: 0.2475, Test Acc: 96.83%\n",
            "\n",
            "Epoch: 93\n"
          ]
        },
        {
          "output_type": "stream",
          "name": "stderr",
          "text": [
            "Training: 100%|██████████| 121/121 [00:48<00:00,  2.51it/s]\n",
            "Testing: 100%|██████████| 46/46 [00:12<00:00,  3.67it/s]\n"
          ]
        },
        {
          "output_type": "stream",
          "name": "stdout",
          "text": [
            "Train Loss: 0.2385, Train Acc: 97.87%\n",
            "Test Loss: 0.2596, Test Acc: 96.41%\n",
            "\n",
            "Epoch: 94\n"
          ]
        },
        {
          "output_type": "stream",
          "name": "stderr",
          "text": [
            "Training: 100%|██████████| 121/121 [00:48<00:00,  2.49it/s]\n",
            "Testing: 100%|██████████| 46/46 [00:12<00:00,  3.66it/s]\n"
          ]
        },
        {
          "output_type": "stream",
          "name": "stdout",
          "text": [
            "Train Loss: 0.2372, Train Acc: 97.97%\n",
            "Test Loss: 0.2423, Test Acc: 97.10%\n",
            "\n",
            "Epoch: 95\n"
          ]
        },
        {
          "output_type": "stream",
          "name": "stderr",
          "text": [
            "Training: 100%|██████████| 121/121 [00:48<00:00,  2.50it/s]\n",
            "Testing: 100%|██████████| 46/46 [00:12<00:00,  3.69it/s]\n"
          ]
        },
        {
          "output_type": "stream",
          "name": "stdout",
          "text": [
            "Train Loss: 0.2381, Train Acc: 97.66%\n",
            "Test Loss: 0.2613, Test Acc: 96.69%\n",
            "\n",
            "Epoch: 96\n"
          ]
        },
        {
          "output_type": "stream",
          "name": "stderr",
          "text": [
            "Training: 100%|██████████| 121/121 [00:48<00:00,  2.49it/s]\n",
            "Testing: 100%|██████████| 46/46 [00:12<00:00,  3.63it/s]\n"
          ]
        },
        {
          "output_type": "stream",
          "name": "stdout",
          "text": [
            "Train Loss: 0.2469, Train Acc: 97.40%\n",
            "Test Loss: 0.2583, Test Acc: 96.69%\n",
            "\n",
            "Epoch: 97\n"
          ]
        },
        {
          "output_type": "stream",
          "name": "stderr",
          "text": [
            "Training: 100%|██████████| 121/121 [00:48<00:00,  2.50it/s]\n",
            "Testing: 100%|██████████| 46/46 [00:12<00:00,  3.65it/s]\n"
          ]
        },
        {
          "output_type": "stream",
          "name": "stdout",
          "text": [
            "Train Loss: 0.2393, Train Acc: 97.81%\n",
            "Test Loss: 0.2607, Test Acc: 95.59%\n",
            "\n",
            "Epoch: 98\n"
          ]
        },
        {
          "output_type": "stream",
          "name": "stderr",
          "text": [
            "Training: 100%|██████████| 121/121 [00:49<00:00,  2.47it/s]\n",
            "Testing: 100%|██████████| 46/46 [00:12<00:00,  3.60it/s]\n"
          ]
        },
        {
          "output_type": "stream",
          "name": "stdout",
          "text": [
            "Train Loss: 0.2437, Train Acc: 97.29%\n",
            "Test Loss: 0.2377, Test Acc: 97.66%\n",
            "\n",
            "Epoch: 99\n"
          ]
        },
        {
          "output_type": "stream",
          "name": "stderr",
          "text": [
            "Training: 100%|██████████| 121/121 [00:49<00:00,  2.47it/s]\n",
            "Testing: 100%|██████████| 46/46 [00:12<00:00,  3.65it/s]\n"
          ]
        },
        {
          "output_type": "stream",
          "name": "stdout",
          "text": [
            "Train Loss: 0.2406, Train Acc: 97.61%\n",
            "Test Loss: 0.2532, Test Acc: 96.83%\n",
            "\n",
            "Epoch: 100\n"
          ]
        },
        {
          "output_type": "stream",
          "name": "stderr",
          "text": [
            "Training: 100%|██████████| 121/121 [00:48<00:00,  2.50it/s]\n",
            "Testing: 100%|██████████| 46/46 [00:12<00:00,  3.66it/s]"
          ]
        },
        {
          "output_type": "stream",
          "name": "stdout",
          "text": [
            "Train Loss: 0.2382, Train Acc: 98.13%\n",
            "Test Loss: 0.2668, Test Acc: 96.14%\n",
            "\n",
            "Training finished!\n",
            "Best model performance:\n",
            "Test Loss: 0.2377, Test Acc: 97.66%\n"
          ]
        },
        {
          "output_type": "stream",
          "name": "stderr",
          "text": [
            "\n"
          ]
        }
      ]
    }
  ]
}