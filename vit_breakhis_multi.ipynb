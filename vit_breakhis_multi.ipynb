{
  "nbformat": 4,
  "nbformat_minor": 0,
  "metadata": {
    "colab": {
      "provenance": [],
      "gpuType": "T4"
    },
    "kernelspec": {
      "name": "python3",
      "display_name": "Python 3"
    },
    "language_info": {
      "name": "python"
    },
    "accelerator": "GPU"
  },
  "cells": [
    {
      "cell_type": "markdown",
      "source": [
        "# Building a base Vision Transformer for Multi-class Classification of Breast Cancer Histopathological Dataset(BreaKHis Dataset)\n",
        "\n",
        "\n",
        "\n",
        "*   In this notebook, we've built a ViT, whose parameters are as close to that described in the original Vision Transformers paper titled, \"An Image is Worth 16x16 Words: Transformers for Image Recognition at Scale\".\n",
        "*   Since the dataset can be used for both binary and multi-class classification, for this project, we've narrowed it down to just multi-class classification.\n",
        "*   The dataset also captures the tumours at multiple zoom levels(40x, 100x, 200x and 400x), to remove unnecessary complexity, we've just focused on the 400x zoom images.\n",
        "\n"
      ],
      "metadata": {
        "id": "d41CNmcy-jhS"
      }
    },
    {
      "cell_type": "code",
      "source": [
        "from google.colab import drive\n",
        "drive.mount('/content/drive')"
      ],
      "metadata": {
        "colab": {
          "base_uri": "https://localhost:8080/"
        },
        "id": "hKmjmbAX2Dpe",
        "outputId": "be9ad4f0-e763-46d7-d7d5-72245acc2f47"
      },
      "execution_count": 1,
      "outputs": [
        {
          "output_type": "stream",
          "name": "stdout",
          "text": [
            "Drive already mounted at /content/drive; to attempt to forcibly remount, call drive.mount(\"/content/drive\", force_remount=True).\n"
          ]
        }
      ]
    },
    {
      "cell_type": "markdown",
      "source": [
        "### Importing libraries and setting up device agnostic code"
      ],
      "metadata": {
        "id": "59YmfHQr_tQm"
      }
    },
    {
      "cell_type": "code",
      "execution_count": 2,
      "metadata": {
        "id": "x0QM_D49w5u2"
      },
      "outputs": [],
      "source": [
        "import torch\n",
        "import torch.nn as nn\n",
        "import pandas as pd\n",
        "import numpy as np\n",
        "import matplotlib.pyplot as plt\n",
        "\n",
        "device = \"cuda\" if torch.cuda.is_available() else \"cpu\""
      ]
    },
    {
      "cell_type": "markdown",
      "source": [
        "### Setting up transforms and dataloader"
      ],
      "metadata": {
        "id": "toFAG-LA_zEL"
      }
    },
    {
      "cell_type": "code",
      "source": [
        "from torch.utils.data import DataLoader\n",
        "from torchvision import datasets\n",
        "from torchvision.transforms import v2\n",
        "\n",
        "FLIP_PROBABILITY = 0.1\n",
        "\n",
        "data_transform = v2.Compose([\n",
        "    v2.Resize(size=(224,224)),\n",
        "    v2.RandomHorizontalFlip(p=0.5),\n",
        "    v2.RandomRotation(degrees=(-10,10)),\n",
        "    v2.ColorJitter(brightness=0.05, contrast=0.05, saturation=0.05, hue=0.05),\n",
        "    v2.RandomAffine(degrees=0, translate=(0.05, 0.05)),\n",
        "    v2.ToTensor(),\n",
        "    v2.Normalize(mean=[0.485, 0.456, 0.406], std=[0.229, 0.224, 0.225])  # Add normalization\n",
        "])"
      ],
      "metadata": {
        "colab": {
          "base_uri": "https://localhost:8080/"
        },
        "id": "xD-mbyCLw_5H",
        "outputId": "08d6395d-9f88-49b0-bd97-f1ca264c3606"
      },
      "execution_count": 3,
      "outputs": [
        {
          "output_type": "stream",
          "name": "stderr",
          "text": [
            "/usr/local/lib/python3.10/dist-packages/torchvision/transforms/v2/_deprecated.py:42: UserWarning: The transform `ToTensor()` is deprecated and will be removed in a future release. Instead, please use `v2.Compose([v2.ToImage(), v2.ToDtype(torch.float32, scale=True)])`.Output is equivalent up to float precision.\n",
            "  warnings.warn(\n"
          ]
        }
      ]
    },
    {
      "cell_type": "markdown",
      "source": [
        "### Getting dataset and class labels"
      ],
      "metadata": {
        "id": "PaqIsn80AJjQ"
      }
    },
    {
      "cell_type": "code",
      "source": [
        "train_data = datasets.ImageFolder(root=\"/content/drive/MyDrive/dataset_v3/train\",\n",
        "                                  transform=data_transform,\n",
        "                                  target_transform=None)\n",
        "test_data = datasets.ImageFolder(root=\"/content/drive/MyDrive/dataset_v3/test\",\n",
        "                                  transform=data_transform)\n",
        "class_names = train_data.classes"
      ],
      "metadata": {
        "id": "MHh0jSY2xEeD"
      },
      "execution_count": 4,
      "outputs": []
    },
    {
      "cell_type": "markdown",
      "source": [
        "### Preprocessing the dataset\n",
        "\n",
        "The dataset is imbalanced, as the training and test examples for 'ductal_carcinoma' type of tumour are ~5x that of other cases.\n",
        "\n",
        "So, we've randomly reduced the samples to come on line with the numbers from other cases so it doesn't imbalance the model."
      ],
      "metadata": {
        "id": "fD0MHLjDAOHr"
      }
    },
    {
      "cell_type": "code",
      "source": [
        "from sklearn.utils import resample\n",
        "\n",
        "def balance_dataset(dataset, size):\n",
        "    # Separate data by class\n",
        "    class_data = {i: [] for i in range(len(class_names))}  # For 8 classes\n",
        "\n",
        "    # Group data by class\n",
        "    for idx in range(len(dataset)):\n",
        "        _, label = dataset[idx]\n",
        "        class_data[label].append(idx)\n",
        "\n",
        "    # Randomly sample indices from each class\n",
        "    balanced_indices = []\n",
        "    for class_idx, indices in class_data.items():\n",
        "        # If class has more samples than min_size, downsample it\n",
        "        if len(indices) > size:\n",
        "            balanced_indices.extend(np.random.choice(indices, size=size, replace=False))\n",
        "        else:\n",
        "            balanced_indices.extend(indices)\n",
        "\n",
        "    # Create a subset dataset\n",
        "    from torch.utils.data import Subset\n",
        "    balanced_dataset = Subset(dataset, balanced_indices)\n",
        "\n",
        "    return balanced_dataset\n",
        "\n",
        "balanced_train_data = balance_dataset(train_data, 200)\n",
        "\n",
        "balanced_test_data = balance_dataset(test_data, 50)"
      ],
      "metadata": {
        "id": "Pm_B1RF3L1vs"
      },
      "execution_count": 6,
      "outputs": []
    },
    {
      "cell_type": "markdown",
      "source": [
        "### Loading up the DataLoader"
      ],
      "metadata": {
        "id": "mldmEvj4BEaa"
      }
    },
    {
      "cell_type": "code",
      "source": [
        "from torch.utils.data import DataLoader\n",
        "\n",
        "BATCH_SIZE = 16\n",
        "\n",
        "train_dataloader = DataLoader(balanced_train_data, batch_size=BATCH_SIZE, shuffle=True)\n",
        "test_dataloader = DataLoader(balanced_test_data, batch_size=BATCH_SIZE, shuffle=False)"
      ],
      "metadata": {
        "id": "RjOAVy6XxGUj"
      },
      "execution_count": 7,
      "outputs": []
    },
    {
      "cell_type": "markdown",
      "source": [
        "### Setting up transforms"
      ],
      "metadata": {
        "id": "ziFLQullBHbF"
      }
    },
    {
      "cell_type": "code",
      "source": [
        "train_transform = v2.Compose([\n",
        "    v2.Resize(size=(224,224)),\n",
        "    v2.TrivialAugmentWide(num_magnitude_bins=5),\n",
        "    v2.ToTensor()\n",
        "])\n",
        "\n",
        "test_transform = v2.Compose([\n",
        "    v2.Resize(size=(224,224)),\n",
        "    v2.ToTensor()\n",
        "])"
      ],
      "metadata": {
        "colab": {
          "base_uri": "https://localhost:8080/"
        },
        "id": "XwutTGFZxIWQ",
        "outputId": "bbc54173-139c-42b3-92b9-c32eec32b6c1"
      },
      "execution_count": 8,
      "outputs": [
        {
          "output_type": "stream",
          "name": "stderr",
          "text": [
            "/usr/local/lib/python3.10/dist-packages/torchvision/transforms/v2/_deprecated.py:42: UserWarning: The transform `ToTensor()` is deprecated and will be removed in a future release. Instead, please use `v2.Compose([v2.ToImage(), v2.ToDtype(torch.float32, scale=True)])`.Output is equivalent up to float precision.\n",
            "  warnings.warn(\n"
          ]
        }
      ]
    },
    {
      "cell_type": "markdown",
      "source": [
        "## Implementing the Vision Transformer"
      ],
      "metadata": {
        "id": "slgIViATBM51"
      }
    },
    {
      "cell_type": "markdown",
      "source": [
        "### Defining the Vision Transformer"
      ],
      "metadata": {
        "id": "uriMYWISBQi7"
      }
    },
    {
      "cell_type": "code",
      "source": [
        "class PatchEmbed(nn.Module):\n",
        "    def __init__(self, img_size=224, patch_size=16, in_channels=3, embed_dim=768):\n",
        "        super().__init__()\n",
        "        self.img_size = img_size\n",
        "        self.patch_size = patch_size\n",
        "        self.n_patches = (img_size // patch_size) ** 2\n",
        "\n",
        "        self.proj = nn.Conv2d(\n",
        "            in_channels,\n",
        "            embed_dim,\n",
        "            kernel_size=patch_size,\n",
        "            stride=patch_size\n",
        "        )\n",
        "\n",
        "    def forward(self, x):\n",
        "        x = self.proj(x)  # (B, E, H', W')\n",
        "        x = x.flatten(2)  # (B, E, N)\n",
        "        x = x.transpose(1, 2)  # (B, N, E)\n",
        "        return x\n",
        "\n",
        "class Attention(nn.Module):\n",
        "    def __init__(self, dim, n_heads=12, qkv_bias=True, attn_drop=0.1, proj_drop=0.1):\n",
        "        super().__init__()\n",
        "        self.n_heads = n_heads\n",
        "        self.scale = (dim // n_heads) ** -0.5\n",
        "\n",
        "        self.qkv = nn.Linear(dim, dim * 3, bias=qkv_bias)\n",
        "        self.attn_drop = nn.Dropout(attn_drop)\n",
        "        self.proj = nn.Linear(dim, dim)\n",
        "        self.proj_drop = nn.Dropout(proj_drop)\n",
        "\n",
        "    def forward(self, x):\n",
        "        B, N, C = x.shape\n",
        "        qkv = self.qkv(x).reshape(B, N, 3, self.n_heads, C // self.n_heads).permute(2, 0, 3, 1, 4)\n",
        "        q, k, v = qkv[0], qkv[1], qkv[2]\n",
        "\n",
        "        attn = (q @ k.transpose(-2, -1)) * self.scale\n",
        "        attn = attn.softmax(dim=-1)\n",
        "        attn = self.attn_drop(attn)\n",
        "\n",
        "        x = (attn @ v).transpose(1, 2).reshape(B, N, C)\n",
        "        x = self.proj(x)\n",
        "        x = self.proj_drop(x)\n",
        "        return x\n",
        "\n",
        "class MLP(nn.Module):\n",
        "    def __init__(self, in_features, hidden_features, out_features, drop=0.1):\n",
        "        super().__init__()\n",
        "        self.fc1 = nn.Linear(in_features, hidden_features)\n",
        "        self.act = nn.GELU()\n",
        "        self.fc2 = nn.Linear(hidden_features, out_features)\n",
        "        self.drop = nn.Dropout(drop)\n",
        "\n",
        "    def forward(self, x):\n",
        "        x = self.fc1(x)\n",
        "        x = self.act(x)\n",
        "        x = self.drop(x)\n",
        "        x = self.fc2(x)\n",
        "        x = self.drop(x)\n",
        "        return x\n",
        "\n",
        "class Block(nn.Module):\n",
        "    def __init__(self, dim, n_heads, mlp_ratio=4., qkv_bias=True, drop=0.1, attn_drop=0.1):\n",
        "        super().__init__()\n",
        "        self.norm1 = nn.LayerNorm(dim)\n",
        "        self.attn = Attention(dim, n_heads=n_heads, qkv_bias=qkv_bias, attn_drop=attn_drop, proj_drop=drop)\n",
        "        self.norm2 = nn.LayerNorm(dim)\n",
        "        self.mlp = MLP(dim, int(dim * mlp_ratio), dim, drop)\n",
        "\n",
        "    def forward(self, x):\n",
        "        x = x + self.attn(self.norm1(x))\n",
        "        x = x + self.mlp(self.norm2(x))\n",
        "        return x\n",
        "\n",
        "class VisionTransformer(nn.Module):\n",
        "    def __init__(self, img_size=224, patch_size=16, in_channels=3, num_classes=len(class_names),\n",
        "                 embed_dim=768, depth=12, n_heads=12, mlp_ratio=4., qkv_bias=True,\n",
        "                 drop_rate=0.1, attn_drop_rate=0.1):\n",
        "        super().__init__()\n",
        "        self.patch_embed = PatchEmbed(img_size, patch_size, in_channels, embed_dim)\n",
        "        num_patches = self.patch_embed.n_patches\n",
        "\n",
        "        self.cls_token = nn.Parameter(torch.zeros(1, 1, embed_dim))\n",
        "        self.pos_embed = nn.Parameter(torch.zeros(1, num_patches + 1, embed_dim))\n",
        "        torch.nn.init.trunc_normal_(self.pos_embed, std=0.02)\n",
        "        torch.nn.init.trunc_normal_(self.cls_token, std=0.02)\n",
        "        self.pos_drop = nn.Dropout(drop_rate)\n",
        "\n",
        "        self.blocks = nn.Sequential(*[\n",
        "            Block(embed_dim, n_heads, mlp_ratio, qkv_bias, drop_rate, attn_drop_rate)\n",
        "            for _ in range(depth)\n",
        "        ])\n",
        "\n",
        "        self.norm = nn.LayerNorm(embed_dim)\n",
        "        self.head = nn.Linear(embed_dim, num_classes)\n",
        "\n",
        "    def forward(self, x):\n",
        "        B = x.shape[0]\n",
        "        x = self.patch_embed(x)\n",
        "\n",
        "        cls_token = self.cls_token.expand(B, -1, -1)\n",
        "        x = torch.cat((cls_token, x), dim=1)\n",
        "        x = x + self.pos_embed\n",
        "        x = self.pos_drop(x)\n",
        "\n",
        "        x = self.blocks(x)\n",
        "        x = self.norm(x)\n",
        "\n",
        "        x = x[:, 0]  # take cls token\n",
        "        x = self.head(x)\n",
        "        return x"
      ],
      "metadata": {
        "id": "kfWuFbNKx18d"
      },
      "execution_count": 9,
      "outputs": []
    },
    {
      "cell_type": "markdown",
      "source": [
        "## Running the ViT"
      ],
      "metadata": {
        "id": "enIsTb3_B163"
      }
    },
    {
      "cell_type": "code",
      "source": [
        "from torch.nn import functional as F\n",
        "from tqdm import tqdm\n",
        "import numpy as np\n",
        "from sklearn.metrics import accuracy_score\n",
        "import torch\n",
        "import torch.nn as nn\n",
        "\n",
        "class AverageMeter:\n",
        "    def __init__(self):\n",
        "        self.reset()\n",
        "\n",
        "    def reset(self):\n",
        "        self.val = 0\n",
        "        self.avg = 0\n",
        "        self.sum = 0\n",
        "        self.count = 0\n",
        "\n",
        "    def update(self, val, n=1):\n",
        "        self.val = val\n",
        "        self.sum += val * n\n",
        "        self.count += n\n",
        "        self.avg = self.sum / self.count\n",
        "\n",
        "def train_epoch(model, train_loader, criterion, optimizer, device):\n",
        "    model.train()\n",
        "    losses = AverageMeter()\n",
        "    progress_bar = tqdm(train_loader, desc='Training')\n",
        "\n",
        "    all_predictions = []\n",
        "    all_labels = []\n",
        "\n",
        "    for batch in progress_bar:\n",
        "        images, labels = batch\n",
        "        images = images.to(device)\n",
        "        labels = labels.to(device)\n",
        "\n",
        "        optimizer.zero_grad()\n",
        "        outputs = model(images)\n",
        "        loss = criterion(outputs, labels)\n",
        "\n",
        "        loss.backward()\n",
        "\n",
        "        torch.nn.utils.clip_grad_norm_(model.parameters(), max_norm=1.0)\n",
        "\n",
        "        optimizer.step()\n",
        "\n",
        "        losses.update(loss.item(), images.size(0))\n",
        "        progress_bar.set_postfix({'train_loss': f'{losses.avg:.4f}'})\n",
        "\n",
        "        predictions = torch.argmax(outputs, dim=1)\n",
        "        all_predictions.extend(predictions.cpu().numpy())\n",
        "        all_labels.extend(labels.cpu().numpy())\n",
        "\n",
        "    epoch_accuracy = accuracy_score(all_labels, all_predictions)\n",
        "    return losses.avg, epoch_accuracy\n",
        "\n",
        "def evaluate(model, test_loader, criterion, device):\n",
        "    model.eval()\n",
        "    losses = AverageMeter()\n",
        "\n",
        "    all_predictions = []\n",
        "    all_labels = []\n",
        "\n",
        "    with torch.no_grad():\n",
        "        progress_bar = tqdm(test_loader, desc='Testing')\n",
        "        for batch in progress_bar:\n",
        "            images, labels = batch\n",
        "            images = images.to(device)\n",
        "            labels = labels.to(device)\n",
        "\n",
        "            outputs = model(images)\n",
        "            loss = criterion(outputs, labels)\n",
        "\n",
        "            losses.update(loss.item(), images.size(0))\n",
        "            progress_bar.set_postfix({'test_loss': f'{losses.avg:.4f}'})\n",
        "\n",
        "            predictions = torch.argmax(outputs, dim=1)\n",
        "            all_predictions.extend(predictions.cpu().numpy())\n",
        "            all_labels.extend(labels.cpu().numpy())\n",
        "\n",
        "    accuracy = accuracy_score(all_labels, all_predictions)\n",
        "    return losses.avg, accuracy\n",
        "\n",
        "def train_model(model, train_loader, test_loader, num_epochs=100):\n",
        "    device = torch.device('cuda' if torch.cuda.is_available() else 'cpu')\n",
        "    model = model.to(device)\n",
        "    criterion = nn.CrossEntropyLoss(label_smoothing=0.1)\n",
        "    optimizer = torch.optim.AdamW(\n",
        "        model.parameters(),\n",
        "        lr=5e-5,\n",
        "        weight_decay=0.02,\n",
        "        betas=(0.9, 0.999)\n",
        "    )\n",
        "    steps_per_epoch = len(train_loader)\n",
        "    total_steps = steps_per_epoch * num_epochs\n",
        "    scheduler = torch.optim.lr_scheduler.OneCycleLR(\n",
        "        optimizer,\n",
        "        max_lr=5e-4,\n",
        "        total_steps=total_steps,\n",
        "        pct_start=0.2,\n",
        "        anneal_strategy='cos',\n",
        "        cycle_momentum=True,\n",
        "        base_momentum=0.85,\n",
        "        max_momentum=0.95,\n",
        "        div_factor=10.0,\n",
        "        final_div_factor=1000.0\n",
        "    )\n",
        "\n",
        "    # Add tracking for best model\n",
        "    best_accuracy = 0.0\n",
        "    best_model_state = None\n",
        "    best_epoch = 0\n",
        "    best_test_loss = float('inf')\n",
        "\n",
        "    print(\"Starting training...\")\n",
        "    for epoch in range(num_epochs):\n",
        "        print(f\"\\nEpoch {epoch+1}/{num_epochs}\")\n",
        "        train_loss, train_accuracy = train_epoch(\n",
        "            model, train_loader, criterion, optimizer, device\n",
        "        )\n",
        "        test_loss, test_accuracy = evaluate(\n",
        "            model, test_loader, criterion, device\n",
        "        )\n",
        "        scheduler.step()\n",
        "\n",
        "        # Save best model\n",
        "        if test_accuracy > best_accuracy:\n",
        "            best_accuracy = test_accuracy\n",
        "            best_test_loss = test_loss\n",
        "            best_model_state = model.state_dict().copy()\n",
        "            best_epoch = epoch + 1\n",
        "\n",
        "            # Save the checkpoint with all necessary information\n",
        "            checkpoint = {\n",
        "                'epoch': epoch + 1,\n",
        "                'model_state_dict': model.state_dict(),\n",
        "                'optimizer_state_dict': optimizer.state_dict(),\n",
        "                'scheduler_state_dict': scheduler.state_dict(),\n",
        "                'train_loss': train_loss,\n",
        "                'train_accuracy': train_accuracy,\n",
        "                'test_loss': test_loss,\n",
        "                'test_accuracy': test_accuracy,\n",
        "                'best_accuracy': best_accuracy\n",
        "            }\n",
        "            torch.save(checkpoint, 'best_vit_model.pth')\n",
        "            print(f\"New best model saved! Accuracy: {best_accuracy:.4f}\")\n",
        "\n",
        "        if epoch % 10 == 0:\n",
        "            print(f\"Train Loss: {train_loss:.4f} | Train Accuracy: {train_accuracy:.4f}\")\n",
        "            print(f\"Test Loss: {test_loss:.4f} | Test Accuracy: {test_accuracy:.4f}\")\n",
        "\n",
        "    # Load best model before returning\n",
        "    if best_model_state is not None:\n",
        "        model.load_state_dict(best_model_state)\n",
        "        print(f\"\\nLoaded best model from epoch {best_epoch}\")\n",
        "        print(f\"Best Test Metrics:\")\n",
        "        print(f\"Test Loss: {best_test_loss:.4f}\")\n",
        "        print(f\"Test Accuracy: {best_accuracy:.4f}\")\n",
        "\n",
        "    return model, best_accuracy\n",
        "\n",
        "# Initialize model\n",
        "model = VisionTransformer(\n",
        "    img_size=224,\n",
        "    patch_size=16,\n",
        "    in_channels=3,\n",
        "    num_classes=len(class_names),\n",
        "    embed_dim=384,\n",
        "    depth=8,\n",
        "    n_heads=8,\n",
        "    mlp_ratio=4,\n",
        "    qkv_bias=True,\n",
        "    drop_rate=0.15\n",
        ")\n",
        "\n",
        "# Train the model\n",
        "trained_model, best_accuracy = train_model(\n",
        "    model,\n",
        "    train_dataloader,\n",
        "    test_dataloader,\n",
        "    num_epochs=100\n",
        ")\n",
        "print(f\"\\nTraining completed!\")\n",
        "print(f\"Best test accuracy achieved: {best_accuracy:.4f}\")\n",
        "\n",
        "# To load the saved model later, you can use:\n",
        "\"\"\"\n",
        "checkpoint = torch.load('best_vit_model.pth')\n",
        "model.load_state_dict(checkpoint['model_state_dict'])\n",
        "optimizer.load_state_dict(checkpoint['optimizer_state_dict'])\n",
        "scheduler.load_state_dict(checkpoint['scheduler_state_dict'])\n",
        "best_accuracy = checkpoint['best_accuracy']\n",
        "\"\"\""
      ],
      "metadata": {
        "colab": {
          "base_uri": "https://localhost:8080/",
          "height": 1000
        },
        "id": "qqFWualN0qMH",
        "outputId": "f904209e-be0a-4f08-f304-d0e104600784"
      },
      "execution_count": 10,
      "outputs": [
        {
          "output_type": "stream",
          "name": "stdout",
          "text": [
            "Starting training...\n",
            "\n",
            "Epoch 1/100\n"
          ]
        },
        {
          "output_type": "stream",
          "name": "stderr",
          "text": [
            "Training: 100%|██████████| 64/64 [00:22<00:00,  2.86it/s, train_loss=2.0223]\n",
            "Testing: 100%|██████████| 17/17 [00:04<00:00,  4.19it/s, test_loss=1.9284]\n"
          ]
        },
        {
          "output_type": "stream",
          "name": "stdout",
          "text": [
            "New best model saved! Accuracy: 0.2857\n",
            "Train Loss: 2.0223 | Train Accuracy: 0.2454\n",
            "Test Loss: 1.9284 | Test Accuracy: 0.2857\n",
            "\n",
            "Epoch 2/100\n"
          ]
        },
        {
          "output_type": "stream",
          "name": "stderr",
          "text": [
            "Training: 100%|██████████| 64/64 [00:20<00:00,  3.14it/s, train_loss=1.8943]\n",
            "Testing: 100%|██████████| 17/17 [00:04<00:00,  3.56it/s, test_loss=1.8885]\n"
          ]
        },
        {
          "output_type": "stream",
          "name": "stdout",
          "text": [
            "New best model saved! Accuracy: 0.3243\n",
            "\n",
            "Epoch 3/100\n"
          ]
        },
        {
          "output_type": "stream",
          "name": "stderr",
          "text": [
            "Training: 100%|██████████| 64/64 [00:20<00:00,  3.10it/s, train_loss=1.8499]\n",
            "Testing: 100%|██████████| 17/17 [00:04<00:00,  3.92it/s, test_loss=1.8510]\n"
          ]
        },
        {
          "output_type": "stream",
          "name": "stdout",
          "text": [
            "\n",
            "Epoch 4/100\n"
          ]
        },
        {
          "output_type": "stream",
          "name": "stderr",
          "text": [
            "Training: 100%|██████████| 64/64 [00:20<00:00,  3.15it/s, train_loss=1.8276]\n",
            "Testing: 100%|██████████| 17/17 [00:03<00:00,  4.31it/s, test_loss=1.8507]\n"
          ]
        },
        {
          "output_type": "stream",
          "name": "stdout",
          "text": [
            "New best model saved! Accuracy: 0.4015\n",
            "\n",
            "Epoch 5/100\n"
          ]
        },
        {
          "output_type": "stream",
          "name": "stderr",
          "text": [
            "Training: 100%|██████████| 64/64 [00:21<00:00,  2.92it/s, train_loss=1.7915]\n",
            "Testing: 100%|██████████| 17/17 [00:03<00:00,  4.44it/s, test_loss=1.8233]\n"
          ]
        },
        {
          "output_type": "stream",
          "name": "stdout",
          "text": [
            "\n",
            "Epoch 6/100\n"
          ]
        },
        {
          "output_type": "stream",
          "name": "stderr",
          "text": [
            "Training: 100%|██████████| 64/64 [00:20<00:00,  3.06it/s, train_loss=1.7779]\n",
            "Testing: 100%|██████████| 17/17 [00:03<00:00,  4.40it/s, test_loss=1.7263]\n"
          ]
        },
        {
          "output_type": "stream",
          "name": "stdout",
          "text": [
            "\n",
            "Epoch 7/100\n"
          ]
        },
        {
          "output_type": "stream",
          "name": "stderr",
          "text": [
            "Training: 100%|██████████| 64/64 [00:20<00:00,  3.14it/s, train_loss=1.7218]\n",
            "Testing: 100%|██████████| 17/17 [00:04<00:00,  3.68it/s, test_loss=1.7091]\n"
          ]
        },
        {
          "output_type": "stream",
          "name": "stdout",
          "text": [
            "\n",
            "Epoch 8/100\n"
          ]
        },
        {
          "output_type": "stream",
          "name": "stderr",
          "text": [
            "Training: 100%|██████████| 64/64 [00:20<00:00,  3.12it/s, train_loss=1.6911]\n",
            "Testing: 100%|██████████| 17/17 [00:04<00:00,  3.83it/s, test_loss=1.7854]\n"
          ]
        },
        {
          "output_type": "stream",
          "name": "stdout",
          "text": [
            "\n",
            "Epoch 9/100\n"
          ]
        },
        {
          "output_type": "stream",
          "name": "stderr",
          "text": [
            "Training: 100%|██████████| 64/64 [00:20<00:00,  3.11it/s, train_loss=1.6972]\n",
            "Testing: 100%|██████████| 17/17 [00:03<00:00,  4.37it/s, test_loss=1.7284]\n"
          ]
        },
        {
          "output_type": "stream",
          "name": "stdout",
          "text": [
            "New best model saved! Accuracy: 0.4286\n",
            "\n",
            "Epoch 10/100\n"
          ]
        },
        {
          "output_type": "stream",
          "name": "stderr",
          "text": [
            "Training: 100%|██████████| 64/64 [00:21<00:00,  3.02it/s, train_loss=1.6655]\n",
            "Testing: 100%|██████████| 17/17 [00:03<00:00,  4.41it/s, test_loss=1.6147]\n"
          ]
        },
        {
          "output_type": "stream",
          "name": "stdout",
          "text": [
            "New best model saved! Accuracy: 0.4865\n",
            "\n",
            "Epoch 11/100\n"
          ]
        },
        {
          "output_type": "stream",
          "name": "stderr",
          "text": [
            "Training: 100%|██████████| 64/64 [00:21<00:00,  3.02it/s, train_loss=1.5832]\n",
            "Testing: 100%|██████████| 17/17 [00:03<00:00,  4.33it/s, test_loss=1.6972]\n"
          ]
        },
        {
          "output_type": "stream",
          "name": "stdout",
          "text": [
            "Train Loss: 1.5832 | Train Accuracy: 0.4594\n",
            "Test Loss: 1.6972 | Test Accuracy: 0.4054\n",
            "\n",
            "Epoch 12/100\n"
          ]
        },
        {
          "output_type": "stream",
          "name": "stderr",
          "text": [
            "Training: 100%|██████████| 64/64 [00:20<00:00,  3.07it/s, train_loss=1.5587]\n",
            "Testing: 100%|██████████| 17/17 [00:04<00:00,  3.90it/s, test_loss=1.7578]\n"
          ]
        },
        {
          "output_type": "stream",
          "name": "stdout",
          "text": [
            "\n",
            "Epoch 13/100\n"
          ]
        },
        {
          "output_type": "stream",
          "name": "stderr",
          "text": [
            "Training: 100%|██████████| 64/64 [00:20<00:00,  3.11it/s, train_loss=1.5366]\n",
            "Testing: 100%|██████████| 17/17 [00:04<00:00,  3.49it/s, test_loss=1.5681]\n"
          ]
        },
        {
          "output_type": "stream",
          "name": "stdout",
          "text": [
            "\n",
            "Epoch 14/100\n"
          ]
        },
        {
          "output_type": "stream",
          "name": "stderr",
          "text": [
            "Training: 100%|██████████| 64/64 [00:20<00:00,  3.09it/s, train_loss=1.4620]\n",
            "Testing: 100%|██████████| 17/17 [00:03<00:00,  4.28it/s, test_loss=1.6037]\n"
          ]
        },
        {
          "output_type": "stream",
          "name": "stdout",
          "text": [
            "New best model saved! Accuracy: 0.4981\n",
            "\n",
            "Epoch 15/100\n"
          ]
        },
        {
          "output_type": "stream",
          "name": "stderr",
          "text": [
            "Training: 100%|██████████| 64/64 [00:21<00:00,  3.03it/s, train_loss=1.4931]\n",
            "Testing: 100%|██████████| 17/17 [00:03<00:00,  4.26it/s, test_loss=1.5532]\n"
          ]
        },
        {
          "output_type": "stream",
          "name": "stdout",
          "text": [
            "\n",
            "Epoch 16/100\n"
          ]
        },
        {
          "output_type": "stream",
          "name": "stderr",
          "text": [
            "Training: 100%|██████████| 64/64 [00:27<00:00,  2.31it/s, train_loss=1.4560]\n",
            "Testing: 100%|██████████| 17/17 [00:05<00:00,  3.38it/s, test_loss=1.5270]\n"
          ]
        },
        {
          "output_type": "stream",
          "name": "stdout",
          "text": [
            "\n",
            "Epoch 17/100\n"
          ]
        },
        {
          "output_type": "stream",
          "name": "stderr",
          "text": [
            "Training: 100%|██████████| 64/64 [00:20<00:00,  3.08it/s, train_loss=1.4265]\n",
            "Testing: 100%|██████████| 17/17 [00:03<00:00,  4.35it/s, test_loss=1.6693]\n"
          ]
        },
        {
          "output_type": "stream",
          "name": "stdout",
          "text": [
            "\n",
            "Epoch 18/100\n"
          ]
        },
        {
          "output_type": "stream",
          "name": "stderr",
          "text": [
            "Training: 100%|██████████| 64/64 [00:21<00:00,  3.02it/s, train_loss=1.3946]\n",
            "Testing: 100%|██████████| 17/17 [00:03<00:00,  4.44it/s, test_loss=1.5023]\n"
          ]
        },
        {
          "output_type": "stream",
          "name": "stdout",
          "text": [
            "\n",
            "Epoch 19/100\n"
          ]
        },
        {
          "output_type": "stream",
          "name": "stderr",
          "text": [
            "Training: 100%|██████████| 64/64 [00:22<00:00,  2.89it/s, train_loss=1.3098]\n",
            "Testing: 100%|██████████| 17/17 [00:03<00:00,  4.37it/s, test_loss=1.4174]\n"
          ]
        },
        {
          "output_type": "stream",
          "name": "stdout",
          "text": [
            "New best model saved! Accuracy: 0.5483\n",
            "\n",
            "Epoch 20/100\n"
          ]
        },
        {
          "output_type": "stream",
          "name": "stderr",
          "text": [
            "Training: 100%|██████████| 64/64 [00:21<00:00,  2.99it/s, train_loss=1.3138]\n",
            "Testing: 100%|██████████| 17/17 [00:04<00:00,  3.90it/s, test_loss=1.4550]\n"
          ]
        },
        {
          "output_type": "stream",
          "name": "stdout",
          "text": [
            "New best model saved! Accuracy: 0.5560\n",
            "\n",
            "Epoch 21/100\n"
          ]
        },
        {
          "output_type": "stream",
          "name": "stderr",
          "text": [
            "Training: 100%|██████████| 64/64 [00:20<00:00,  3.09it/s, train_loss=1.2567]\n",
            "Testing: 100%|██████████| 17/17 [00:04<00:00,  3.53it/s, test_loss=1.4163]\n"
          ]
        },
        {
          "output_type": "stream",
          "name": "stdout",
          "text": [
            "New best model saved! Accuracy: 0.6100\n",
            "Train Loss: 1.2567 | Train Accuracy: 0.6197\n",
            "Test Loss: 1.4163 | Test Accuracy: 0.6100\n",
            "\n",
            "Epoch 22/100\n"
          ]
        },
        {
          "output_type": "stream",
          "name": "stderr",
          "text": [
            "Training: 100%|██████████| 64/64 [00:20<00:00,  3.06it/s, train_loss=1.2525]\n",
            "Testing: 100%|██████████| 17/17 [00:04<00:00,  3.84it/s, test_loss=1.3464]\n"
          ]
        },
        {
          "output_type": "stream",
          "name": "stdout",
          "text": [
            "\n",
            "Epoch 23/100\n"
          ]
        },
        {
          "output_type": "stream",
          "name": "stderr",
          "text": [
            "Training: 100%|██████████| 64/64 [00:20<00:00,  3.06it/s, train_loss=1.2688]\n",
            "Testing: 100%|██████████| 17/17 [00:03<00:00,  4.30it/s, test_loss=1.3964]\n"
          ]
        },
        {
          "output_type": "stream",
          "name": "stdout",
          "text": [
            "\n",
            "Epoch 24/100\n"
          ]
        },
        {
          "output_type": "stream",
          "name": "stderr",
          "text": [
            "Training: 100%|██████████| 64/64 [00:21<00:00,  2.96it/s, train_loss=1.1993]\n",
            "Testing: 100%|██████████| 17/17 [00:03<00:00,  4.36it/s, test_loss=1.3805]\n"
          ]
        },
        {
          "output_type": "stream",
          "name": "stdout",
          "text": [
            "New best model saved! Accuracy: 0.6139\n",
            "\n",
            "Epoch 25/100\n"
          ]
        },
        {
          "output_type": "stream",
          "name": "stderr",
          "text": [
            "Training: 100%|██████████| 64/64 [00:21<00:00,  2.96it/s, train_loss=1.2002]\n",
            "Testing: 100%|██████████| 17/17 [00:03<00:00,  4.30it/s, test_loss=1.3404]\n"
          ]
        },
        {
          "output_type": "stream",
          "name": "stdout",
          "text": [
            "New best model saved! Accuracy: 0.6293\n",
            "\n",
            "Epoch 26/100\n"
          ]
        },
        {
          "output_type": "stream",
          "name": "stderr",
          "text": [
            "Training: 100%|██████████| 64/64 [00:21<00:00,  2.93it/s, train_loss=1.2144]\n",
            "Testing: 100%|██████████| 17/17 [00:04<00:00,  4.13it/s, test_loss=1.3975]\n"
          ]
        },
        {
          "output_type": "stream",
          "name": "stdout",
          "text": [
            "\n",
            "Epoch 27/100\n"
          ]
        },
        {
          "output_type": "stream",
          "name": "stderr",
          "text": [
            "Training: 100%|██████████| 64/64 [00:20<00:00,  3.09it/s, train_loss=1.1752]\n",
            "Testing: 100%|██████████| 17/17 [00:04<00:00,  3.57it/s, test_loss=1.5581]\n"
          ]
        },
        {
          "output_type": "stream",
          "name": "stdout",
          "text": [
            "\n",
            "Epoch 28/100\n"
          ]
        },
        {
          "output_type": "stream",
          "name": "stderr",
          "text": [
            "Training: 100%|██████████| 64/64 [00:20<00:00,  3.10it/s, train_loss=1.1756]\n",
            "Testing: 100%|██████████| 17/17 [00:04<00:00,  3.93it/s, test_loss=1.3849]\n"
          ]
        },
        {
          "output_type": "stream",
          "name": "stdout",
          "text": [
            "\n",
            "Epoch 29/100\n"
          ]
        },
        {
          "output_type": "stream",
          "name": "stderr",
          "text": [
            "Training: 100%|██████████| 64/64 [00:21<00:00,  3.03it/s, train_loss=1.1439]\n",
            "Testing: 100%|██████████| 17/17 [00:03<00:00,  4.34it/s, test_loss=1.3389]\n"
          ]
        },
        {
          "output_type": "stream",
          "name": "stdout",
          "text": [
            "New best model saved! Accuracy: 0.6448\n",
            "\n",
            "Epoch 30/100\n"
          ]
        },
        {
          "output_type": "stream",
          "name": "stderr",
          "text": [
            "Training: 100%|██████████| 64/64 [00:21<00:00,  2.96it/s, train_loss=1.1137]\n",
            "Testing: 100%|██████████| 17/17 [00:04<00:00,  4.21it/s, test_loss=1.2277]\n"
          ]
        },
        {
          "output_type": "stream",
          "name": "stdout",
          "text": [
            "New best model saved! Accuracy: 0.6525\n",
            "\n",
            "Epoch 31/100\n"
          ]
        },
        {
          "output_type": "stream",
          "name": "stderr",
          "text": [
            "Training: 100%|██████████| 64/64 [00:21<00:00,  2.97it/s, train_loss=1.0931]\n",
            "Testing: 100%|██████████| 17/17 [00:04<00:00,  4.24it/s, test_loss=1.3628]\n"
          ]
        },
        {
          "output_type": "stream",
          "name": "stdout",
          "text": [
            "Train Loss: 1.0931 | Train Accuracy: 0.7038\n",
            "Test Loss: 1.3628 | Test Accuracy: 0.6178\n",
            "\n",
            "Epoch 32/100\n"
          ]
        },
        {
          "output_type": "stream",
          "name": "stderr",
          "text": [
            "Training: 100%|██████████| 64/64 [00:21<00:00,  3.00it/s, train_loss=1.1034]\n",
            "Testing: 100%|██████████| 17/17 [00:04<00:00,  4.20it/s, test_loss=1.2618]\n"
          ]
        },
        {
          "output_type": "stream",
          "name": "stdout",
          "text": [
            "\n",
            "Epoch 33/100\n"
          ]
        },
        {
          "output_type": "stream",
          "name": "stderr",
          "text": [
            "Training: 100%|██████████| 64/64 [00:20<00:00,  3.06it/s, train_loss=1.0655]\n",
            "Testing: 100%|██████████| 17/17 [00:04<00:00,  3.57it/s, test_loss=1.2349]\n"
          ]
        },
        {
          "output_type": "stream",
          "name": "stdout",
          "text": [
            "\n",
            "Epoch 34/100\n"
          ]
        },
        {
          "output_type": "stream",
          "name": "stderr",
          "text": [
            "Training: 100%|██████████| 64/64 [00:20<00:00,  3.07it/s, train_loss=1.0765]\n",
            "Testing: 100%|██████████| 17/17 [00:04<00:00,  3.80it/s, test_loss=1.1893]\n"
          ]
        },
        {
          "output_type": "stream",
          "name": "stdout",
          "text": [
            "New best model saved! Accuracy: 0.6795\n",
            "\n",
            "Epoch 35/100\n"
          ]
        },
        {
          "output_type": "stream",
          "name": "stderr",
          "text": [
            "Training: 100%|██████████| 64/64 [00:20<00:00,  3.05it/s, train_loss=1.0491]\n",
            "Testing: 100%|██████████| 17/17 [00:04<00:00,  4.19it/s, test_loss=1.2647]\n"
          ]
        },
        {
          "output_type": "stream",
          "name": "stdout",
          "text": [
            "\n",
            "Epoch 36/100\n"
          ]
        },
        {
          "output_type": "stream",
          "name": "stderr",
          "text": [
            "Training: 100%|██████████| 64/64 [00:21<00:00,  3.01it/s, train_loss=1.1101]\n",
            "Testing: 100%|██████████| 17/17 [00:03<00:00,  4.31it/s, test_loss=1.1919]\n"
          ]
        },
        {
          "output_type": "stream",
          "name": "stdout",
          "text": [
            "New best model saved! Accuracy: 0.6834\n",
            "\n",
            "Epoch 37/100\n"
          ]
        },
        {
          "output_type": "stream",
          "name": "stderr",
          "text": [
            "Training: 100%|██████████| 64/64 [00:21<00:00,  2.99it/s, train_loss=1.0269]\n",
            "Testing: 100%|██████████| 17/17 [00:04<00:00,  4.25it/s, test_loss=1.1846]\n"
          ]
        },
        {
          "output_type": "stream",
          "name": "stdout",
          "text": [
            "New best model saved! Accuracy: 0.6911\n",
            "\n",
            "Epoch 38/100\n"
          ]
        },
        {
          "output_type": "stream",
          "name": "stderr",
          "text": [
            "Training: 100%|██████████| 64/64 [00:21<00:00,  2.97it/s, train_loss=1.0128]\n",
            "Testing: 100%|██████████| 17/17 [00:03<00:00,  4.33it/s, test_loss=1.1593]\n"
          ]
        },
        {
          "output_type": "stream",
          "name": "stdout",
          "text": [
            "\n",
            "Epoch 39/100\n"
          ]
        },
        {
          "output_type": "stream",
          "name": "stderr",
          "text": [
            "Training: 100%|██████████| 64/64 [00:21<00:00,  3.03it/s, train_loss=0.9893]\n",
            "Testing: 100%|██████████| 17/17 [00:04<00:00,  3.74it/s, test_loss=1.2806]\n"
          ]
        },
        {
          "output_type": "stream",
          "name": "stdout",
          "text": [
            "\n",
            "Epoch 40/100\n"
          ]
        },
        {
          "output_type": "stream",
          "name": "stderr",
          "text": [
            "Training: 100%|██████████| 64/64 [00:20<00:00,  3.10it/s, train_loss=1.0129]\n",
            "Testing: 100%|██████████| 17/17 [00:04<00:00,  3.71it/s, test_loss=1.1964]\n"
          ]
        },
        {
          "output_type": "stream",
          "name": "stdout",
          "text": [
            "\n",
            "Epoch 41/100\n"
          ]
        },
        {
          "output_type": "stream",
          "name": "stderr",
          "text": [
            "Training: 100%|██████████| 64/64 [00:20<00:00,  3.10it/s, train_loss=0.9976]\n",
            "Testing: 100%|██████████| 17/17 [00:03<00:00,  4.30it/s, test_loss=1.2373]\n"
          ]
        },
        {
          "output_type": "stream",
          "name": "stdout",
          "text": [
            "Train Loss: 0.9976 | Train Accuracy: 0.7429\n",
            "Test Loss: 1.2373 | Test Accuracy: 0.6795\n",
            "\n",
            "Epoch 42/100\n"
          ]
        },
        {
          "output_type": "stream",
          "name": "stderr",
          "text": [
            "Training: 100%|██████████| 64/64 [00:21<00:00,  2.98it/s, train_loss=0.9656]\n",
            "Testing: 100%|██████████| 17/17 [00:03<00:00,  4.36it/s, test_loss=1.1713]\n"
          ]
        },
        {
          "output_type": "stream",
          "name": "stdout",
          "text": [
            "New best model saved! Accuracy: 0.6988\n",
            "\n",
            "Epoch 43/100\n"
          ]
        },
        {
          "output_type": "stream",
          "name": "stderr",
          "text": [
            "Training: 100%|██████████| 64/64 [00:21<00:00,  2.97it/s, train_loss=0.9533]\n",
            "Testing: 100%|██████████| 17/17 [00:03<00:00,  4.39it/s, test_loss=1.4480]\n"
          ]
        },
        {
          "output_type": "stream",
          "name": "stdout",
          "text": [
            "\n",
            "Epoch 44/100\n"
          ]
        },
        {
          "output_type": "stream",
          "name": "stderr",
          "text": [
            "Training: 100%|██████████| 64/64 [00:21<00:00,  3.02it/s, train_loss=0.9699]\n",
            "Testing: 100%|██████████| 17/17 [00:04<00:00,  3.96it/s, test_loss=1.0343]\n"
          ]
        },
        {
          "output_type": "stream",
          "name": "stdout",
          "text": [
            "New best model saved! Accuracy: 0.7490\n",
            "\n",
            "Epoch 45/100\n"
          ]
        },
        {
          "output_type": "stream",
          "name": "stderr",
          "text": [
            "Training: 100%|██████████| 64/64 [00:20<00:00,  3.06it/s, train_loss=0.9692]\n",
            "Testing: 100%|██████████| 17/17 [00:04<00:00,  3.75it/s, test_loss=1.2055]\n"
          ]
        },
        {
          "output_type": "stream",
          "name": "stdout",
          "text": [
            "\n",
            "Epoch 46/100\n"
          ]
        },
        {
          "output_type": "stream",
          "name": "stderr",
          "text": [
            "Training: 100%|██████████| 64/64 [00:20<00:00,  3.06it/s, train_loss=0.9387]\n",
            "Testing: 100%|██████████| 17/17 [00:04<00:00,  3.73it/s, test_loss=1.1242]\n"
          ]
        },
        {
          "output_type": "stream",
          "name": "stdout",
          "text": [
            "\n",
            "Epoch 47/100\n"
          ]
        },
        {
          "output_type": "stream",
          "name": "stderr",
          "text": [
            "Training: 100%|██████████| 64/64 [00:20<00:00,  3.05it/s, train_loss=0.9455]\n",
            "Testing: 100%|██████████| 17/17 [00:03<00:00,  4.26it/s, test_loss=1.4309]\n"
          ]
        },
        {
          "output_type": "stream",
          "name": "stdout",
          "text": [
            "\n",
            "Epoch 48/100\n"
          ]
        },
        {
          "output_type": "stream",
          "name": "stderr",
          "text": [
            "Training: 100%|██████████| 64/64 [00:21<00:00,  2.97it/s, train_loss=0.9237]\n",
            "Testing: 100%|██████████| 17/17 [00:03<00:00,  4.26it/s, test_loss=1.1734]\n"
          ]
        },
        {
          "output_type": "stream",
          "name": "stdout",
          "text": [
            "\n",
            "Epoch 49/100\n"
          ]
        },
        {
          "output_type": "stream",
          "name": "stderr",
          "text": [
            "Training: 100%|██████████| 64/64 [00:21<00:00,  2.99it/s, train_loss=0.9187]\n",
            "Testing: 100%|██████████| 17/17 [00:03<00:00,  4.26it/s, test_loss=1.2012]\n"
          ]
        },
        {
          "output_type": "stream",
          "name": "stdout",
          "text": [
            "\n",
            "Epoch 50/100\n"
          ]
        },
        {
          "output_type": "stream",
          "name": "stderr",
          "text": [
            "Training: 100%|██████████| 64/64 [00:21<00:00,  3.00it/s, train_loss=0.9337]\n",
            "Testing: 100%|██████████| 17/17 [00:04<00:00,  4.04it/s, test_loss=1.3342]\n"
          ]
        },
        {
          "output_type": "stream",
          "name": "stdout",
          "text": [
            "\n",
            "Epoch 51/100\n"
          ]
        },
        {
          "output_type": "stream",
          "name": "stderr",
          "text": [
            "Training: 100%|██████████| 64/64 [00:20<00:00,  3.06it/s, train_loss=0.8963]\n",
            "Testing: 100%|██████████| 17/17 [00:04<00:00,  3.62it/s, test_loss=1.0479]\n"
          ]
        },
        {
          "output_type": "stream",
          "name": "stdout",
          "text": [
            "New best model saved! Accuracy: 0.7568\n",
            "Train Loss: 0.8963 | Train Accuracy: 0.7908\n",
            "Test Loss: 1.0479 | Test Accuracy: 0.7568\n",
            "\n",
            "Epoch 52/100\n"
          ]
        },
        {
          "output_type": "stream",
          "name": "stderr",
          "text": [
            "Training: 100%|██████████| 64/64 [00:20<00:00,  3.07it/s, train_loss=0.8957]\n",
            "Testing: 100%|██████████| 17/17 [00:04<00:00,  3.57it/s, test_loss=1.3480]\n"
          ]
        },
        {
          "output_type": "stream",
          "name": "stdout",
          "text": [
            "\n",
            "Epoch 53/100\n"
          ]
        },
        {
          "output_type": "stream",
          "name": "stderr",
          "text": [
            "Training: 100%|██████████| 64/64 [00:20<00:00,  3.07it/s, train_loss=0.9035]\n",
            "Testing: 100%|██████████| 17/17 [00:04<00:00,  4.08it/s, test_loss=1.0313]\n"
          ]
        },
        {
          "output_type": "stream",
          "name": "stdout",
          "text": [
            "New best model saved! Accuracy: 0.7645\n",
            "\n",
            "Epoch 54/100\n"
          ]
        },
        {
          "output_type": "stream",
          "name": "stderr",
          "text": [
            "Training: 100%|██████████| 64/64 [00:21<00:00,  3.00it/s, train_loss=0.8640]\n",
            "Testing: 100%|██████████| 17/17 [00:03<00:00,  4.39it/s, test_loss=1.0862]\n"
          ]
        },
        {
          "output_type": "stream",
          "name": "stdout",
          "text": [
            "\n",
            "Epoch 55/100\n"
          ]
        },
        {
          "output_type": "stream",
          "name": "stderr",
          "text": [
            "Training: 100%|██████████| 64/64 [00:21<00:00,  2.97it/s, train_loss=0.8684]\n",
            "Testing: 100%|██████████| 17/17 [00:04<00:00,  4.09it/s, test_loss=1.0933]\n"
          ]
        },
        {
          "output_type": "stream",
          "name": "stdout",
          "text": [
            "\n",
            "Epoch 56/100\n"
          ]
        },
        {
          "output_type": "stream",
          "name": "stderr",
          "text": [
            "Training: 100%|██████████| 64/64 [00:21<00:00,  2.94it/s, train_loss=0.8581]\n",
            "Testing: 100%|██████████| 17/17 [00:04<00:00,  4.21it/s, test_loss=1.0781]\n"
          ]
        },
        {
          "output_type": "stream",
          "name": "stdout",
          "text": [
            "\n",
            "Epoch 57/100\n"
          ]
        },
        {
          "output_type": "stream",
          "name": "stderr",
          "text": [
            "Training: 100%|██████████| 64/64 [00:21<00:00,  3.01it/s, train_loss=0.8622]\n",
            "Testing: 100%|██████████| 17/17 [00:04<00:00,  3.77it/s, test_loss=1.1748]\n"
          ]
        },
        {
          "output_type": "stream",
          "name": "stdout",
          "text": [
            "\n",
            "Epoch 58/100\n"
          ]
        },
        {
          "output_type": "stream",
          "name": "stderr",
          "text": [
            "Training: 100%|██████████| 64/64 [00:20<00:00,  3.08it/s, train_loss=0.8344]\n",
            "Testing: 100%|██████████| 17/17 [00:04<00:00,  3.53it/s, test_loss=1.1239]\n"
          ]
        },
        {
          "output_type": "stream",
          "name": "stdout",
          "text": [
            "\n",
            "Epoch 59/100\n"
          ]
        },
        {
          "output_type": "stream",
          "name": "stderr",
          "text": [
            "Training: 100%|██████████| 64/64 [00:20<00:00,  3.07it/s, train_loss=0.8619]\n",
            "Testing: 100%|██████████| 17/17 [00:04<00:00,  3.99it/s, test_loss=1.0412]\n"
          ]
        },
        {
          "output_type": "stream",
          "name": "stdout",
          "text": [
            "\n",
            "Epoch 60/100\n"
          ]
        },
        {
          "output_type": "stream",
          "name": "stderr",
          "text": [
            "Training: 100%|██████████| 64/64 [00:21<00:00,  2.98it/s, train_loss=0.8223]\n",
            "Testing: 100%|██████████| 17/17 [00:03<00:00,  4.39it/s, test_loss=1.2435]\n"
          ]
        },
        {
          "output_type": "stream",
          "name": "stdout",
          "text": [
            "\n",
            "Epoch 61/100\n"
          ]
        },
        {
          "output_type": "stream",
          "name": "stderr",
          "text": [
            "Training: 100%|██████████| 64/64 [00:21<00:00,  2.97it/s, train_loss=0.8427]\n",
            "Testing: 100%|██████████| 17/17 [00:03<00:00,  4.37it/s, test_loss=1.0540]\n"
          ]
        },
        {
          "output_type": "stream",
          "name": "stdout",
          "text": [
            "Train Loss: 0.8427 | Train Accuracy: 0.8172\n",
            "Test Loss: 1.0540 | Test Accuracy: 0.7529\n",
            "\n",
            "Epoch 62/100\n"
          ]
        },
        {
          "output_type": "stream",
          "name": "stderr",
          "text": [
            "Training: 100%|██████████| 64/64 [00:21<00:00,  2.99it/s, train_loss=0.8481]\n",
            "Testing: 100%|██████████| 17/17 [00:04<00:00,  4.22it/s, test_loss=1.1759]\n"
          ]
        },
        {
          "output_type": "stream",
          "name": "stdout",
          "text": [
            "\n",
            "Epoch 63/100\n"
          ]
        },
        {
          "output_type": "stream",
          "name": "stderr",
          "text": [
            "Training: 100%|██████████| 64/64 [00:21<00:00,  3.03it/s, train_loss=0.8484]\n",
            "Testing: 100%|██████████| 17/17 [00:04<00:00,  3.75it/s, test_loss=1.1364]\n"
          ]
        },
        {
          "output_type": "stream",
          "name": "stdout",
          "text": [
            "\n",
            "Epoch 64/100\n"
          ]
        },
        {
          "output_type": "stream",
          "name": "stderr",
          "text": [
            "Training: 100%|██████████| 64/64 [00:20<00:00,  3.05it/s, train_loss=0.8207]\n",
            "Testing: 100%|██████████| 17/17 [00:04<00:00,  3.61it/s, test_loss=1.1286]\n"
          ]
        },
        {
          "output_type": "stream",
          "name": "stdout",
          "text": [
            "\n",
            "Epoch 65/100\n"
          ]
        },
        {
          "output_type": "stream",
          "name": "stderr",
          "text": [
            "Training: 100%|██████████| 64/64 [00:20<00:00,  3.07it/s, train_loss=0.8257]\n",
            "Testing: 100%|██████████| 17/17 [00:03<00:00,  4.36it/s, test_loss=1.2142]\n"
          ]
        },
        {
          "output_type": "stream",
          "name": "stdout",
          "text": [
            "\n",
            "Epoch 66/100\n"
          ]
        },
        {
          "output_type": "stream",
          "name": "stderr",
          "text": [
            "Training: 100%|██████████| 64/64 [00:21<00:00,  2.98it/s, train_loss=0.8153]\n",
            "Testing: 100%|██████████| 17/17 [00:03<00:00,  4.33it/s, test_loss=1.1403]\n"
          ]
        },
        {
          "output_type": "stream",
          "name": "stdout",
          "text": [
            "\n",
            "Epoch 67/100\n"
          ]
        },
        {
          "output_type": "stream",
          "name": "stderr",
          "text": [
            "Training: 100%|██████████| 64/64 [00:21<00:00,  2.98it/s, train_loss=0.8249]\n",
            "Testing: 100%|██████████| 17/17 [00:03<00:00,  4.36it/s, test_loss=1.1241]\n"
          ]
        },
        {
          "output_type": "stream",
          "name": "stdout",
          "text": [
            "\n",
            "Epoch 68/100\n"
          ]
        },
        {
          "output_type": "stream",
          "name": "stderr",
          "text": [
            "Training: 100%|██████████| 64/64 [00:21<00:00,  3.02it/s, train_loss=0.8490]\n",
            "Testing: 100%|██████████| 17/17 [00:04<00:00,  4.12it/s, test_loss=1.1163]\n"
          ]
        },
        {
          "output_type": "stream",
          "name": "stdout",
          "text": [
            "\n",
            "Epoch 69/100\n"
          ]
        },
        {
          "output_type": "stream",
          "name": "stderr",
          "text": [
            "Training: 100%|██████████| 64/64 [00:20<00:00,  3.06it/s, train_loss=0.8057]\n",
            "Testing: 100%|██████████| 17/17 [00:04<00:00,  3.54it/s, test_loss=1.1107]\n"
          ]
        },
        {
          "output_type": "stream",
          "name": "stdout",
          "text": [
            "\n",
            "Epoch 70/100\n"
          ]
        },
        {
          "output_type": "stream",
          "name": "stderr",
          "text": [
            "Training: 100%|██████████| 64/64 [00:20<00:00,  3.06it/s, train_loss=0.8370]\n",
            "Testing: 100%|██████████| 17/17 [00:04<00:00,  3.83it/s, test_loss=1.0486]\n"
          ]
        },
        {
          "output_type": "stream",
          "name": "stdout",
          "text": [
            "New best model saved! Accuracy: 0.7799\n",
            "\n",
            "Epoch 71/100\n"
          ]
        },
        {
          "output_type": "stream",
          "name": "stderr",
          "text": [
            "Training: 100%|██████████| 64/64 [00:21<00:00,  3.00it/s, train_loss=0.8134]\n",
            "Testing: 100%|██████████| 17/17 [00:04<00:00,  4.05it/s, test_loss=1.0342]\n"
          ]
        },
        {
          "output_type": "stream",
          "name": "stdout",
          "text": [
            "Train Loss: 0.8134 | Train Accuracy: 0.8495\n",
            "Test Loss: 1.0342 | Test Accuracy: 0.7683\n",
            "\n",
            "Epoch 72/100\n"
          ]
        },
        {
          "output_type": "stream",
          "name": "stderr",
          "text": [
            "Training: 100%|██████████| 64/64 [00:21<00:00,  2.98it/s, train_loss=0.8471]\n",
            "Testing: 100%|██████████| 17/17 [00:04<00:00,  4.11it/s, test_loss=1.0615]\n"
          ]
        },
        {
          "output_type": "stream",
          "name": "stdout",
          "text": [
            "\n",
            "Epoch 73/100\n"
          ]
        },
        {
          "output_type": "stream",
          "name": "stderr",
          "text": [
            "Training: 100%|██████████| 64/64 [00:21<00:00,  2.93it/s, train_loss=0.8101]\n",
            "Testing: 100%|██████████| 17/17 [00:04<00:00,  4.19it/s, test_loss=1.2165]\n"
          ]
        },
        {
          "output_type": "stream",
          "name": "stdout",
          "text": [
            "\n",
            "Epoch 74/100\n"
          ]
        },
        {
          "output_type": "stream",
          "name": "stderr",
          "text": [
            "Training: 100%|██████████| 64/64 [00:21<00:00,  2.95it/s, train_loss=0.7856]\n",
            "Testing: 100%|██████████| 17/17 [00:04<00:00,  4.24it/s, test_loss=0.9724]\n"
          ]
        },
        {
          "output_type": "stream",
          "name": "stdout",
          "text": [
            "\n",
            "Epoch 75/100\n"
          ]
        },
        {
          "output_type": "stream",
          "name": "stderr",
          "text": [
            "Training: 100%|██████████| 64/64 [00:21<00:00,  3.01it/s, train_loss=0.7664]\n",
            "Testing: 100%|██████████| 17/17 [00:04<00:00,  3.70it/s, test_loss=1.0298]\n"
          ]
        },
        {
          "output_type": "stream",
          "name": "stdout",
          "text": [
            "\n",
            "Epoch 76/100\n"
          ]
        },
        {
          "output_type": "stream",
          "name": "stderr",
          "text": [
            "Training: 100%|██████████| 64/64 [00:21<00:00,  3.04it/s, train_loss=0.7921]\n",
            "Testing: 100%|██████████| 17/17 [00:04<00:00,  3.51it/s, test_loss=0.9686]\n"
          ]
        },
        {
          "output_type": "stream",
          "name": "stdout",
          "text": [
            "New best model saved! Accuracy: 0.7954\n",
            "\n",
            "Epoch 77/100\n"
          ]
        },
        {
          "output_type": "stream",
          "name": "stderr",
          "text": [
            "Training: 100%|██████████| 64/64 [00:21<00:00,  2.97it/s, train_loss=0.7733]\n",
            "Testing: 100%|██████████| 17/17 [00:04<00:00,  3.77it/s, test_loss=1.0924]\n"
          ]
        },
        {
          "output_type": "stream",
          "name": "stdout",
          "text": [
            "\n",
            "Epoch 78/100\n"
          ]
        },
        {
          "output_type": "stream",
          "name": "stderr",
          "text": [
            "Training: 100%|██████████| 64/64 [00:21<00:00,  3.01it/s, train_loss=0.7471]\n",
            "Testing: 100%|██████████| 17/17 [00:04<00:00,  4.13it/s, test_loss=1.1044]\n"
          ]
        },
        {
          "output_type": "stream",
          "name": "stdout",
          "text": [
            "\n",
            "Epoch 79/100\n"
          ]
        },
        {
          "output_type": "stream",
          "name": "stderr",
          "text": [
            "Training: 100%|██████████| 64/64 [00:21<00:00,  2.94it/s, train_loss=0.7984]\n",
            "Testing: 100%|██████████| 17/17 [00:03<00:00,  4.25it/s, test_loss=1.1230]\n"
          ]
        },
        {
          "output_type": "stream",
          "name": "stdout",
          "text": [
            "\n",
            "Epoch 80/100\n"
          ]
        },
        {
          "output_type": "stream",
          "name": "stderr",
          "text": [
            "Training: 100%|██████████| 64/64 [00:21<00:00,  2.93it/s, train_loss=0.7554]\n",
            "Testing: 100%|██████████| 17/17 [00:04<00:00,  4.17it/s, test_loss=1.1722]\n"
          ]
        },
        {
          "output_type": "stream",
          "name": "stdout",
          "text": [
            "\n",
            "Epoch 81/100\n"
          ]
        },
        {
          "output_type": "stream",
          "name": "stderr",
          "text": [
            "Training: 100%|██████████| 64/64 [00:21<00:00,  2.91it/s, train_loss=0.7573]\n",
            "Testing: 100%|██████████| 17/17 [00:03<00:00,  4.28it/s, test_loss=1.3085]\n"
          ]
        },
        {
          "output_type": "stream",
          "name": "stdout",
          "text": [
            "Train Loss: 0.7573 | Train Accuracy: 0.8602\n",
            "Test Loss: 1.3085 | Test Accuracy: 0.6718\n",
            "\n",
            "Epoch 82/100\n"
          ]
        },
        {
          "output_type": "stream",
          "name": "stderr",
          "text": [
            "Training: 100%|██████████| 64/64 [00:21<00:00,  2.97it/s, train_loss=0.7962]\n",
            "Testing: 100%|██████████| 17/17 [00:04<00:00,  3.65it/s, test_loss=1.0711]\n"
          ]
        },
        {
          "output_type": "stream",
          "name": "stdout",
          "text": [
            "\n",
            "Epoch 83/100\n"
          ]
        },
        {
          "output_type": "stream",
          "name": "stderr",
          "text": [
            "Training: 100%|██████████| 64/64 [00:21<00:00,  3.01it/s, train_loss=0.7669]\n",
            "Testing: 100%|██████████| 17/17 [00:04<00:00,  3.46it/s, test_loss=1.1128]\n"
          ]
        },
        {
          "output_type": "stream",
          "name": "stdout",
          "text": [
            "\n",
            "Epoch 84/100\n"
          ]
        },
        {
          "output_type": "stream",
          "name": "stderr",
          "text": [
            "Training: 100%|██████████| 64/64 [00:21<00:00,  3.01it/s, train_loss=0.7647]\n",
            "Testing: 100%|██████████| 17/17 [00:04<00:00,  3.86it/s, test_loss=1.1301]\n"
          ]
        },
        {
          "output_type": "stream",
          "name": "stdout",
          "text": [
            "\n",
            "Epoch 85/100\n"
          ]
        },
        {
          "output_type": "stream",
          "name": "stderr",
          "text": [
            "Training: 100%|██████████| 64/64 [00:21<00:00,  2.97it/s, train_loss=0.7817]\n",
            "Testing: 100%|██████████| 17/17 [00:04<00:00,  4.20it/s, test_loss=1.0594]\n"
          ]
        },
        {
          "output_type": "stream",
          "name": "stdout",
          "text": [
            "\n",
            "Epoch 86/100\n"
          ]
        },
        {
          "output_type": "stream",
          "name": "stderr",
          "text": [
            "Training: 100%|██████████| 64/64 [00:21<00:00,  2.94it/s, train_loss=0.7557]\n",
            "Testing: 100%|██████████| 17/17 [00:04<00:00,  4.13it/s, test_loss=1.1905]\n"
          ]
        },
        {
          "output_type": "stream",
          "name": "stdout",
          "text": [
            "\n",
            "Epoch 87/100\n"
          ]
        },
        {
          "output_type": "stream",
          "name": "stderr",
          "text": [
            "Training: 100%|██████████| 64/64 [00:21<00:00,  2.92it/s, train_loss=0.7516]\n",
            "Testing: 100%|██████████| 17/17 [00:03<00:00,  4.25it/s, test_loss=0.9281]\n"
          ]
        },
        {
          "output_type": "stream",
          "name": "stdout",
          "text": [
            "New best model saved! Accuracy: 0.8108\n",
            "\n",
            "Epoch 88/100\n"
          ]
        },
        {
          "output_type": "stream",
          "name": "stderr",
          "text": [
            "Training: 100%|██████████| 64/64 [00:22<00:00,  2.89it/s, train_loss=0.7175]\n",
            "Testing: 100%|██████████| 17/17 [00:04<00:00,  4.17it/s, test_loss=1.0724]\n"
          ]
        },
        {
          "output_type": "stream",
          "name": "stdout",
          "text": [
            "\n",
            "Epoch 89/100\n"
          ]
        },
        {
          "output_type": "stream",
          "name": "stderr",
          "text": [
            "Training: 100%|██████████| 64/64 [00:21<00:00,  2.95it/s, train_loss=0.7138]\n",
            "Testing: 100%|██████████| 17/17 [00:04<00:00,  3.75it/s, test_loss=1.1898]\n"
          ]
        },
        {
          "output_type": "stream",
          "name": "stdout",
          "text": [
            "\n",
            "Epoch 90/100\n"
          ]
        },
        {
          "output_type": "stream",
          "name": "stderr",
          "text": [
            "Training: 100%|██████████| 64/64 [00:21<00:00,  3.04it/s, train_loss=0.7455]\n",
            "Testing: 100%|██████████| 17/17 [00:04<00:00,  3.46it/s, test_loss=1.0997]\n"
          ]
        },
        {
          "output_type": "stream",
          "name": "stdout",
          "text": [
            "\n",
            "Epoch 91/100\n"
          ]
        },
        {
          "output_type": "stream",
          "name": "stderr",
          "text": [
            "Training: 100%|██████████| 64/64 [00:21<00:00,  3.05it/s, train_loss=0.7327]\n",
            "Testing: 100%|██████████| 17/17 [00:04<00:00,  3.87it/s, test_loss=1.0637]\n"
          ]
        },
        {
          "output_type": "stream",
          "name": "stdout",
          "text": [
            "Train Loss: 0.7327 | Train Accuracy: 0.8827\n",
            "Test Loss: 1.0637 | Test Accuracy: 0.7529\n",
            "\n",
            "Epoch 92/100\n"
          ]
        },
        {
          "output_type": "stream",
          "name": "stderr",
          "text": [
            "Training: 100%|██████████| 64/64 [00:21<00:00,  3.00it/s, train_loss=0.7883]\n",
            "Testing: 100%|██████████| 17/17 [00:04<00:00,  4.23it/s, test_loss=1.0918]\n"
          ]
        },
        {
          "output_type": "stream",
          "name": "stdout",
          "text": [
            "\n",
            "Epoch 93/100\n"
          ]
        },
        {
          "output_type": "stream",
          "name": "stderr",
          "text": [
            "Training: 100%|██████████| 64/64 [00:21<00:00,  2.92it/s, train_loss=0.7482]\n",
            "Testing: 100%|██████████| 17/17 [00:04<00:00,  4.16it/s, test_loss=0.9903]\n"
          ]
        },
        {
          "output_type": "stream",
          "name": "stdout",
          "text": [
            "\n",
            "Epoch 94/100\n"
          ]
        },
        {
          "output_type": "stream",
          "name": "stderr",
          "text": [
            "Training: 100%|██████████| 64/64 [00:21<00:00,  2.94it/s, train_loss=0.7352]\n",
            "Testing: 100%|██████████| 17/17 [00:03<00:00,  4.26it/s, test_loss=1.0703]\n"
          ]
        },
        {
          "output_type": "stream",
          "name": "stdout",
          "text": [
            "\n",
            "Epoch 95/100\n"
          ]
        },
        {
          "output_type": "stream",
          "name": "stderr",
          "text": [
            "Training: 100%|██████████| 64/64 [00:21<00:00,  2.96it/s, train_loss=0.7263]\n",
            "Testing: 100%|██████████| 17/17 [00:04<00:00,  4.06it/s, test_loss=1.0978]\n"
          ]
        },
        {
          "output_type": "stream",
          "name": "stdout",
          "text": [
            "\n",
            "Epoch 96/100\n"
          ]
        },
        {
          "output_type": "stream",
          "name": "stderr",
          "text": [
            "Training: 100%|██████████| 64/64 [00:21<00:00,  2.99it/s, train_loss=0.7517]\n",
            "Testing: 100%|██████████| 17/17 [00:04<00:00,  3.59it/s, test_loss=1.0606]\n"
          ]
        },
        {
          "output_type": "stream",
          "name": "stdout",
          "text": [
            "\n",
            "Epoch 97/100\n"
          ]
        },
        {
          "output_type": "stream",
          "name": "stderr",
          "text": [
            "Training: 100%|██████████| 64/64 [00:20<00:00,  3.05it/s, train_loss=0.7211]\n",
            "Testing: 100%|██████████| 17/17 [00:04<00:00,  3.53it/s, test_loss=1.0205]\n"
          ]
        },
        {
          "output_type": "stream",
          "name": "stdout",
          "text": [
            "\n",
            "Epoch 98/100\n"
          ]
        },
        {
          "output_type": "stream",
          "name": "stderr",
          "text": [
            "Training: 100%|██████████| 64/64 [00:21<00:00,  3.01it/s, train_loss=0.7429]\n",
            "Testing: 100%|██████████| 17/17 [00:04<00:00,  3.94it/s, test_loss=1.1618]\n"
          ]
        },
        {
          "output_type": "stream",
          "name": "stdout",
          "text": [
            "\n",
            "Epoch 99/100\n"
          ]
        },
        {
          "output_type": "stream",
          "name": "stderr",
          "text": [
            "Training: 100%|██████████| 64/64 [00:21<00:00,  2.95it/s, train_loss=0.7500]\n",
            "Testing: 100%|██████████| 17/17 [00:04<00:00,  4.20it/s, test_loss=1.1239]\n"
          ]
        },
        {
          "output_type": "stream",
          "name": "stdout",
          "text": [
            "\n",
            "Epoch 100/100\n"
          ]
        },
        {
          "output_type": "stream",
          "name": "stderr",
          "text": [
            "Training: 100%|██████████| 64/64 [00:21<00:00,  2.93it/s, train_loss=0.7460]\n",
            "Testing: 100%|██████████| 17/17 [00:04<00:00,  4.16it/s, test_loss=1.1381]"
          ]
        },
        {
          "output_type": "stream",
          "name": "stdout",
          "text": [
            "\n",
            "Loaded best model from epoch 87\n",
            "Best Test Metrics:\n",
            "Test Loss: 0.9281\n",
            "Test Accuracy: 0.8108\n",
            "\n",
            "Training completed!\n",
            "Best test accuracy achieved: 0.8108\n"
          ]
        },
        {
          "output_type": "stream",
          "name": "stderr",
          "text": [
            "\n"
          ]
        },
        {
          "output_type": "execute_result",
          "data": {
            "text/plain": [
              "\"\\ncheckpoint = torch.load('best_vit_model.pth')\\nmodel.load_state_dict(checkpoint['model_state_dict'])\\noptimizer.load_state_dict(checkpoint['optimizer_state_dict'])\\nscheduler.load_state_dict(checkpoint['scheduler_state_dict'])\\nbest_accuracy = checkpoint['best_accuracy']\\n\""
            ],
            "application/vnd.google.colaboratory.intrinsic+json": {
              "type": "string"
            }
          },
          "metadata": {},
          "execution_count": 10
        }
      ]
    }
  ]
}