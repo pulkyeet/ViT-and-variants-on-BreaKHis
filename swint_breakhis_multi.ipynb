{
  "nbformat": 4,
  "nbformat_minor": 0,
  "metadata": {
    "colab": {
      "provenance": [],
      "gpuType": "T4"
    },
    "kernelspec": {
      "name": "python3",
      "display_name": "Python 3"
    },
    "language_info": {
      "name": "python"
    },
    "accelerator": "GPU"
  },
  "cells": [
    {
      "cell_type": "markdown",
      "source": [
        "# Building a Shifted Window Transformer for Multi-class Classification of Breast Cancer Histopathological Dataset(BreaKHis Dataset)\n",
        "\n",
        "\n",
        "\n",
        "*   In this notebook, we've built a Swin Transformer, whose parameters are as close to that described in the original Shifted Window Transformers paper titled, \"Swin Transformer: Hierarchical Vision Transformer using Shifted Windows\".\n",
        "*   Since the dataset can be used for both binary and multi-class classification, for this project, we've narrowed it down to just multi-class classification.\n",
        "*   The dataset also captures the tumours at multiple zoom levels(40x, 100x, 200x and 400x), to remove unnecessary complexity, we've just focused on the 400x zoom images."
      ],
      "metadata": {
        "id": "TsualWiyENOz"
      }
    },
    {
      "cell_type": "code",
      "source": [
        "from google.colab import drive\n",
        "drive.mount('/content/drive')"
      ],
      "metadata": {
        "id": "hKmjmbAX2Dpe",
        "colab": {
          "base_uri": "https://localhost:8080/"
        },
        "outputId": "4ab07cd1-5d5d-47ec-c855-0897f75aa1ce"
      },
      "execution_count": 1,
      "outputs": [
        {
          "output_type": "stream",
          "name": "stdout",
          "text": [
            "Mounted at /content/drive\n"
          ]
        }
      ]
    },
    {
      "cell_type": "markdown",
      "source": [
        "### Importing libraries and setting up device agnostic code"
      ],
      "metadata": {
        "id": "BIZZHCgzEhdS"
      }
    },
    {
      "cell_type": "code",
      "execution_count": 2,
      "metadata": {
        "id": "x0QM_D49w5u2"
      },
      "outputs": [],
      "source": [
        "import torch\n",
        "import torch.nn as nn\n",
        "import pandas as pd\n",
        "import numpy as np\n",
        "import matplotlib.pyplot as plt\n",
        "\n",
        "device = \"cuda\" if torch.cuda.is_available() else \"cpu\""
      ]
    },
    {
      "cell_type": "markdown",
      "source": [
        "### Setting up transforms and dataloader"
      ],
      "metadata": {
        "id": "iMmk8qc3EkJ8"
      }
    },
    {
      "cell_type": "code",
      "source": [
        "from torch.utils.data import DataLoader\n",
        "from torchvision import datasets\n",
        "from torchvision.transforms import v2\n",
        "import torch.nn.functional as F\n",
        "from torch.nn import init\n",
        "\n",
        "FLIP_PROBABILITY = 0.1\n",
        "\n",
        "data_transform = v2.Compose([\n",
        "    v2.Resize(size=(224,224)),\n",
        "    v2.RandomHorizontalFlip(p=0.5),\n",
        "    v2.RandomRotation(degrees=(-10,10)),\n",
        "    v2.ColorJitter(brightness=0.05, contrast=0.05, saturation=0.05, hue=0.05),\n",
        "    v2.RandomAffine(degrees=0, translate=(0.05, 0.05)),\n",
        "    v2.ToTensor(),\n",
        "    v2.Normalize(mean=[0.485, 0.456, 0.406], std=[0.229, 0.224, 0.225])  # Add normalization\n",
        "])"
      ],
      "metadata": {
        "id": "xD-mbyCLw_5H",
        "colab": {
          "base_uri": "https://localhost:8080/"
        },
        "outputId": "0fbe4ae2-07bf-4bac-f2a9-80da056687cb"
      },
      "execution_count": 3,
      "outputs": [
        {
          "output_type": "stream",
          "name": "stderr",
          "text": [
            "/usr/local/lib/python3.10/dist-packages/torchvision/transforms/v2/_deprecated.py:42: UserWarning: The transform `ToTensor()` is deprecated and will be removed in a future release. Instead, please use `v2.Compose([v2.ToImage(), v2.ToDtype(torch.float32, scale=True)])`.Output is equivalent up to float precision.\n",
            "  warnings.warn(\n"
          ]
        }
      ]
    },
    {
      "cell_type": "markdown",
      "source": [
        "### Getting dataset and class labels"
      ],
      "metadata": {
        "id": "sOnm5cDaEm36"
      }
    },
    {
      "cell_type": "code",
      "source": [
        "train_data = datasets.ImageFolder(root=\"/content/drive/MyDrive/dataset_v3/train\",\n",
        "                                  transform=data_transform,\n",
        "                                  target_transform=None)\n",
        "test_data = datasets.ImageFolder(root=\"/content/drive/MyDrive/dataset_v3/test\",\n",
        "                                  transform=data_transform)\n",
        "class_names = train_data.classes"
      ],
      "metadata": {
        "id": "MHh0jSY2xEeD"
      },
      "execution_count": 4,
      "outputs": []
    },
    {
      "cell_type": "markdown",
      "source": [
        "### Preprocessing the dataset\n",
        "\n",
        "The dataset is imbalanced, as the training and test examples for 'ductal_carcinoma' type of tumour are ~5x that of other cases.\n",
        "\n",
        "So, we've randomly reduced the samples to come on line with the numbers from other cases so it doesn't imbalance the model."
      ],
      "metadata": {
        "id": "nobvKJLgEo1a"
      }
    },
    {
      "cell_type": "code",
      "source": [
        "from sklearn.utils import resample\n",
        "\n",
        "def balance_dataset(dataset, size):\n",
        "    # Separate data by class\n",
        "    class_data = {i: [] for i in range(8)}  # For 8 classes\n",
        "\n",
        "    # Group data by class\n",
        "    for idx in range(len(dataset)):\n",
        "        _, label = dataset[idx]\n",
        "        class_data[label].append(idx)\n",
        "\n",
        "    # Randomly sample indices from each class\n",
        "    balanced_indices = []\n",
        "    for class_idx, indices in class_data.items():\n",
        "        # If class has more samples than min_size, downsample it\n",
        "        if len(indices) > size:\n",
        "            balanced_indices.extend(np.random.choice(indices, size=size, replace=False))\n",
        "        else:\n",
        "            balanced_indices.extend(indices)\n",
        "\n",
        "    # Create a subset dataset\n",
        "    from torch.utils.data import Subset\n",
        "    balanced_dataset = Subset(dataset, balanced_indices)\n",
        "\n",
        "    return balanced_dataset\n",
        "\n",
        "# Use it like this:\n",
        "balanced_train_data = balance_dataset(train_data, 200)\n",
        "\n",
        "balanced_test_data = balance_dataset(test_data, 50)"
      ],
      "metadata": {
        "id": "R2kwDVqM8AUE"
      },
      "execution_count": 5,
      "outputs": []
    },
    {
      "cell_type": "markdown",
      "source": [
        "### Loading up the DataLoader"
      ],
      "metadata": {
        "id": "YElVEWd2EtJ_"
      }
    },
    {
      "cell_type": "code",
      "source": [
        "from torch.utils.data import DataLoader\n",
        "\n",
        "BATCH_SIZE = 16\n",
        "train_dataloader = DataLoader(balanced_train_data, batch_size=BATCH_SIZE, shuffle=True)\n",
        "test_dataloader = DataLoader(balanced_test_data, batch_size=BATCH_SIZE, shuffle=False)"
      ],
      "metadata": {
        "id": "RjOAVy6XxGUj"
      },
      "execution_count": 6,
      "outputs": []
    },
    {
      "cell_type": "markdown",
      "source": [
        "## Implementing the Swin Transformer"
      ],
      "metadata": {
        "id": "oaAIUgFAFmjn"
      }
    },
    {
      "cell_type": "markdown",
      "source": [
        "### Defining the Swin Transformer"
      ],
      "metadata": {
        "id": "O89z4kYyFnyQ"
      }
    },
    {
      "cell_type": "code",
      "source": [
        "import torch.nn.functional as F\n",
        "from torch.nn import init\n",
        "\n",
        "class PatchEmbed(nn.Module):\n",
        "    \"\"\"Split image into patches and then embed them.\"\"\"\n",
        "    def __init__(self, img_size=224, patch_size=4, in_chans=3, embed_dim=96):\n",
        "        super().__init__()\n",
        "        self.img_size = (img_size, img_size)\n",
        "        self.patch_size = (patch_size, patch_size)\n",
        "        self.patches_resolution = [img_size // patch_size, img_size // patch_size]\n",
        "        self.num_patches = (img_size // patch_size) ** 2\n",
        "\n",
        "        self.proj = nn.Conv2d(in_chans, embed_dim, kernel_size=patch_size, stride=patch_size)\n",
        "        self.norm = nn.LayerNorm(embed_dim)\n",
        "\n",
        "    def forward(self, x):\n",
        "        B, C, H, W = x.shape\n",
        "        x = self.proj(x).flatten(2).transpose(1, 2)  # B Ph*Pw C\n",
        "        x = self.norm(x)\n",
        "        return x\n",
        "\n",
        "class WindowAttention(nn.Module):\n",
        "    \"\"\"Window based multi-head self attention.\"\"\"\n",
        "    def __init__(self, dim, window_size, num_heads, qkv_bias=True):\n",
        "        super().__init__()\n",
        "        self.dim = dim\n",
        "        self.window_size = window_size  # Wh, Ww\n",
        "        self.num_heads = num_heads\n",
        "        head_dim = dim // num_heads\n",
        "        self.scale = head_dim ** -0.5\n",
        "\n",
        "        self.qkv = nn.Linear(dim, dim * 3, bias=qkv_bias)\n",
        "        self.proj = nn.Linear(dim, dim)\n",
        "\n",
        "        self.relative_position_bias_table = nn.Parameter(\n",
        "            torch.zeros((2 * window_size[0] - 1) * (2 * window_size[1] - 1), num_heads))\n",
        "\n",
        "        # Get pair-wise relative position index for each token inside the window\n",
        "        coords_h = torch.arange(window_size[0])\n",
        "        coords_w = torch.arange(window_size[1])\n",
        "        coords = torch.stack(torch.meshgrid([coords_h, coords_w], indexing=\"ij\"))\n",
        "        coords_flatten = torch.flatten(coords, 1)\n",
        "        relative_coords = coords_flatten[:, :, None] - coords_flatten[:, None, :]\n",
        "        relative_coords = relative_coords.permute(1, 2, 0).contiguous()\n",
        "        relative_coords[:, :, 0] += window_size[0] - 1\n",
        "        relative_coords[:, :, 1] += window_size[1] - 1\n",
        "        relative_coords[:, :, 0] *= 2 * window_size[1] - 1\n",
        "        relative_position_index = relative_coords.sum(-1)\n",
        "        self.register_buffer(\"relative_position_index\", relative_position_index)\n",
        "\n",
        "        init.trunc_normal_(self.relative_position_bias_table, std=.02)\n",
        "\n",
        "    def forward(self, x, mask=None):\n",
        "        B_, N, C = x.shape\n",
        "        qkv = self.qkv(x).reshape(B_, N, 3, self.num_heads, C // self.num_heads).permute(2, 0, 3, 1, 4)\n",
        "        q, k, v = qkv[0], qkv[1], qkv[2]\n",
        "\n",
        "        q = q * self.scale\n",
        "        attn = (q @ k.transpose(-2, -1))\n",
        "\n",
        "        relative_position_bias = self.relative_position_bias_table[self.relative_position_index.view(-1)].view(\n",
        "            self.window_size[0] * self.window_size[1], self.window_size[0] * self.window_size[1], -1)\n",
        "        relative_position_bias = relative_position_bias.permute(2, 0, 1).contiguous()\n",
        "        attn = attn + relative_position_bias.unsqueeze(0)\n",
        "\n",
        "        if mask is not None:\n",
        "            nW = mask.shape[0]\n",
        "            attn = attn.view(B_ // nW, nW, self.num_heads, N, N) + mask.unsqueeze(1).unsqueeze(0)\n",
        "            attn = attn.view(-1, self.num_heads, N, N)\n",
        "\n",
        "        attn = F.softmax(attn, dim=-1)\n",
        "        x = (attn @ v).transpose(1, 2).reshape(B_, N, C)\n",
        "        x = self.proj(x)\n",
        "        return x\n",
        "\n",
        "class SwinTransformerBlock(nn.Module):\n",
        "    \"\"\"Swin Transformer Block.\"\"\"\n",
        "    def __init__(self, dim, num_heads, window_size=7, shift_size=0,\n",
        "                 mlp_ratio=4., qkv_bias=True, drop=0., attn_drop=0.):\n",
        "        super().__init__()\n",
        "        self.dim = dim\n",
        "        self.num_heads = num_heads\n",
        "        self.window_size = window_size\n",
        "        self.shift_size = shift_size\n",
        "        self.mlp_ratio = mlp_ratio\n",
        "\n",
        "        self.norm1 = nn.LayerNorm(dim)\n",
        "        self.attn = WindowAttention(\n",
        "            dim, window_size=(window_size, window_size), num_heads=num_heads, qkv_bias=qkv_bias)\n",
        "\n",
        "        self.norm2 = nn.LayerNorm(dim)\n",
        "        mlp_hidden_dim = int(dim * mlp_ratio)\n",
        "        self.mlp = nn.Sequential(\n",
        "            nn.Linear(dim, mlp_hidden_dim),\n",
        "            nn.GELU(),\n",
        "            nn.Linear(mlp_hidden_dim, dim)\n",
        "        )\n",
        "\n",
        "    def forward(self, x, H, W):\n",
        "        B, L, C = x.shape\n",
        "        shortcut = x\n",
        "        x = self.norm1(x)\n",
        "        x = x.view(B, H, W, C)\n",
        "\n",
        "        # pad feature maps to multiples of window size\n",
        "        pad_l = pad_t = 0\n",
        "        pad_r = (self.window_size - W % self.window_size) % self.window_size\n",
        "        pad_b = (self.window_size - H % self.window_size) % self.window_size\n",
        "        x = F.pad(x, (0, 0, pad_l, pad_r, pad_t, pad_b))\n",
        "        _, Hp, Wp, _ = x.shape\n",
        "\n",
        "        # cyclic shift\n",
        "        if self.shift_size > 0:\n",
        "            shifted_x = torch.roll(x, shifts=(-self.shift_size, -self.shift_size), dims=(1, 2))\n",
        "        else:\n",
        "            shifted_x = x\n",
        "\n",
        "        # partition windows\n",
        "        x_windows = window_partition(shifted_x, self.window_size)  # nW*B, window_size, window_size, C\n",
        "        x_windows = x_windows.view(-1, self.window_size * self.window_size, C)  # nW*B, window_size*window_size, C\n",
        "\n",
        "        # W-MSA/SW-MSA\n",
        "        attn_windows = self.attn(x_windows)  # nW*B, window_size*window_size, C\n",
        "\n",
        "        # merge windows\n",
        "        attn_windows = attn_windows.view(-1, self.window_size, self.window_size, C)\n",
        "        shifted_x = window_reverse(attn_windows, self.window_size, Hp, Wp)  # B H' W' C\n",
        "\n",
        "        # reverse cyclic shift\n",
        "        if self.shift_size > 0:\n",
        "            x = torch.roll(shifted_x, shifts=(self.shift_size, self.shift_size), dims=(1, 2))\n",
        "        else:\n",
        "            x = shifted_x\n",
        "\n",
        "        if pad_r > 0 or pad_b > 0:\n",
        "            x = x[:, :H, :W, :].contiguous()\n",
        "\n",
        "        x = x.view(B, H * W, C)\n",
        "\n",
        "        # FFN\n",
        "        x = shortcut + x\n",
        "        x = x + self.mlp(self.norm2(x))\n",
        "\n",
        "        return x\n",
        "\n",
        "class SwinTransformer(nn.Module):\n",
        "    def __init__(self, img_size=224, patch_size=4, in_chans=3, num_classes=1000,\n",
        "                 embed_dim=96, depths=[2, 2, 6, 2], num_heads=[3, 6, 12, 24],\n",
        "                 window_size=7, mlp_ratio=4., qkv_bias=True,\n",
        "                 drop_rate=0., attn_drop_rate=0.):\n",
        "        super().__init__()\n",
        "        self.num_classes = num_classes\n",
        "        self.num_layers = len(depths)\n",
        "        self.embed_dim = embed_dim\n",
        "        self.num_features = int(embed_dim * 2 ** (self.num_layers - 1))\n",
        "\n",
        "        # split image into non-overlapping patches\n",
        "        self.patch_embed = PatchEmbed(\n",
        "            img_size=img_size, patch_size=patch_size, in_chans=in_chans, embed_dim=embed_dim)\n",
        "\n",
        "        # stochastic depth\n",
        "        dpr = [x.item() for x in torch.linspace(0, drop_rate, sum(depths))]\n",
        "\n",
        "        # build layers\n",
        "        self.layers = nn.ModuleList()\n",
        "        for i_layer in range(self.num_layers):\n",
        "            layer = BasicLayer(\n",
        "                dim=int(embed_dim * 2 ** i_layer),\n",
        "                depth=depths[i_layer],\n",
        "                num_heads=num_heads[i_layer],\n",
        "                window_size=window_size,\n",
        "                mlp_ratio=mlp_ratio,\n",
        "                qkv_bias=qkv_bias,\n",
        "                drop=dpr[sum(depths[:i_layer]):sum(depths[:i_layer + 1])],\n",
        "                attn_drop=attn_drop_rate,\n",
        "                downsample=PatchMerging if (i_layer < self.num_layers - 1) else None\n",
        "            )\n",
        "            self.layers.append(layer)\n",
        "\n",
        "        self.norm = nn.LayerNorm(self.num_features)\n",
        "        self.avgpool = nn.AdaptiveAvgPool1d(1)\n",
        "        self.head = nn.Linear(self.num_features, num_classes)\n",
        "\n",
        "    def forward(self, x):\n",
        "        x = self.patch_embed(x)\n",
        "        for layer in self.layers:\n",
        "            x = layer(x)\n",
        "        x = self.norm(x)\n",
        "        x = self.avgpool(x.transpose(1, 2))\n",
        "        x = torch.flatten(x, 1)\n",
        "        x = self.head(x)\n",
        "        return x\n",
        "\n",
        "def window_partition(x, window_size):\n",
        "    \"\"\"\n",
        "    Args:\n",
        "        x: (B, H, W, C)\n",
        "        window_size (int): window size\n",
        "    Returns:\n",
        "        windows: (num_windows*B, window_size, window_size, C)\n",
        "    \"\"\"\n",
        "    B, H, W, C = x.shape\n",
        "    x = x.view(B, H // window_size, window_size, W // window_size, window_size, C)\n",
        "    windows = x.permute(0, 1, 3, 2, 4, 5).contiguous().view(-1, window_size, window_size, C)\n",
        "    return windows\n",
        "\n",
        "def window_reverse(windows, window_size, H, W):\n",
        "    \"\"\"\n",
        "    Args:\n",
        "        windows: (num_windows*B, window_size, window_size, C)\n",
        "        window_size (int): Window size\n",
        "        H (int): Height of image\n",
        "        W (int): Width of image\n",
        "    Returns:\n",
        "        x: (B, H, W, C)\n",
        "    \"\"\"\n",
        "    B = int(windows.shape[0] / (H * W / window_size / window_size))\n",
        "    x = windows.view(B, H // window_size, W // window_size, window_size, window_size, -1)\n",
        "    x = x.permute(0, 1, 3, 2, 4, 5).contiguous().view(B, H, W, -1)\n",
        "    return x\n",
        "\n",
        "class PatchMerging(nn.Module):\n",
        "    \"\"\"Patch Merging Layer.\"\"\"\n",
        "    def __init__(self, dim):\n",
        "        super().__init__()\n",
        "        self.dim = dim\n",
        "        self.reduction = nn.Linear(4 * dim, 2 * dim, bias=False)\n",
        "        self.norm = nn.LayerNorm(4 * dim)\n",
        "\n",
        "    def forward(self, x, H, W):\n",
        "        B, L, C = x.shape\n",
        "        assert L == H * W, \"input feature has wrong size\"\n",
        "        x = x.view(B, H, W, C)\n",
        "\n",
        "        # padding\n",
        "        pad_input = (H % 2 == 1) or (W % 2 == 1)\n",
        "        if pad_input:\n",
        "            x = F.pad(x, (0, 0, 0, W % 2, 0, H % 2))\n",
        "\n",
        "        x0 = x[:, 0::2, 0::2, :]  # B H/2 W/2 C\n",
        "        x1 = x[:, 1::2, 0::2, :]  # B H/2 W/2 C\n",
        "        x2 = x[:, 0::2, 1::2, :]  # B H/2 W/2 C\n",
        "        x3 = x[:, 1::2, 1::2, :]  # B H/2 W/2 C\n",
        "        x = torch.cat([x0, x1, x2, x3], -1)  # B H/2 W/2 4*C\n",
        "        x = x.view(B, -1, 4 * C)  # B H/2*W/2 4*C\n",
        "\n",
        "        x = self.norm(x)\n",
        "        x = self.reduction(x)\n",
        "\n",
        "        return x\n",
        "\n",
        "class BasicLayer(nn.Module):\n",
        "    \"\"\"A basic Swin Transformer layer for one stage.\"\"\"\n",
        "    def __init__(self, dim, depth, num_heads, window_size,\n",
        "                 mlp_ratio=4., qkv_bias=True, drop=0., attn_drop=0.,\n",
        "                 downsample=None):\n",
        "        super().__init__()\n",
        "        self.dim = dim\n",
        "        self.depth = depth\n",
        "        self.window_size = window_size\n",
        "        self.shift_size = window_size // 2\n",
        "\n",
        "        # build blocks\n",
        "        self.blocks = nn.ModuleList([\n",
        "            SwinTransformerBlock(\n",
        "                dim=dim,\n",
        "                num_heads=num_heads,\n",
        "                window_size=window_size,\n",
        "                shift_size=0 if (i % 2 == 0) else self.shift_size,\n",
        "                mlp_ratio=mlp_ratio,\n",
        "                qkv_bias=qkv_bias,\n",
        "                drop=drop[i] if isinstance(drop, list) else drop,\n",
        "                attn_drop=attn_drop)\n",
        "            for i in range(depth)])\n",
        "\n",
        "        # patch merging layer\n",
        "        if downsample is not None:\n",
        "            self.downsample = downsample(dim=dim)\n",
        "        else:\n",
        "            self.downsample = None\n",
        "\n",
        "    def forward(self, x):\n",
        "        B, L, C = x.shape\n",
        "        H = W = int(L ** 0.5)\n",
        "\n",
        "        for blk in self.blocks:\n",
        "            x = blk(x, H, W)\n",
        "\n",
        "        if self.downsample is not None:\n",
        "            x = self.downsample(x, H, W)\n",
        "            H, W = H // 2, W // 2\n",
        "\n",
        "        return x"
      ],
      "metadata": {
        "id": "sOQdx7Hf-kSo"
      },
      "execution_count": 7,
      "outputs": []
    },
    {
      "cell_type": "markdown",
      "source": [
        "## Running the SwinT"
      ],
      "metadata": {
        "id": "Qrda3qBvFzyv"
      }
    },
    {
      "cell_type": "code",
      "source": [
        "import torch\n",
        "import torch.nn as nn\n",
        "from tqdm import tqdm\n",
        "from torchvision import datasets, transforms\n",
        "import os\n",
        "\n",
        "# Create the Vision Transformer model\n",
        "model = SwinTransformer(\n",
        "    img_size=224,\n",
        "    patch_size=4,\n",
        "    in_chans=3,\n",
        "    num_classes=len(class_names),\n",
        "    embed_dim=96,\n",
        "    depths=[2, 2, 6, 2],\n",
        "    num_heads=[3, 6, 12, 24],\n",
        "    window_size=7,\n",
        "    mlp_ratio=4,\n",
        "    qkv_bias=True,\n",
        "    drop_rate=0.1,\n",
        "    attn_drop_rate=0.1\n",
        ").to(device)\n",
        "\n",
        "# Loss function and optimizer\n",
        "criterion = nn.CrossEntropyLoss(label_smoothing=0.1)\n",
        "optimizer = torch.optim.AdamW(model.parameters(), lr=0.0001, weight_decay=0.05)\n",
        "# Learning rate scheduler\n",
        "scheduler = torch.optim.lr_scheduler.CosineAnnealingLR(optimizer, T_max=100, eta_min=1e-6)\n",
        "\n",
        "# Learning rate scheduler\n",
        "steps_per_epoch = len(train_dataloader)\n",
        "total_steps = steps_per_epoch * 100  # 100 epochs\n",
        "\n",
        "def train_one_epoch(model, dataloader, criterion, optimizer, device):\n",
        "    model.train()\n",
        "    total_loss = 0\n",
        "    correct = 0\n",
        "    total = 0\n",
        "    progress_bar = tqdm(dataloader, desc='Training')\n",
        "\n",
        "    for batch_idx, (images, labels) in enumerate(progress_bar):\n",
        "        images, labels = images.to(device), labels.to(device)\n",
        "\n",
        "        optimizer.zero_grad()\n",
        "        outputs = model(images)\n",
        "        loss = criterion(outputs, labels)\n",
        "\n",
        "        loss.backward()\n",
        "        torch.nn.utils.clip_grad_norm_(model.parameters(), max_norm=1.0)\n",
        "        optimizer.step()\n",
        "        scheduler.step()\n",
        "\n",
        "        total_loss += loss.item()\n",
        "        _, predicted = outputs.max(1)\n",
        "        total += labels.size(0)\n",
        "        correct += predicted.eq(labels).sum().item()\n",
        "\n",
        "        # Update progress bar\n",
        "        progress_bar.set_postfix({\n",
        "            'loss': f'{total_loss/(batch_idx+1):.4f}',\n",
        "            'acc': f'{100.*correct/total:.2f}%'\n",
        "        })\n",
        "\n",
        "    return total_loss / len(dataloader), 100. * correct / total\n",
        "\n",
        "def evaluate(model, dataloader, criterion, device):\n",
        "    model.eval()\n",
        "    total_loss = 0\n",
        "    correct = 0\n",
        "    total = 0\n",
        "    progress_bar = tqdm(dataloader, desc='Testing')\n",
        "\n",
        "    with torch.no_grad():\n",
        "        for batch_idx, (images, labels) in enumerate(progress_bar):\n",
        "            images, labels = images.to(device), labels.to(device)\n",
        "\n",
        "            outputs = model(images)\n",
        "            loss = criterion(outputs, labels)\n",
        "\n",
        "            total_loss += loss.item()\n",
        "            _, predicted = outputs.max(1)\n",
        "            total += labels.size(0)\n",
        "            correct += predicted.eq(labels).sum().item()\n",
        "\n",
        "            # Update progress bar\n",
        "            progress_bar.set_postfix({\n",
        "                'loss': f'{total_loss/(batch_idx+1):.4f}',\n",
        "                'acc': f'{100.*correct/total:.2f}%'\n",
        "            })\n",
        "\n",
        "    return total_loss / len(dataloader), 100. * correct / total\n",
        "\n",
        "# Training loop\n",
        "num_epochs = 100\n",
        "best_acc = 0\n",
        "best_model_state = None\n",
        "best_results = None\n",
        "\n",
        "print(\"Starting training...\")\n",
        "for epoch in range(num_epochs):\n",
        "    print(f'\\nEpoch: {epoch+1}/{num_epochs}')\n",
        "\n",
        "    # Train\n",
        "    train_loss, train_acc = train_one_epoch(model, train_dataloader, criterion, optimizer, device)\n",
        "\n",
        "    # Evaluate\n",
        "    test_loss, test_acc = evaluate(model, test_dataloader, criterion, device)\n",
        "    if epoch % 10 == 0:\n",
        "      print(f'Train Loss: {train_loss:.4f}, Train Acc: {train_acc:.2f}%')\n",
        "      print(f'Test Loss: {test_loss:.4f}, Test Acc: {test_acc:.2f}%')\n",
        "\n",
        "    scheduler.step()\n",
        "\n",
        "    # Save best model\n",
        "    if test_acc > best_acc:\n",
        "        best_acc = test_acc\n",
        "        best_results = (test_loss, test_acc)\n",
        "        best_model_state = model.state_dict().copy()\n",
        "\n",
        "        # Save the checkpoint\n",
        "        checkpoint = {\n",
        "            'epoch': epoch + 1,\n",
        "            'model_state_dict': model.state_dict(),\n",
        "            'optimizer_state_dict': optimizer.state_dict(),\n",
        "            'scheduler_state_dict': scheduler.state_dict(),\n",
        "            'train_loss': train_loss,\n",
        "            'train_acc': train_acc,\n",
        "            'test_loss': test_loss,\n",
        "            'test_acc': test_acc,\n",
        "        }\n",
        "        torch.save(checkpoint, 'best_swin_model.pth')\n",
        "        print(f'New best model saved! Accuracy: {best_acc:.2f}%')\n",
        "\n",
        "# Load the best model before finishing\n",
        "if best_model_state is not None:\n",
        "    model.load_state_dict(best_model_state)\n",
        "    print('\\nLoaded best model')\n",
        "    print(f'Best model performance:')\n",
        "    print(f'Test Loss: {best_results[0]:.4f}, Test Acc: {best_results[1]:.2f}%')\n",
        "\n",
        "print('\\nTraining completed!')"
      ],
      "metadata": {
        "id": "f0dzv1Zc-z5k",
        "colab": {
          "base_uri": "https://localhost:8080/"
        },
        "outputId": "0653d5a7-c668-4411-935f-f12e43ace13f"
      },
      "execution_count": 8,
      "outputs": [
        {
          "output_type": "stream",
          "name": "stdout",
          "text": [
            "Starting training...\n",
            "\n",
            "Epoch: 1/100\n"
          ]
        },
        {
          "output_type": "stream",
          "name": "stderr",
          "text": [
            "Training: 100%|██████████| 64/64 [00:26<00:00,  2.37it/s, loss=2.1674, acc=22.78%]\n",
            "Testing: 100%|██████████| 17/17 [00:04<00:00,  4.18it/s, loss=1.9183, acc=31.27%]\n"
          ]
        },
        {
          "output_type": "stream",
          "name": "stdout",
          "text": [
            "Train Loss: 2.1674, Train Acc: 22.78%\n",
            "Test Loss: 1.9183, Test Acc: 31.27%\n",
            "New best model saved! Accuracy: 31.27%\n",
            "\n",
            "Epoch: 2/100\n"
          ]
        },
        {
          "output_type": "stream",
          "name": "stderr",
          "text": [
            "Training: 100%|██████████| 64/64 [00:25<00:00,  2.54it/s, loss=1.8953, acc=30.89%]\n",
            "Testing: 100%|██████████| 17/17 [00:04<00:00,  4.14it/s, loss=1.8927, acc=33.20%]\n"
          ]
        },
        {
          "output_type": "stream",
          "name": "stdout",
          "text": [
            "New best model saved! Accuracy: 33.20%\n",
            "\n",
            "Epoch: 3/100\n"
          ]
        },
        {
          "output_type": "stream",
          "name": "stderr",
          "text": [
            "Training: 100%|██████████| 64/64 [00:25<00:00,  2.55it/s, loss=1.9168, acc=30.11%]\n",
            "Testing: 100%|██████████| 17/17 [00:04<00:00,  4.10it/s, loss=1.9956, acc=17.37%]\n"
          ]
        },
        {
          "output_type": "stream",
          "name": "stdout",
          "text": [
            "\n",
            "Epoch: 4/100\n"
          ]
        },
        {
          "output_type": "stream",
          "name": "stderr",
          "text": [
            "Training: 100%|██████████| 64/64 [00:25<00:00,  2.54it/s, loss=1.9653, acc=28.05%]\n",
            "Testing: 100%|██████████| 17/17 [00:04<00:00,  3.77it/s, loss=1.8901, acc=31.27%]\n"
          ]
        },
        {
          "output_type": "stream",
          "name": "stdout",
          "text": [
            "\n",
            "Epoch: 5/100\n"
          ]
        },
        {
          "output_type": "stream",
          "name": "stderr",
          "text": [
            "Training: 100%|██████████| 64/64 [00:25<00:00,  2.54it/s, loss=1.8041, acc=33.33%]\n",
            "Testing: 100%|██████████| 17/17 [00:04<00:00,  3.51it/s, loss=1.8025, acc=33.20%]\n"
          ]
        },
        {
          "output_type": "stream",
          "name": "stdout",
          "text": [
            "\n",
            "Epoch: 6/100\n"
          ]
        },
        {
          "output_type": "stream",
          "name": "stderr",
          "text": [
            "Training: 100%|██████████| 64/64 [00:25<00:00,  2.52it/s, loss=1.8459, acc=32.65%]\n",
            "Testing: 100%|██████████| 17/17 [00:04<00:00,  3.69it/s, loss=1.8125, acc=31.66%]\n"
          ]
        },
        {
          "output_type": "stream",
          "name": "stdout",
          "text": [
            "\n",
            "Epoch: 7/100\n"
          ]
        },
        {
          "output_type": "stream",
          "name": "stderr",
          "text": [
            "Training: 100%|██████████| 64/64 [00:25<00:00,  2.49it/s, loss=1.8628, acc=32.36%]\n",
            "Testing: 100%|██████████| 17/17 [00:04<00:00,  4.16it/s, loss=1.8023, acc=33.98%]\n"
          ]
        },
        {
          "output_type": "stream",
          "name": "stdout",
          "text": [
            "New best model saved! Accuracy: 33.98%\n",
            "\n",
            "Epoch: 8/100\n"
          ]
        },
        {
          "output_type": "stream",
          "name": "stderr",
          "text": [
            "Training: 100%|██████████| 64/64 [00:26<00:00,  2.41it/s, loss=1.7306, acc=39.30%]\n",
            "Testing: 100%|██████████| 17/17 [00:04<00:00,  4.08it/s, loss=1.7452, acc=36.68%]\n"
          ]
        },
        {
          "output_type": "stream",
          "name": "stdout",
          "text": [
            "New best model saved! Accuracy: 36.68%\n",
            "\n",
            "Epoch: 9/100\n"
          ]
        },
        {
          "output_type": "stream",
          "name": "stderr",
          "text": [
            "Training: 100%|██████████| 64/64 [00:25<00:00,  2.47it/s, loss=1.7699, acc=35.29%]\n",
            "Testing: 100%|██████████| 17/17 [00:04<00:00,  3.90it/s, loss=1.7971, acc=34.36%]\n"
          ]
        },
        {
          "output_type": "stream",
          "name": "stdout",
          "text": [
            "\n",
            "Epoch: 10/100\n"
          ]
        },
        {
          "output_type": "stream",
          "name": "stderr",
          "text": [
            "Training: 100%|██████████| 64/64 [00:25<00:00,  2.49it/s, loss=1.7850, acc=34.60%]\n",
            "Testing: 100%|██████████| 17/17 [00:04<00:00,  3.48it/s, loss=1.7797, acc=34.75%]\n"
          ]
        },
        {
          "output_type": "stream",
          "name": "stdout",
          "text": [
            "\n",
            "Epoch: 11/100\n"
          ]
        },
        {
          "output_type": "stream",
          "name": "stderr",
          "text": [
            "Training: 100%|██████████| 64/64 [00:25<00:00,  2.50it/s, loss=1.6956, acc=38.81%]\n",
            "Testing: 100%|██████████| 17/17 [00:04<00:00,  3.67it/s, loss=1.7403, acc=39.00%]\n"
          ]
        },
        {
          "output_type": "stream",
          "name": "stdout",
          "text": [
            "Train Loss: 1.6956, Train Acc: 38.81%\n",
            "Test Loss: 1.7403, Test Acc: 39.00%\n",
            "New best model saved! Accuracy: 39.00%\n",
            "\n",
            "Epoch: 12/100\n"
          ]
        },
        {
          "output_type": "stream",
          "name": "stderr",
          "text": [
            "Training: 100%|██████████| 64/64 [00:26<00:00,  2.45it/s, loss=1.6982, acc=39.78%]\n",
            "Testing: 100%|██████████| 17/17 [00:04<00:00,  4.18it/s, loss=1.8829, acc=33.98%]\n"
          ]
        },
        {
          "output_type": "stream",
          "name": "stdout",
          "text": [
            "\n",
            "Epoch: 13/100\n"
          ]
        },
        {
          "output_type": "stream",
          "name": "stderr",
          "text": [
            "Training: 100%|██████████| 64/64 [00:25<00:00,  2.47it/s, loss=1.7528, acc=35.48%]\n",
            "Testing: 100%|██████████| 17/17 [00:04<00:00,  4.16it/s, loss=1.7973, acc=34.75%]\n"
          ]
        },
        {
          "output_type": "stream",
          "name": "stdout",
          "text": [
            "\n",
            "Epoch: 14/100\n"
          ]
        },
        {
          "output_type": "stream",
          "name": "stderr",
          "text": [
            "Training: 100%|██████████| 64/64 [00:26<00:00,  2.45it/s, loss=1.6192, acc=43.21%]\n",
            "Testing: 100%|██████████| 17/17 [00:04<00:00,  4.13it/s, loss=1.6735, acc=42.47%]\n"
          ]
        },
        {
          "output_type": "stream",
          "name": "stdout",
          "text": [
            "New best model saved! Accuracy: 42.47%\n",
            "\n",
            "Epoch: 15/100\n"
          ]
        },
        {
          "output_type": "stream",
          "name": "stderr",
          "text": [
            "Training: 100%|██████████| 64/64 [00:25<00:00,  2.46it/s, loss=1.5832, acc=44.57%]\n",
            "Testing: 100%|██████████| 17/17 [00:04<00:00,  3.44it/s, loss=1.7467, acc=35.14%]\n"
          ]
        },
        {
          "output_type": "stream",
          "name": "stdout",
          "text": [
            "\n",
            "Epoch: 16/100\n"
          ]
        },
        {
          "output_type": "stream",
          "name": "stderr",
          "text": [
            "Training: 100%|██████████| 64/64 [00:25<00:00,  2.50it/s, loss=1.6613, acc=40.76%]\n",
            "Testing: 100%|██████████| 17/17 [00:04<00:00,  3.70it/s, loss=1.7235, acc=40.54%]\n"
          ]
        },
        {
          "output_type": "stream",
          "name": "stdout",
          "text": [
            "\n",
            "Epoch: 17/100\n"
          ]
        },
        {
          "output_type": "stream",
          "name": "stderr",
          "text": [
            "Training: 100%|██████████| 64/64 [00:25<00:00,  2.46it/s, loss=1.5169, acc=48.09%]\n",
            "Testing: 100%|██████████| 17/17 [00:04<00:00,  4.12it/s, loss=1.5681, acc=46.33%]\n"
          ]
        },
        {
          "output_type": "stream",
          "name": "stdout",
          "text": [
            "New best model saved! Accuracy: 46.33%\n",
            "\n",
            "Epoch: 18/100\n"
          ]
        },
        {
          "output_type": "stream",
          "name": "stderr",
          "text": [
            "Training: 100%|██████████| 64/64 [00:26<00:00,  2.46it/s, loss=1.4953, acc=49.95%]\n",
            "Testing: 100%|██████████| 17/17 [00:04<00:00,  4.14it/s, loss=1.6245, acc=43.63%]\n"
          ]
        },
        {
          "output_type": "stream",
          "name": "stdout",
          "text": [
            "\n",
            "Epoch: 19/100\n"
          ]
        },
        {
          "output_type": "stream",
          "name": "stderr",
          "text": [
            "Training: 100%|██████████| 64/64 [00:26<00:00,  2.46it/s, loss=1.5195, acc=47.90%]\n",
            "Testing: 100%|██████████| 17/17 [00:04<00:00,  4.09it/s, loss=1.5697, acc=48.65%]\n"
          ]
        },
        {
          "output_type": "stream",
          "name": "stdout",
          "text": [
            "New best model saved! Accuracy: 48.65%\n",
            "\n",
            "Epoch: 20/100\n"
          ]
        },
        {
          "output_type": "stream",
          "name": "stderr",
          "text": [
            "Training: 100%|██████████| 64/64 [00:26<00:00,  2.42it/s, loss=1.4318, acc=52.20%]\n",
            "Testing: 100%|██████████| 17/17 [00:04<00:00,  3.43it/s, loss=1.4948, acc=51.35%]\n"
          ]
        },
        {
          "output_type": "stream",
          "name": "stdout",
          "text": [
            "New best model saved! Accuracy: 51.35%\n",
            "\n",
            "Epoch: 21/100\n"
          ]
        },
        {
          "output_type": "stream",
          "name": "stderr",
          "text": [
            "Training: 100%|██████████| 64/64 [00:26<00:00,  2.39it/s, loss=1.3861, acc=56.30%]\n",
            "Testing: 100%|██████████| 17/17 [00:04<00:00,  4.11it/s, loss=1.5456, acc=50.19%]\n"
          ]
        },
        {
          "output_type": "stream",
          "name": "stdout",
          "text": [
            "Train Loss: 1.3861, Train Acc: 56.30%\n",
            "Test Loss: 1.5456, Test Acc: 50.19%\n",
            "\n",
            "Epoch: 22/100\n"
          ]
        },
        {
          "output_type": "stream",
          "name": "stderr",
          "text": [
            "Training: 100%|██████████| 64/64 [00:25<00:00,  2.47it/s, loss=1.4844, acc=52.30%]\n",
            "Testing: 100%|██████████| 17/17 [00:04<00:00,  4.09it/s, loss=1.6774, acc=39.38%]\n"
          ]
        },
        {
          "output_type": "stream",
          "name": "stdout",
          "text": [
            "\n",
            "Epoch: 23/100\n"
          ]
        },
        {
          "output_type": "stream",
          "name": "stderr",
          "text": [
            "Training: 100%|██████████| 64/64 [00:26<00:00,  2.44it/s, loss=1.3858, acc=56.30%]\n",
            "Testing: 100%|██████████| 17/17 [00:04<00:00,  4.18it/s, loss=1.4809, acc=52.90%]\n"
          ]
        },
        {
          "output_type": "stream",
          "name": "stdout",
          "text": [
            "New best model saved! Accuracy: 52.90%\n",
            "\n",
            "Epoch: 24/100\n"
          ]
        },
        {
          "output_type": "stream",
          "name": "stderr",
          "text": [
            "Training: 100%|██████████| 64/64 [00:26<00:00,  2.45it/s, loss=1.3114, acc=59.04%]\n",
            "Testing: 100%|██████████| 17/17 [00:04<00:00,  3.71it/s, loss=1.5785, acc=50.58%]\n"
          ]
        },
        {
          "output_type": "stream",
          "name": "stdout",
          "text": [
            "\n",
            "Epoch: 25/100\n"
          ]
        },
        {
          "output_type": "stream",
          "name": "stderr",
          "text": [
            "Training: 100%|██████████| 64/64 [00:25<00:00,  2.49it/s, loss=1.4469, acc=52.98%]\n",
            "Testing: 100%|██████████| 17/17 [00:04<00:00,  3.44it/s, loss=1.4912, acc=51.35%]\n"
          ]
        },
        {
          "output_type": "stream",
          "name": "stdout",
          "text": [
            "\n",
            "Epoch: 26/100\n"
          ]
        },
        {
          "output_type": "stream",
          "name": "stderr",
          "text": [
            "Training: 100%|██████████| 64/64 [00:25<00:00,  2.49it/s, loss=1.3270, acc=59.14%]\n",
            "Testing: 100%|██████████| 17/17 [00:04<00:00,  3.91it/s, loss=1.4147, acc=59.46%]\n"
          ]
        },
        {
          "output_type": "stream",
          "name": "stdout",
          "text": [
            "New best model saved! Accuracy: 59.46%\n",
            "\n",
            "Epoch: 27/100\n"
          ]
        },
        {
          "output_type": "stream",
          "name": "stderr",
          "text": [
            "Training: 100%|██████████| 64/64 [00:26<00:00,  2.40it/s, loss=1.2310, acc=62.95%]\n",
            "Testing: 100%|██████████| 17/17 [00:04<00:00,  4.16it/s, loss=1.5003, acc=50.19%]\n"
          ]
        },
        {
          "output_type": "stream",
          "name": "stdout",
          "text": [
            "\n",
            "Epoch: 28/100\n"
          ]
        },
        {
          "output_type": "stream",
          "name": "stderr",
          "text": [
            "Training: 100%|██████████| 64/64 [00:26<00:00,  2.46it/s, loss=1.4008, acc=56.21%]\n",
            "Testing: 100%|██████████| 17/17 [00:04<00:00,  4.15it/s, loss=1.4373, acc=52.51%]\n"
          ]
        },
        {
          "output_type": "stream",
          "name": "stdout",
          "text": [
            "\n",
            "Epoch: 29/100\n"
          ]
        },
        {
          "output_type": "stream",
          "name": "stderr",
          "text": [
            "Training: 100%|██████████| 64/64 [00:25<00:00,  2.47it/s, loss=1.2580, acc=60.61%]\n",
            "Testing: 100%|██████████| 17/17 [00:04<00:00,  3.82it/s, loss=1.3663, acc=55.98%]\n"
          ]
        },
        {
          "output_type": "stream",
          "name": "stdout",
          "text": [
            "\n",
            "Epoch: 30/100\n"
          ]
        },
        {
          "output_type": "stream",
          "name": "stderr",
          "text": [
            "Training: 100%|██████████| 64/64 [00:25<00:00,  2.50it/s, loss=1.1813, acc=65.88%]\n",
            "Testing: 100%|██████████| 17/17 [00:04<00:00,  3.43it/s, loss=1.3463, acc=60.62%]\n"
          ]
        },
        {
          "output_type": "stream",
          "name": "stdout",
          "text": [
            "New best model saved! Accuracy: 60.62%\n",
            "\n",
            "Epoch: 31/100\n"
          ]
        },
        {
          "output_type": "stream",
          "name": "stderr",
          "text": [
            "Training: 100%|██████████| 64/64 [00:25<00:00,  2.48it/s, loss=1.3019, acc=60.22%]\n",
            "Testing: 100%|██████████| 17/17 [00:04<00:00,  4.04it/s, loss=1.4066, acc=53.28%]\n"
          ]
        },
        {
          "output_type": "stream",
          "name": "stdout",
          "text": [
            "Train Loss: 1.3019, Train Acc: 60.22%\n",
            "Test Loss: 1.4066, Test Acc: 53.28%\n",
            "\n",
            "Epoch: 32/100\n"
          ]
        },
        {
          "output_type": "stream",
          "name": "stderr",
          "text": [
            "Training: 100%|██████████| 64/64 [00:25<00:00,  2.46it/s, loss=1.2327, acc=64.52%]\n",
            "Testing: 100%|██████████| 17/17 [00:04<00:00,  4.14it/s, loss=1.3029, acc=59.07%]\n"
          ]
        },
        {
          "output_type": "stream",
          "name": "stdout",
          "text": [
            "\n",
            "Epoch: 33/100\n"
          ]
        },
        {
          "output_type": "stream",
          "name": "stderr",
          "text": [
            "Training: 100%|██████████| 64/64 [00:25<00:00,  2.47it/s, loss=1.1247, acc=69.40%]\n",
            "Testing: 100%|██████████| 17/17 [00:04<00:00,  4.16it/s, loss=1.3148, acc=63.32%]\n"
          ]
        },
        {
          "output_type": "stream",
          "name": "stdout",
          "text": [
            "New best model saved! Accuracy: 63.32%\n",
            "\n",
            "Epoch: 34/100\n"
          ]
        },
        {
          "output_type": "stream",
          "name": "stderr",
          "text": [
            "Training: 100%|██████████| 64/64 [00:26<00:00,  2.40it/s, loss=1.2068, acc=66.67%]\n",
            "Testing: 100%|██████████| 17/17 [00:04<00:00,  3.43it/s, loss=1.3953, acc=58.69%]\n"
          ]
        },
        {
          "output_type": "stream",
          "name": "stdout",
          "text": [
            "\n",
            "Epoch: 35/100\n"
          ]
        },
        {
          "output_type": "stream",
          "name": "stderr",
          "text": [
            "Training: 100%|██████████| 64/64 [00:25<00:00,  2.50it/s, loss=1.2316, acc=63.64%]\n",
            "Testing: 100%|██████████| 17/17 [00:04<00:00,  3.79it/s, loss=1.3012, acc=58.30%]\n"
          ]
        },
        {
          "output_type": "stream",
          "name": "stdout",
          "text": [
            "\n",
            "Epoch: 36/100\n"
          ]
        },
        {
          "output_type": "stream",
          "name": "stderr",
          "text": [
            "Training: 100%|██████████| 64/64 [00:25<00:00,  2.48it/s, loss=1.0787, acc=72.24%]\n",
            "Testing: 100%|██████████| 17/17 [00:04<00:00,  4.15it/s, loss=1.2443, acc=62.16%]\n"
          ]
        },
        {
          "output_type": "stream",
          "name": "stdout",
          "text": [
            "\n",
            "Epoch: 37/100\n"
          ]
        },
        {
          "output_type": "stream",
          "name": "stderr",
          "text": [
            "Training: 100%|██████████| 64/64 [00:25<00:00,  2.49it/s, loss=1.2189, acc=64.81%]\n",
            "Testing: 100%|██████████| 17/17 [00:04<00:00,  4.17it/s, loss=1.7328, acc=48.26%]\n"
          ]
        },
        {
          "output_type": "stream",
          "name": "stdout",
          "text": [
            "\n",
            "Epoch: 38/100\n"
          ]
        },
        {
          "output_type": "stream",
          "name": "stderr",
          "text": [
            "Training: 100%|██████████| 64/64 [00:25<00:00,  2.49it/s, loss=1.2687, acc=59.63%]\n",
            "Testing: 100%|██████████| 17/17 [00:04<00:00,  3.97it/s, loss=1.2465, acc=62.55%]\n"
          ]
        },
        {
          "output_type": "stream",
          "name": "stdout",
          "text": [
            "\n",
            "Epoch: 39/100\n"
          ]
        },
        {
          "output_type": "stream",
          "name": "stderr",
          "text": [
            "Training: 100%|██████████| 64/64 [00:25<00:00,  2.49it/s, loss=1.0310, acc=72.83%]\n",
            "Testing: 100%|██████████| 17/17 [00:04<00:00,  3.51it/s, loss=1.2098, acc=64.09%]\n"
          ]
        },
        {
          "output_type": "stream",
          "name": "stdout",
          "text": [
            "New best model saved! Accuracy: 64.09%\n",
            "\n",
            "Epoch: 40/100\n"
          ]
        },
        {
          "output_type": "stream",
          "name": "stderr",
          "text": [
            "Training: 100%|██████████| 64/64 [00:26<00:00,  2.40it/s, loss=1.1502, acc=67.16%]\n",
            "Testing: 100%|██████████| 17/17 [00:04<00:00,  4.05it/s, loss=1.4047, acc=57.53%]\n"
          ]
        },
        {
          "output_type": "stream",
          "name": "stdout",
          "text": [
            "\n",
            "Epoch: 41/100\n"
          ]
        },
        {
          "output_type": "stream",
          "name": "stderr",
          "text": [
            "Training: 100%|██████████| 64/64 [00:25<00:00,  2.47it/s, loss=1.2235, acc=62.37%]\n",
            "Testing: 100%|██████████| 17/17 [00:04<00:00,  4.09it/s, loss=1.2891, acc=65.64%]\n"
          ]
        },
        {
          "output_type": "stream",
          "name": "stdout",
          "text": [
            "Train Loss: 1.2235, Train Acc: 62.37%\n",
            "Test Loss: 1.2891, Test Acc: 65.64%\n",
            "New best model saved! Accuracy: 65.64%\n",
            "\n",
            "Epoch: 42/100\n"
          ]
        },
        {
          "output_type": "stream",
          "name": "stderr",
          "text": [
            "Training: 100%|██████████| 64/64 [00:25<00:00,  2.47it/s, loss=1.0177, acc=74.49%]\n",
            "Testing: 100%|██████████| 17/17 [00:04<00:00,  3.98it/s, loss=1.1707, acc=69.11%]\n"
          ]
        },
        {
          "output_type": "stream",
          "name": "stdout",
          "text": [
            "New best model saved! Accuracy: 69.11%\n",
            "\n",
            "Epoch: 43/100\n"
          ]
        },
        {
          "output_type": "stream",
          "name": "stderr",
          "text": [
            "Training: 100%|██████████| 64/64 [00:26<00:00,  2.45it/s, loss=1.1213, acc=70.19%]\n",
            "Testing: 100%|██████████| 17/17 [00:04<00:00,  3.68it/s, loss=1.3316, acc=60.23%]\n"
          ]
        },
        {
          "output_type": "stream",
          "name": "stdout",
          "text": [
            "\n",
            "Epoch: 44/100\n"
          ]
        },
        {
          "output_type": "stream",
          "name": "stderr",
          "text": [
            "Training: 100%|██████████| 64/64 [00:26<00:00,  2.46it/s, loss=1.1705, acc=66.37%]\n",
            "Testing: 100%|██████████| 17/17 [00:04<00:00,  4.12it/s, loss=1.1901, acc=66.41%]\n"
          ]
        },
        {
          "output_type": "stream",
          "name": "stdout",
          "text": [
            "\n",
            "Epoch: 45/100\n"
          ]
        },
        {
          "output_type": "stream",
          "name": "stderr",
          "text": [
            "Training: 100%|██████████| 64/64 [00:25<00:00,  2.49it/s, loss=0.9725, acc=76.83%]\n",
            "Testing: 100%|██████████| 17/17 [00:04<00:00,  4.15it/s, loss=1.1259, acc=66.80%]\n"
          ]
        },
        {
          "output_type": "stream",
          "name": "stdout",
          "text": [
            "\n",
            "Epoch: 46/100\n"
          ]
        },
        {
          "output_type": "stream",
          "name": "stderr",
          "text": [
            "Training: 100%|██████████| 64/64 [00:25<00:00,  2.48it/s, loss=1.0204, acc=74.49%]\n",
            "Testing: 100%|██████████| 17/17 [00:04<00:00,  4.02it/s, loss=1.1860, acc=66.41%]\n"
          ]
        },
        {
          "output_type": "stream",
          "name": "stdout",
          "text": [
            "\n",
            "Epoch: 47/100\n"
          ]
        },
        {
          "output_type": "stream",
          "name": "stderr",
          "text": [
            "Training: 100%|██████████| 64/64 [00:25<00:00,  2.49it/s, loss=1.1249, acc=70.58%]\n",
            "Testing: 100%|██████████| 17/17 [00:04<00:00,  3.52it/s, loss=1.2983, acc=57.14%]\n"
          ]
        },
        {
          "output_type": "stream",
          "name": "stdout",
          "text": [
            "\n",
            "Epoch: 48/100\n"
          ]
        },
        {
          "output_type": "stream",
          "name": "stderr",
          "text": [
            "Training: 100%|██████████| 64/64 [00:25<00:00,  2.50it/s, loss=0.9599, acc=77.81%]\n",
            "Testing: 100%|██████████| 17/17 [00:04<00:00,  3.80it/s, loss=1.0861, acc=73.36%]\n"
          ]
        },
        {
          "output_type": "stream",
          "name": "stdout",
          "text": [
            "New best model saved! Accuracy: 73.36%\n",
            "\n",
            "Epoch: 49/100\n"
          ]
        },
        {
          "output_type": "stream",
          "name": "stderr",
          "text": [
            "Training: 100%|██████████| 64/64 [00:25<00:00,  2.46it/s, loss=0.9929, acc=74.29%]\n",
            "Testing: 100%|██████████| 17/17 [00:04<00:00,  4.13it/s, loss=1.2342, acc=61.00%]\n"
          ]
        },
        {
          "output_type": "stream",
          "name": "stdout",
          "text": [
            "\n",
            "Epoch: 50/100\n"
          ]
        },
        {
          "output_type": "stream",
          "name": "stderr",
          "text": [
            "Training: 100%|██████████| 64/64 [00:25<00:00,  2.48it/s, loss=1.0561, acc=71.95%]\n",
            "Testing: 100%|██████████| 17/17 [00:04<00:00,  4.20it/s, loss=1.2405, acc=62.93%]\n"
          ]
        },
        {
          "output_type": "stream",
          "name": "stdout",
          "text": [
            "\n",
            "Epoch: 51/100\n"
          ]
        },
        {
          "output_type": "stream",
          "name": "stderr",
          "text": [
            "Training: 100%|██████████| 64/64 [00:25<00:00,  2.47it/s, loss=0.9190, acc=77.91%]\n",
            "Testing: 100%|██████████| 17/17 [00:04<00:00,  3.65it/s, loss=1.1146, acc=70.66%]\n"
          ]
        },
        {
          "output_type": "stream",
          "name": "stdout",
          "text": [
            "Train Loss: 0.9190, Train Acc: 77.91%\n",
            "Test Loss: 1.1146, Test Acc: 70.66%\n",
            "\n",
            "Epoch: 52/100\n"
          ]
        },
        {
          "output_type": "stream",
          "name": "stderr",
          "text": [
            "Training: 100%|██████████| 64/64 [00:25<00:00,  2.49it/s, loss=0.9329, acc=78.10%]\n",
            "Testing: 100%|██████████| 17/17 [00:04<00:00,  3.66it/s, loss=1.3927, acc=57.53%]\n"
          ]
        },
        {
          "output_type": "stream",
          "name": "stdout",
          "text": [
            "\n",
            "Epoch: 53/100\n"
          ]
        },
        {
          "output_type": "stream",
          "name": "stderr",
          "text": [
            "Training: 100%|██████████| 64/64 [00:25<00:00,  2.47it/s, loss=1.1226, acc=70.19%]\n",
            "Testing: 100%|██████████| 17/17 [00:04<00:00,  4.19it/s, loss=1.2566, acc=62.55%]\n"
          ]
        },
        {
          "output_type": "stream",
          "name": "stdout",
          "text": [
            "\n",
            "Epoch: 54/100\n"
          ]
        },
        {
          "output_type": "stream",
          "name": "stderr",
          "text": [
            "Training: 100%|██████████| 64/64 [00:25<00:00,  2.47it/s, loss=0.9219, acc=78.20%]\n",
            "Testing: 100%|██████████| 17/17 [00:04<00:00,  4.10it/s, loss=1.0610, acc=74.52%]\n"
          ]
        },
        {
          "output_type": "stream",
          "name": "stdout",
          "text": [
            "New best model saved! Accuracy: 74.52%\n",
            "\n",
            "Epoch: 55/100\n"
          ]
        },
        {
          "output_type": "stream",
          "name": "stderr",
          "text": [
            "Training: 100%|██████████| 64/64 [00:25<00:00,  2.48it/s, loss=0.9004, acc=80.25%]\n",
            "Testing: 100%|██████████| 17/17 [00:04<00:00,  3.89it/s, loss=1.1163, acc=65.64%]\n"
          ]
        },
        {
          "output_type": "stream",
          "name": "stdout",
          "text": [
            "\n",
            "Epoch: 56/100\n"
          ]
        },
        {
          "output_type": "stream",
          "name": "stderr",
          "text": [
            "Training: 100%|██████████| 64/64 [00:25<00:00,  2.49it/s, loss=1.0641, acc=71.46%]\n",
            "Testing: 100%|██████████| 17/17 [00:04<00:00,  3.49it/s, loss=1.2065, acc=65.64%]\n"
          ]
        },
        {
          "output_type": "stream",
          "name": "stdout",
          "text": [
            "\n",
            "Epoch: 57/100\n"
          ]
        },
        {
          "output_type": "stream",
          "name": "stderr",
          "text": [
            "Training: 100%|██████████| 64/64 [00:25<00:00,  2.47it/s, loss=0.8686, acc=82.31%]\n",
            "Testing: 100%|██████████| 17/17 [00:04<00:00,  4.12it/s, loss=1.0194, acc=74.13%]\n"
          ]
        },
        {
          "output_type": "stream",
          "name": "stdout",
          "text": [
            "\n",
            "Epoch: 58/100\n"
          ]
        },
        {
          "output_type": "stream",
          "name": "stderr",
          "text": [
            "Training: 100%|██████████| 64/64 [00:25<00:00,  2.48it/s, loss=0.8629, acc=82.40%]\n",
            "Testing: 100%|██████████| 17/17 [00:04<00:00,  4.22it/s, loss=1.2245, acc=61.78%]\n"
          ]
        },
        {
          "output_type": "stream",
          "name": "stdout",
          "text": [
            "\n",
            "Epoch: 59/100\n"
          ]
        },
        {
          "output_type": "stream",
          "name": "stderr",
          "text": [
            "Training: 100%|██████████| 64/64 [00:25<00:00,  2.48it/s, loss=1.0906, acc=71.36%]\n",
            "Testing: 100%|██████████| 17/17 [00:04<00:00,  4.15it/s, loss=1.2022, acc=64.86%]\n"
          ]
        },
        {
          "output_type": "stream",
          "name": "stdout",
          "text": [
            "\n",
            "Epoch: 60/100\n"
          ]
        },
        {
          "output_type": "stream",
          "name": "stderr",
          "text": [
            "Training: 100%|██████████| 64/64 [00:25<00:00,  2.47it/s, loss=0.8696, acc=81.33%]\n",
            "Testing: 100%|██████████| 17/17 [00:04<00:00,  3.60it/s, loss=1.0513, acc=70.66%]\n"
          ]
        },
        {
          "output_type": "stream",
          "name": "stdout",
          "text": [
            "\n",
            "Epoch: 61/100\n"
          ]
        },
        {
          "output_type": "stream",
          "name": "stderr",
          "text": [
            "Training: 100%|██████████| 64/64 [00:25<00:00,  2.51it/s, loss=0.8218, acc=84.56%]\n",
            "Testing: 100%|██████████| 17/17 [00:04<00:00,  3.58it/s, loss=1.1986, acc=65.64%]\n"
          ]
        },
        {
          "output_type": "stream",
          "name": "stdout",
          "text": [
            "Train Loss: 0.8218, Train Acc: 84.56%\n",
            "Test Loss: 1.1986, Test Acc: 65.64%\n",
            "\n",
            "Epoch: 62/100\n"
          ]
        },
        {
          "output_type": "stream",
          "name": "stderr",
          "text": [
            "Training: 100%|██████████| 64/64 [00:25<00:00,  2.49it/s, loss=0.9497, acc=77.52%]\n",
            "Testing: 100%|██████████| 17/17 [00:04<00:00,  4.14it/s, loss=1.1482, acc=65.25%]\n"
          ]
        },
        {
          "output_type": "stream",
          "name": "stdout",
          "text": [
            "\n",
            "Epoch: 63/100\n"
          ]
        },
        {
          "output_type": "stream",
          "name": "stderr",
          "text": [
            "Training: 100%|██████████| 64/64 [00:25<00:00,  2.48it/s, loss=0.8702, acc=81.43%]\n",
            "Testing: 100%|██████████| 17/17 [00:04<00:00,  4.07it/s, loss=1.0018, acc=74.90%]\n"
          ]
        },
        {
          "output_type": "stream",
          "name": "stdout",
          "text": [
            "New best model saved! Accuracy: 74.90%\n",
            "\n",
            "Epoch: 64/100\n"
          ]
        },
        {
          "output_type": "stream",
          "name": "stderr",
          "text": [
            "Training: 100%|██████████| 64/64 [00:26<00:00,  2.44it/s, loss=0.8165, acc=83.97%]\n",
            "Testing: 100%|██████████| 17/17 [00:04<00:00,  3.90it/s, loss=1.0395, acc=72.97%]\n"
          ]
        },
        {
          "output_type": "stream",
          "name": "stdout",
          "text": [
            "\n",
            "Epoch: 65/100\n"
          ]
        },
        {
          "output_type": "stream",
          "name": "stderr",
          "text": [
            "Training: 100%|██████████| 64/64 [00:25<00:00,  2.47it/s, loss=1.0060, acc=75.17%]\n",
            "Testing: 100%|██████████| 17/17 [00:04<00:00,  3.48it/s, loss=1.1822, acc=71.04%]\n"
          ]
        },
        {
          "output_type": "stream",
          "name": "stdout",
          "text": [
            "\n",
            "Epoch: 66/100\n"
          ]
        },
        {
          "output_type": "stream",
          "name": "stderr",
          "text": [
            "Training: 100%|██████████| 64/64 [00:25<00:00,  2.48it/s, loss=0.9002, acc=78.20%]\n",
            "Testing: 100%|██████████| 17/17 [00:04<00:00,  3.99it/s, loss=0.9810, acc=74.52%]\n"
          ]
        },
        {
          "output_type": "stream",
          "name": "stdout",
          "text": [
            "\n",
            "Epoch: 67/100\n"
          ]
        },
        {
          "output_type": "stream",
          "name": "stderr",
          "text": [
            "Training: 100%|██████████| 64/64 [00:25<00:00,  2.48it/s, loss=0.7816, acc=86.22%]\n",
            "Testing: 100%|██████████| 17/17 [00:04<00:00,  4.11it/s, loss=0.9964, acc=72.97%]\n"
          ]
        },
        {
          "output_type": "stream",
          "name": "stdout",
          "text": [
            "\n",
            "Epoch: 68/100\n"
          ]
        },
        {
          "output_type": "stream",
          "name": "stderr",
          "text": [
            "Training: 100%|██████████| 64/64 [00:25<00:00,  2.47it/s, loss=0.9705, acc=76.74%]\n",
            "Testing: 100%|██████████| 17/17 [00:04<00:00,  4.13it/s, loss=1.1588, acc=67.95%]\n"
          ]
        },
        {
          "output_type": "stream",
          "name": "stdout",
          "text": [
            "\n",
            "Epoch: 69/100\n"
          ]
        },
        {
          "output_type": "stream",
          "name": "stderr",
          "text": [
            "Training: 100%|██████████| 64/64 [00:25<00:00,  2.47it/s, loss=0.8873, acc=79.77%]\n",
            "Testing: 100%|██████████| 17/17 [00:04<00:00,  3.76it/s, loss=1.0165, acc=72.97%]\n"
          ]
        },
        {
          "output_type": "stream",
          "name": "stdout",
          "text": [
            "\n",
            "Epoch: 70/100\n"
          ]
        },
        {
          "output_type": "stream",
          "name": "stderr",
          "text": [
            "Training: 100%|██████████| 64/64 [00:25<00:00,  2.49it/s, loss=0.7602, acc=87.39%]\n",
            "Testing: 100%|██████████| 17/17 [00:04<00:00,  3.54it/s, loss=1.0344, acc=74.52%]\n"
          ]
        },
        {
          "output_type": "stream",
          "name": "stdout",
          "text": [
            "\n",
            "Epoch: 71/100\n"
          ]
        },
        {
          "output_type": "stream",
          "name": "stderr",
          "text": [
            "Training: 100%|██████████| 64/64 [00:25<00:00,  2.48it/s, loss=0.9369, acc=77.71%]\n",
            "Testing: 100%|██████████| 17/17 [00:04<00:00,  4.18it/s, loss=1.2578, acc=63.71%]\n"
          ]
        },
        {
          "output_type": "stream",
          "name": "stdout",
          "text": [
            "Train Loss: 0.9369, Train Acc: 77.71%\n",
            "Test Loss: 1.2578, Test Acc: 63.71%\n",
            "\n",
            "Epoch: 72/100\n"
          ]
        },
        {
          "output_type": "stream",
          "name": "stderr",
          "text": [
            "Training: 100%|██████████| 64/64 [00:25<00:00,  2.47it/s, loss=0.8860, acc=79.77%]\n",
            "Testing: 100%|██████████| 17/17 [00:04<00:00,  4.13it/s, loss=1.0014, acc=74.13%]\n"
          ]
        },
        {
          "output_type": "stream",
          "name": "stdout",
          "text": [
            "\n",
            "Epoch: 73/100\n"
          ]
        },
        {
          "output_type": "stream",
          "name": "stderr",
          "text": [
            "Training: 100%|██████████| 64/64 [00:26<00:00,  2.46it/s, loss=0.7448, acc=87.29%]\n",
            "Testing: 100%|██████████| 17/17 [00:04<00:00,  4.16it/s, loss=1.0162, acc=73.36%]\n"
          ]
        },
        {
          "output_type": "stream",
          "name": "stdout",
          "text": [
            "\n",
            "Epoch: 74/100\n"
          ]
        },
        {
          "output_type": "stream",
          "name": "stderr",
          "text": [
            "Training: 100%|██████████| 64/64 [00:25<00:00,  2.49it/s, loss=0.8430, acc=83.77%]\n",
            "Testing: 100%|██████████| 17/17 [00:04<00:00,  3.62it/s, loss=1.3218, acc=60.62%]\n"
          ]
        },
        {
          "output_type": "stream",
          "name": "stdout",
          "text": [
            "\n",
            "Epoch: 75/100\n"
          ]
        },
        {
          "output_type": "stream",
          "name": "stderr",
          "text": [
            "Training: 100%|██████████| 64/64 [00:25<00:00,  2.49it/s, loss=0.9054, acc=78.59%]\n",
            "Testing: 100%|██████████| 17/17 [00:04<00:00,  3.67it/s, loss=1.0608, acc=67.95%]\n"
          ]
        },
        {
          "output_type": "stream",
          "name": "stdout",
          "text": [
            "\n",
            "Epoch: 76/100\n"
          ]
        },
        {
          "output_type": "stream",
          "name": "stderr",
          "text": [
            "Training: 100%|██████████| 64/64 [00:25<00:00,  2.49it/s, loss=0.7476, acc=87.39%]\n",
            "Testing: 100%|██████████| 17/17 [00:04<00:00,  4.16it/s, loss=0.9721, acc=77.61%]\n"
          ]
        },
        {
          "output_type": "stream",
          "name": "stdout",
          "text": [
            "New best model saved! Accuracy: 77.61%\n",
            "\n",
            "Epoch: 77/100\n"
          ]
        },
        {
          "output_type": "stream",
          "name": "stderr",
          "text": [
            "Training: 100%|██████████| 64/64 [00:25<00:00,  2.47it/s, loss=0.8350, acc=83.77%]\n",
            "Testing: 100%|██████████| 17/17 [00:04<00:00,  4.14it/s, loss=1.2777, acc=64.09%]\n"
          ]
        },
        {
          "output_type": "stream",
          "name": "stdout",
          "text": [
            "\n",
            "Epoch: 78/100\n"
          ]
        },
        {
          "output_type": "stream",
          "name": "stderr",
          "text": [
            "Training: 100%|██████████| 64/64 [00:25<00:00,  2.47it/s, loss=0.8692, acc=81.43%]\n",
            "Testing: 100%|██████████| 17/17 [00:04<00:00,  3.94it/s, loss=0.9986, acc=76.06%]\n"
          ]
        },
        {
          "output_type": "stream",
          "name": "stdout",
          "text": [
            "\n",
            "Epoch: 79/100\n"
          ]
        },
        {
          "output_type": "stream",
          "name": "stderr",
          "text": [
            "Training: 100%|██████████| 64/64 [00:25<00:00,  2.48it/s, loss=0.7313, acc=87.49%]\n",
            "Testing: 100%|██████████| 17/17 [00:04<00:00,  3.47it/s, loss=0.9995, acc=72.20%]\n"
          ]
        },
        {
          "output_type": "stream",
          "name": "stdout",
          "text": [
            "\n",
            "Epoch: 80/100\n"
          ]
        },
        {
          "output_type": "stream",
          "name": "stderr",
          "text": [
            "Training: 100%|██████████| 64/64 [00:25<00:00,  2.50it/s, loss=0.8279, acc=82.40%]\n",
            "Testing: 100%|██████████| 17/17 [00:04<00:00,  3.99it/s, loss=1.2654, acc=59.85%]\n"
          ]
        },
        {
          "output_type": "stream",
          "name": "stdout",
          "text": [
            "\n",
            "Epoch: 81/100\n"
          ]
        },
        {
          "output_type": "stream",
          "name": "stderr",
          "text": [
            "Training: 100%|██████████| 64/64 [00:25<00:00,  2.49it/s, loss=0.8674, acc=81.62%]\n",
            "Testing: 100%|██████████| 17/17 [00:04<00:00,  4.19it/s, loss=0.9726, acc=76.45%]\n"
          ]
        },
        {
          "output_type": "stream",
          "name": "stdout",
          "text": [
            "Train Loss: 0.8674, Train Acc: 81.62%\n",
            "Test Loss: 0.9726, Test Acc: 76.45%\n",
            "\n",
            "Epoch: 82/100\n"
          ]
        },
        {
          "output_type": "stream",
          "name": "stderr",
          "text": [
            "Training: 100%|██████████| 64/64 [00:25<00:00,  2.47it/s, loss=0.7381, acc=87.39%]\n",
            "Testing: 100%|██████████| 17/17 [00:04<00:00,  4.15it/s, loss=0.9770, acc=76.45%]\n"
          ]
        },
        {
          "output_type": "stream",
          "name": "stdout",
          "text": [
            "\n",
            "Epoch: 83/100\n"
          ]
        },
        {
          "output_type": "stream",
          "name": "stderr",
          "text": [
            "Training: 100%|██████████| 64/64 [00:25<00:00,  2.48it/s, loss=0.7857, acc=85.34%]\n",
            "Testing: 100%|██████████| 17/17 [00:04<00:00,  3.87it/s, loss=1.0694, acc=70.27%]\n"
          ]
        },
        {
          "output_type": "stream",
          "name": "stdout",
          "text": [
            "\n",
            "Epoch: 84/100\n"
          ]
        },
        {
          "output_type": "stream",
          "name": "stderr",
          "text": [
            "Training: 100%|██████████| 64/64 [00:25<00:00,  2.50it/s, loss=0.8553, acc=81.92%]\n",
            "Testing: 100%|██████████| 17/17 [00:04<00:00,  3.50it/s, loss=0.9944, acc=76.06%]\n"
          ]
        },
        {
          "output_type": "stream",
          "name": "stdout",
          "text": [
            "\n",
            "Epoch: 85/100\n"
          ]
        },
        {
          "output_type": "stream",
          "name": "stderr",
          "text": [
            "Training: 100%|██████████| 64/64 [00:25<00:00,  2.49it/s, loss=0.6894, acc=91.01%]\n",
            "Testing: 100%|██████████| 17/17 [00:04<00:00,  3.93it/s, loss=0.9612, acc=74.52%]\n"
          ]
        },
        {
          "output_type": "stream",
          "name": "stdout",
          "text": [
            "\n",
            "Epoch: 86/100\n"
          ]
        },
        {
          "output_type": "stream",
          "name": "stderr",
          "text": [
            "Training: 100%|██████████| 64/64 [00:25<00:00,  2.48it/s, loss=0.7453, acc=86.80%]\n",
            "Testing: 100%|██████████| 17/17 [00:04<00:00,  4.12it/s, loss=1.0944, acc=74.13%]\n"
          ]
        },
        {
          "output_type": "stream",
          "name": "stdout",
          "text": [
            "\n",
            "Epoch: 87/100\n"
          ]
        },
        {
          "output_type": "stream",
          "name": "stderr",
          "text": [
            "Training: 100%|██████████| 64/64 [00:25<00:00,  2.48it/s, loss=0.8329, acc=82.21%]\n",
            "Testing: 100%|██████████| 17/17 [00:04<00:00,  4.22it/s, loss=1.1158, acc=69.50%]\n"
          ]
        },
        {
          "output_type": "stream",
          "name": "stdout",
          "text": [
            "\n",
            "Epoch: 88/100\n"
          ]
        },
        {
          "output_type": "stream",
          "name": "stderr",
          "text": [
            "Training: 100%|██████████| 64/64 [00:25<00:00,  2.49it/s, loss=0.7013, acc=90.32%]\n",
            "Testing: 100%|██████████| 17/17 [00:04<00:00,  3.97it/s, loss=0.9282, acc=78.38%]\n"
          ]
        },
        {
          "output_type": "stream",
          "name": "stdout",
          "text": [
            "New best model saved! Accuracy: 78.38%\n",
            "\n",
            "Epoch: 89/100\n"
          ]
        },
        {
          "output_type": "stream",
          "name": "stderr",
          "text": [
            "Training: 100%|██████████| 64/64 [00:25<00:00,  2.51it/s, loss=0.7523, acc=86.02%]\n",
            "Testing: 100%|██████████| 17/17 [00:04<00:00,  3.50it/s, loss=1.2677, acc=66.02%]\n"
          ]
        },
        {
          "output_type": "stream",
          "name": "stdout",
          "text": [
            "\n",
            "Epoch: 90/100\n"
          ]
        },
        {
          "output_type": "stream",
          "name": "stderr",
          "text": [
            "Training: 100%|██████████| 64/64 [00:25<00:00,  2.48it/s, loss=0.7893, acc=85.34%]\n",
            "Testing: 100%|██████████| 17/17 [00:04<00:00,  4.16it/s, loss=1.0319, acc=76.45%]\n"
          ]
        },
        {
          "output_type": "stream",
          "name": "stdout",
          "text": [
            "\n",
            "Epoch: 91/100\n"
          ]
        },
        {
          "output_type": "stream",
          "name": "stderr",
          "text": [
            "Training: 100%|██████████| 64/64 [00:25<00:00,  2.48it/s, loss=0.6931, acc=91.50%]\n",
            "Testing: 100%|██████████| 17/17 [00:04<00:00,  4.13it/s, loss=0.9603, acc=78.76%]\n"
          ]
        },
        {
          "output_type": "stream",
          "name": "stdout",
          "text": [
            "Train Loss: 0.6931, Train Acc: 91.50%\n",
            "Test Loss: 0.9603, Test Acc: 78.76%\n",
            "New best model saved! Accuracy: 78.76%\n",
            "\n",
            "Epoch: 92/100\n"
          ]
        },
        {
          "output_type": "stream",
          "name": "stderr",
          "text": [
            "Training: 100%|██████████| 64/64 [00:25<00:00,  2.47it/s, loss=0.6697, acc=91.50%]\n",
            "Testing: 100%|██████████| 17/17 [00:04<00:00,  4.16it/s, loss=1.1195, acc=70.27%]\n"
          ]
        },
        {
          "output_type": "stream",
          "name": "stdout",
          "text": [
            "\n",
            "Epoch: 93/100\n"
          ]
        },
        {
          "output_type": "stream",
          "name": "stderr",
          "text": [
            "Training: 100%|██████████| 64/64 [00:25<00:00,  2.48it/s, loss=0.8575, acc=81.52%]\n",
            "Testing: 100%|██████████| 17/17 [00:04<00:00,  3.55it/s, loss=1.0276, acc=72.97%]\n"
          ]
        },
        {
          "output_type": "stream",
          "name": "stdout",
          "text": [
            "\n",
            "Epoch: 94/100\n"
          ]
        },
        {
          "output_type": "stream",
          "name": "stderr",
          "text": [
            "Training: 100%|██████████| 64/64 [00:25<00:00,  2.50it/s, loss=0.6860, acc=90.32%]\n",
            "Testing: 100%|██████████| 17/17 [00:04<00:00,  3.76it/s, loss=0.9270, acc=80.31%]\n"
          ]
        },
        {
          "output_type": "stream",
          "name": "stdout",
          "text": [
            "New best model saved! Accuracy: 80.31%\n",
            "\n",
            "Epoch: 95/100\n"
          ]
        },
        {
          "output_type": "stream",
          "name": "stderr",
          "text": [
            "Training: 100%|██████████| 64/64 [00:26<00:00,  2.39it/s, loss=0.6759, acc=91.20%]\n",
            "Testing: 100%|██████████| 17/17 [00:04<00:00,  4.09it/s, loss=1.1726, acc=64.86%]\n"
          ]
        },
        {
          "output_type": "stream",
          "name": "stdout",
          "text": [
            "\n",
            "Epoch: 96/100\n"
          ]
        },
        {
          "output_type": "stream",
          "name": "stderr",
          "text": [
            "Training: 100%|██████████| 64/64 [00:25<00:00,  2.47it/s, loss=0.8639, acc=82.40%]\n",
            "Testing: 100%|██████████| 17/17 [00:04<00:00,  4.20it/s, loss=1.0879, acc=69.11%]\n"
          ]
        },
        {
          "output_type": "stream",
          "name": "stdout",
          "text": [
            "\n",
            "Epoch: 97/100\n"
          ]
        },
        {
          "output_type": "stream",
          "name": "stderr",
          "text": [
            "Training: 100%|██████████| 64/64 [00:25<00:00,  2.47it/s, loss=0.7230, acc=88.17%]\n",
            "Testing: 100%|██████████| 17/17 [00:04<00:00,  3.65it/s, loss=0.9788, acc=77.61%]\n"
          ]
        },
        {
          "output_type": "stream",
          "name": "stdout",
          "text": [
            "\n",
            "Epoch: 98/100\n"
          ]
        },
        {
          "output_type": "stream",
          "name": "stderr",
          "text": [
            "Training: 100%|██████████| 64/64 [00:25<00:00,  2.48it/s, loss=0.6722, acc=91.50%]\n",
            "Testing: 100%|██████████| 17/17 [00:04<00:00,  3.66it/s, loss=0.9749, acc=76.45%]\n"
          ]
        },
        {
          "output_type": "stream",
          "name": "stdout",
          "text": [
            "\n",
            "Epoch: 99/100\n"
          ]
        },
        {
          "output_type": "stream",
          "name": "stderr",
          "text": [
            "Training: 100%|██████████| 64/64 [00:25<00:00,  2.49it/s, loss=0.8275, acc=83.77%]\n",
            "Testing: 100%|██████████| 17/17 [00:04<00:00,  4.15it/s, loss=1.0887, acc=74.13%]\n"
          ]
        },
        {
          "output_type": "stream",
          "name": "stdout",
          "text": [
            "\n",
            "Epoch: 100/100\n"
          ]
        },
        {
          "output_type": "stream",
          "name": "stderr",
          "text": [
            "Training: 100%|██████████| 64/64 [00:25<00:00,  2.47it/s, loss=0.6831, acc=90.42%]\n",
            "Testing: 100%|██████████| 17/17 [00:04<00:00,  4.16it/s, loss=0.9508, acc=78.38%]"
          ]
        },
        {
          "output_type": "stream",
          "name": "stdout",
          "text": [
            "\n",
            "Loaded best model\n",
            "Best model performance:\n",
            "Test Loss: 0.9270, Test Acc: 80.31%\n",
            "\n",
            "Training completed!\n"
          ]
        },
        {
          "output_type": "stream",
          "name": "stderr",
          "text": [
            "\n"
          ]
        }
      ]
    }
  ]
}