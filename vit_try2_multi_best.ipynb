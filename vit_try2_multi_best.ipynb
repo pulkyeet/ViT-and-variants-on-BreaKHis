{
  "nbformat": 4,
  "nbformat_minor": 0,
  "metadata": {
    "colab": {
      "provenance": [],
      "gpuType": "T4"
    },
    "kernelspec": {
      "name": "python3",
      "display_name": "Python 3"
    },
    "language_info": {
      "name": "python"
    },
    "accelerator": "GPU"
  },
  "cells": [
    {
      "cell_type": "code",
      "source": [
        "from google.colab import drive\n",
        "drive.mount('/content/drive')"
      ],
      "metadata": {
        "colab": {
          "base_uri": "https://localhost:8080/"
        },
        "id": "hKmjmbAX2Dpe",
        "outputId": "7242618a-613b-4834-bc7c-a35096ed9061"
      },
      "execution_count": 1,
      "outputs": [
        {
          "output_type": "stream",
          "name": "stdout",
          "text": [
            "Drive already mounted at /content/drive; to attempt to forcibly remount, call drive.mount(\"/content/drive\", force_remount=True).\n"
          ]
        }
      ]
    },
    {
      "cell_type": "code",
      "execution_count": 2,
      "metadata": {
        "id": "x0QM_D49w5u2"
      },
      "outputs": [],
      "source": [
        "import torch\n",
        "import torch.nn as nn\n",
        "import pandas as pd\n",
        "import numpy as np\n",
        "import matplotlib.pyplot as plt\n",
        "\n",
        "device = \"cuda\" if torch.cuda.is_available() else \"cpu\""
      ]
    },
    {
      "cell_type": "code",
      "source": [
        "from torch.utils.data import DataLoader\n",
        "from torchvision import datasets\n",
        "from torchvision.transforms import v2\n",
        "\n",
        "FLIP_PROBABILITY = 0.1\n",
        "\n",
        "data_transform = v2.Compose([\n",
        "    v2.Resize(size=(224,224)),\n",
        "    v2.RandomHorizontalFlip(p=0.5),\n",
        "    v2.RandomRotation(degrees=(-10,10)),\n",
        "    v2.ColorJitter(brightness=0.05, contrast=0.05, saturation=0.05, hue=0.05),\n",
        "    v2.RandomAffine(degrees=0, translate=(0.05, 0.05)),\n",
        "    v2.ToTensor(),\n",
        "    v2.Normalize(mean=[0.485, 0.456, 0.406], std=[0.229, 0.224, 0.225])  # Add normalization\n",
        "])"
      ],
      "metadata": {
        "colab": {
          "base_uri": "https://localhost:8080/"
        },
        "id": "xD-mbyCLw_5H",
        "outputId": "dda51859-9c3a-4a30-efdb-48d38b84628e"
      },
      "execution_count": 3,
      "outputs": [
        {
          "output_type": "stream",
          "name": "stderr",
          "text": [
            "/usr/local/lib/python3.10/dist-packages/torchvision/transforms/v2/_deprecated.py:42: UserWarning: The transform `ToTensor()` is deprecated and will be removed in a future release. Instead, please use `v2.Compose([v2.ToImage(), v2.ToDtype(torch.float32, scale=True)])`.Output is equivalent up to float precision.\n",
            "  warnings.warn(\n"
          ]
        }
      ]
    },
    {
      "cell_type": "code",
      "source": [
        "train_data = datasets.ImageFolder(root=\"/content/drive/MyDrive/dataset_v3/train\",\n",
        "                                  transform=data_transform,\n",
        "                                  target_transform=None)\n",
        "test_data = datasets.ImageFolder(root=\"/content/drive/MyDrive/dataset_v3/test\",\n",
        "                                  transform=data_transform)\n",
        "class_names = train_data.classes"
      ],
      "metadata": {
        "id": "MHh0jSY2xEeD"
      },
      "execution_count": 4,
      "outputs": []
    },
    {
      "cell_type": "code",
      "source": [
        "from sklearn.utils import resample\n",
        "\n",
        "def balance_dataset(dataset, size):\n",
        "    # Separate data by class\n",
        "    class_data = {i: [] for i in range(8)}  # For 8 classes\n",
        "\n",
        "    # Group data by class\n",
        "    for idx in range(len(dataset)):\n",
        "        _, label = dataset[idx]\n",
        "        class_data[label].append(idx)\n",
        "\n",
        "    # Randomly sample indices from each class\n",
        "    balanced_indices = []\n",
        "    for class_idx, indices in class_data.items():\n",
        "        # If class has more samples than min_size, downsample it\n",
        "        if len(indices) > size:\n",
        "            balanced_indices.extend(np.random.choice(indices, size=size, replace=False))\n",
        "        else:\n",
        "            balanced_indices.extend(indices)\n",
        "\n",
        "    # Create a subset dataset\n",
        "    from torch.utils.data import Subset\n",
        "    balanced_dataset = Subset(dataset, balanced_indices)\n",
        "\n",
        "    return balanced_dataset\n",
        "\n",
        "# Use it like this:\n",
        "balanced_train_data = balance_dataset(train_data, 200)\n",
        "\n",
        "balanced_test_data = balance_dataset(test_data, 50)"
      ],
      "metadata": {
        "id": "Pm_B1RF3L1vs"
      },
      "execution_count": 5,
      "outputs": []
    },
    {
      "cell_type": "code",
      "source": [
        "from torch.utils.data import DataLoader\n",
        "\n",
        "BATCH_SIZE = 16\n",
        "train_dataloader = DataLoader(balanced_train_data, batch_size=BATCH_SIZE, shuffle=True)\n",
        "test_dataloader = DataLoader(balanced_test_data, batch_size=BATCH_SIZE, shuffle=False)"
      ],
      "metadata": {
        "id": "RjOAVy6XxGUj"
      },
      "execution_count": 6,
      "outputs": []
    },
    {
      "cell_type": "code",
      "source": [
        "train_transform = v2.Compose([\n",
        "    v2.Resize(size=(224,224)),\n",
        "    v2.TrivialAugmentWide(num_magnitude_bins=5),\n",
        "    v2.ToTensor()\n",
        "])\n",
        "\n",
        "test_transform = v2.Compose([\n",
        "    v2.Resize(size=(224,224)),\n",
        "    v2.ToTensor()\n",
        "])"
      ],
      "metadata": {
        "colab": {
          "base_uri": "https://localhost:8080/"
        },
        "id": "XwutTGFZxIWQ",
        "outputId": "62243912-6696-4abd-b501-5a551dec5c4f"
      },
      "execution_count": 7,
      "outputs": [
        {
          "output_type": "stream",
          "name": "stderr",
          "text": [
            "/usr/local/lib/python3.10/dist-packages/torchvision/transforms/v2/_deprecated.py:42: UserWarning: The transform `ToTensor()` is deprecated and will be removed in a future release. Instead, please use `v2.Compose([v2.ToImage(), v2.ToDtype(torch.float32, scale=True)])`.Output is equivalent up to float precision.\n",
            "  warnings.warn(\n"
          ]
        }
      ]
    },
    {
      "cell_type": "code",
      "source": [
        "import torch\n",
        "import torch.nn as nn\n",
        "\n",
        "class PatchEmbed(nn.Module):\n",
        "    def __init__(self, img_size=224, patch_size=16, in_channels=3, embed_dim=768):\n",
        "        super().__init__()\n",
        "        self.img_size = img_size\n",
        "        self.patch_size = patch_size\n",
        "        self.n_patches = (img_size // patch_size) ** 2\n",
        "\n",
        "        self.proj = nn.Conv2d(\n",
        "            in_channels,\n",
        "            embed_dim,\n",
        "            kernel_size=patch_size,\n",
        "            stride=patch_size\n",
        "        )\n",
        "\n",
        "    def forward(self, x):\n",
        "        x = self.proj(x)  # (B, E, H', W')\n",
        "        x = x.flatten(2)  # (B, E, N)\n",
        "        x = x.transpose(1, 2)  # (B, N, E)\n",
        "        return x"
      ],
      "metadata": {
        "id": "kfWuFbNKx18d"
      },
      "execution_count": 8,
      "outputs": []
    },
    {
      "cell_type": "code",
      "source": [
        "class Attention(nn.Module):\n",
        "    def __init__(self, dim, n_heads=12, qkv_bias=True, attn_drop=0.1, proj_drop=0.1):\n",
        "        super().__init__()\n",
        "        self.n_heads = n_heads\n",
        "        self.scale = (dim // n_heads) ** -0.5\n",
        "\n",
        "        self.qkv = nn.Linear(dim, dim * 3, bias=qkv_bias)\n",
        "        self.attn_drop = nn.Dropout(attn_drop)\n",
        "        self.proj = nn.Linear(dim, dim)\n",
        "        self.proj_drop = nn.Dropout(proj_drop)\n",
        "\n",
        "    def forward(self, x):\n",
        "        B, N, C = x.shape\n",
        "        qkv = self.qkv(x).reshape(B, N, 3, self.n_heads, C // self.n_heads).permute(2, 0, 3, 1, 4)\n",
        "        q, k, v = qkv[0], qkv[1], qkv[2]\n",
        "\n",
        "        attn = (q @ k.transpose(-2, -1)) * self.scale\n",
        "        attn = attn.softmax(dim=-1)\n",
        "        attn = self.attn_drop(attn)\n",
        "\n",
        "        x = (attn @ v).transpose(1, 2).reshape(B, N, C)\n",
        "        x = self.proj(x)\n",
        "        x = self.proj_drop(x)\n",
        "        return x"
      ],
      "metadata": {
        "id": "rcu2jfFwx5vr"
      },
      "execution_count": 9,
      "outputs": []
    },
    {
      "cell_type": "code",
      "source": [
        "class MLP(nn.Module):\n",
        "    def __init__(self, in_features, hidden_features, out_features, drop=0.1):\n",
        "        super().__init__()\n",
        "        self.fc1 = nn.Linear(in_features, hidden_features)\n",
        "        self.act = nn.GELU()\n",
        "        self.fc2 = nn.Linear(hidden_features, out_features)\n",
        "        self.drop = nn.Dropout(drop)\n",
        "\n",
        "    def forward(self, x):\n",
        "        x = self.fc1(x)\n",
        "        x = self.act(x)\n",
        "        x = self.drop(x)\n",
        "        x = self.fc2(x)\n",
        "        x = self.drop(x)\n",
        "        return x"
      ],
      "metadata": {
        "id": "ikM0jREqx88X"
      },
      "execution_count": 10,
      "outputs": []
    },
    {
      "cell_type": "code",
      "source": [
        "class Block(nn.Module):\n",
        "    def __init__(self, dim, n_heads, mlp_ratio=4., qkv_bias=True, drop=0.1, attn_drop=0.1):\n",
        "        super().__init__()\n",
        "        self.norm1 = nn.LayerNorm(dim)\n",
        "        self.attn = Attention(dim, n_heads=n_heads, qkv_bias=qkv_bias, attn_drop=attn_drop, proj_drop=drop)\n",
        "        self.norm2 = nn.LayerNorm(dim)\n",
        "        self.mlp = MLP(dim, int(dim * mlp_ratio), dim, drop)\n",
        "\n",
        "    def forward(self, x):\n",
        "        x = x + self.attn(self.norm1(x))\n",
        "        x = x + self.mlp(self.norm2(x))\n",
        "        return x"
      ],
      "metadata": {
        "id": "KiseOegrx_3W"
      },
      "execution_count": 11,
      "outputs": []
    },
    {
      "cell_type": "code",
      "source": [
        "class VisionTransformer(nn.Module):\n",
        "    def __init__(self, img_size=224, patch_size=16, in_channels=3, num_classes=len(class_names),\n",
        "                 embed_dim=768, depth=12, n_heads=12, mlp_ratio=4., qkv_bias=True,\n",
        "                 drop_rate=0.1, attn_drop_rate=0.1):\n",
        "        super().__init__()\n",
        "        self.patch_embed = PatchEmbed(img_size, patch_size, in_channels, embed_dim)\n",
        "        num_patches = self.patch_embed.n_patches\n",
        "\n",
        "        self.cls_token = nn.Parameter(torch.zeros(1, 1, embed_dim))\n",
        "        self.pos_embed = nn.Parameter(torch.zeros(1, num_patches + 1, embed_dim))\n",
        "        torch.nn.init.trunc_normal_(self.pos_embed, std=0.02)\n",
        "        torch.nn.init.trunc_normal_(self.cls_token, std=0.02)\n",
        "        self.pos_drop = nn.Dropout(drop_rate)\n",
        "\n",
        "        self.blocks = nn.Sequential(*[\n",
        "            Block(embed_dim, n_heads, mlp_ratio, qkv_bias, drop_rate, attn_drop_rate)\n",
        "            for _ in range(depth)\n",
        "        ])\n",
        "\n",
        "        self.norm = nn.LayerNorm(embed_dim)\n",
        "        self.head = nn.Linear(embed_dim, num_classes)\n",
        "\n",
        "    def forward(self, x):\n",
        "        B = x.shape[0]\n",
        "        x = self.patch_embed(x)\n",
        "\n",
        "        cls_token = self.cls_token.expand(B, -1, -1)\n",
        "        x = torch.cat((cls_token, x), dim=1)\n",
        "        x = x + self.pos_embed\n",
        "        x = self.pos_drop(x)\n",
        "\n",
        "        x = self.blocks(x)\n",
        "        x = self.norm(x)\n",
        "\n",
        "        x = x[:, 0]  # take cls token\n",
        "        x = self.head(x)\n",
        "        return x"
      ],
      "metadata": {
        "id": "iF-6T0MGyCYS"
      },
      "execution_count": 12,
      "outputs": []
    },
    {
      "cell_type": "code",
      "source": [
        "import torch\n",
        "from torch.nn import functional as F\n",
        "from tqdm import tqdm\n",
        "import numpy as np\n",
        "from sklearn.metrics import accuracy_score\n",
        "\n",
        "class AverageMeter:\n",
        "    def __init__(self):\n",
        "        self.reset()\n",
        "\n",
        "    def reset(self):\n",
        "        self.val = 0\n",
        "        self.avg = 0\n",
        "        self.sum = 0\n",
        "        self.count = 0\n",
        "\n",
        "    def update(self, val, n=1):\n",
        "        self.val = val\n",
        "        self.sum += val * n\n",
        "        self.count += n\n",
        "        self.avg = self.sum / self.count\n",
        "\n",
        "def train_epoch(model, train_loader, criterion, optimizer, device):\n",
        "    model.train()\n",
        "    losses = AverageMeter()\n",
        "    progress_bar = tqdm(train_loader, desc='Training')\n",
        "\n",
        "    all_predictions = []\n",
        "    all_labels = []\n",
        "\n",
        "    for batch in progress_bar:\n",
        "        images, labels = batch\n",
        "        images = images.to(device)\n",
        "        labels = labels.to(device)\n",
        "\n",
        "        optimizer.zero_grad()\n",
        "        outputs = model(images)\n",
        "        loss = criterion(outputs, labels)\n",
        "\n",
        "        loss.backward()\n",
        "\n",
        "        torch.nn.utils.clip_grad_norm_(model.parameters(), max_norm=1.0)\n",
        "\n",
        "        optimizer.step()\n",
        "\n",
        "        losses.update(loss.item(), images.size(0))\n",
        "        progress_bar.set_postfix({'train_loss': f'{losses.avg:.4f}'})\n",
        "\n",
        "        predictions = torch.argmax(outputs, dim=1)\n",
        "        all_predictions.extend(predictions.cpu().numpy())\n",
        "        all_labels.extend(labels.cpu().numpy())\n",
        "\n",
        "    epoch_accuracy = accuracy_score(all_labels, all_predictions)\n",
        "    return losses.avg, epoch_accuracy\n",
        "\n",
        "def evaluate(model, test_loader, criterion, device):\n",
        "    model.eval()\n",
        "    losses = AverageMeter()\n",
        "\n",
        "    all_predictions = []\n",
        "    all_labels = []\n",
        "\n",
        "    with torch.no_grad():\n",
        "        progress_bar = tqdm(test_loader, desc='Testing')\n",
        "        for batch in progress_bar:\n",
        "            images, labels = batch\n",
        "            images = images.to(device)\n",
        "            labels = labels.to(device)\n",
        "\n",
        "            outputs = model(images)\n",
        "            loss = criterion(outputs, labels)\n",
        "\n",
        "            losses.update(loss.item(), images.size(0))\n",
        "            progress_bar.set_postfix({'test_loss': f'{losses.avg:.4f}'})\n",
        "\n",
        "            predictions = torch.argmax(outputs, dim=1)\n",
        "            all_predictions.extend(predictions.cpu().numpy())\n",
        "            all_labels.extend(labels.cpu().numpy())\n",
        "\n",
        "    accuracy = accuracy_score(all_labels, all_predictions)\n",
        "    return losses.avg, accuracy\n",
        "\n",
        "def train_model(model, train_loader, test_loader, num_epochs=100):\n",
        "    device = torch.device('cuda' if torch.cuda.is_available() else 'cpu')\n",
        "    model = model.to(device)\n",
        "    criterion = nn.CrossEntropyLoss(label_smoothing=0.1)\n",
        "    optimizer = torch.optim.AdamW(\n",
        "        model.parameters(),\n",
        "        lr=5e-5,\n",
        "        weight_decay=0.02,\n",
        "        betas=(0.9, 0.999)\n",
        "    )\n",
        "    steps_per_epoch = len(train_loader)\n",
        "    total_steps = steps_per_epoch * num_epochs\n",
        "    scheduler = torch.optim.lr_scheduler.OneCycleLR(\n",
        "        optimizer,\n",
        "        max_lr=5e-4,\n",
        "        total_steps=total_steps,\n",
        "        pct_start=0.2,\n",
        "        anneal_strategy='cos',\n",
        "        cycle_momentum=True,\n",
        "        base_momentum=0.85,\n",
        "        max_momentum=0.95,\n",
        "        div_factor=10.0,\n",
        "        final_div_factor=1000.0\n",
        "    )\n",
        "\n",
        "    # Add tracking for best model\n",
        "    best_accuracy = 0.0\n",
        "    best_model_state = None\n",
        "    best_epoch = 0\n",
        "    best_test_loss = float('inf')\n",
        "\n",
        "    print(\"Starting training...\")\n",
        "    for epoch in range(num_epochs):\n",
        "        print(f\"\\nEpoch {epoch+1}/{num_epochs}\")\n",
        "        train_loss, train_accuracy = train_epoch(\n",
        "            model, train_loader, criterion, optimizer, device\n",
        "        )\n",
        "        test_loss, test_accuracy = evaluate(\n",
        "            model, test_loader, criterion, device\n",
        "        )\n",
        "        scheduler.step()\n",
        "\n",
        "        # Save best model\n",
        "        if test_accuracy > best_accuracy:\n",
        "            best_accuracy = test_accuracy\n",
        "            best_test_loss = test_loss\n",
        "            best_model_state = model.state_dict().copy()\n",
        "            best_epoch = epoch + 1\n",
        "            print(f\"New best model saved! Accuracy: {best_accuracy:.4f}\")\n",
        "\n",
        "        if epoch % 5 == 0:\n",
        "            print(f\"Train Loss: {train_loss:.4f} | Train Accuracy: {train_accuracy:.4f}\")\n",
        "            print(f\"Test Loss: {test_loss:.4f} | Test Accuracy: {test_accuracy:.4f}\")\n",
        "\n",
        "    # Load best model before returning\n",
        "    if best_model_state is not None:\n",
        "        model.load_state_dict(best_model_state)\n",
        "        print(f\"\\nLoaded best model from epoch {best_epoch}\")\n",
        "        print(f\"Best Test Metrics:\")\n",
        "        print(f\"Test Loss: {best_test_loss:.4f}\")\n",
        "        print(f\"Test Accuracy: {best_accuracy:.4f}\")\n",
        "\n",
        "    return model, best_accuracy\n",
        "\n",
        "# Initialize model\n",
        "model = VisionTransformer(\n",
        "    img_size=224,\n",
        "    patch_size=16,\n",
        "    in_channels=3,\n",
        "    num_classes=len(class_names),  # set this to your number of classes\n",
        "    embed_dim=384,\n",
        "    depth=8,\n",
        "    n_heads=8,\n",
        "    mlp_ratio=4,\n",
        "    qkv_bias=True,\n",
        "    drop_rate=0.15\n",
        ")\n",
        "\n",
        "# Train the model\n",
        "trained_model, best_accuracy = train_model(\n",
        "    model,\n",
        "    train_dataloader,\n",
        "    test_dataloader,\n",
        "    num_epochs=100\n",
        ")\n",
        "print(f\"\\nTraining completed!\")\n",
        "print(f\"Best test accuracy achieved: {best_accuracy:.4f}\")"
      ],
      "metadata": {
        "colab": {
          "base_uri": "https://localhost:8080/"
        },
        "id": "qqFWualN0qMH",
        "outputId": "54975cb2-e517-47e4-8bde-044797d30b6d"
      },
      "execution_count": 13,
      "outputs": [
        {
          "metadata": {
            "tags": null
          },
          "name": "stdout",
          "output_type": "stream",
          "text": [
            "Starting training...\n",
            "\n",
            "Epoch 1/100\n"
          ]
        },
        {
          "metadata": {
            "tags": null
          },
          "name": "stderr",
          "output_type": "stream",
          "text": [
            "Training: 100%|██████████| 64/64 [00:21<00:00,  2.95it/s, train_loss=2.0345]\n",
            "Testing: 100%|██████████| 17/17 [00:03<00:00,  4.45it/s, test_loss=2.0483]\n"
          ]
        },
        {
          "metadata": {
            "tags": null
          },
          "name": "stdout",
          "output_type": "stream",
          "text": [
            "New best model saved! Accuracy: 0.2355\n",
            "Train Loss: 2.0345 | Train Accuracy: 0.2434\n",
            "Test Loss: 2.0483 | Test Accuracy: 0.2355\n",
            "\n",
            "Epoch 2/100\n"
          ]
        },
        {
          "metadata": {
            "tags": null
          },
          "name": "stderr",
          "output_type": "stream",
          "text": [
            "Training: 100%|██████████| 64/64 [00:22<00:00,  2.90it/s, train_loss=1.9094]\n",
            "Testing: 100%|██████████| 17/17 [00:03<00:00,  4.40it/s, test_loss=1.9282]\n"
          ]
        },
        {
          "metadata": {
            "tags": null
          },
          "name": "stdout",
          "output_type": "stream",
          "text": [
            "New best model saved! Accuracy: 0.3050\n",
            "\n",
            "Epoch 3/100\n"
          ]
        },
        {
          "metadata": {
            "tags": null
          },
          "name": "stderr",
          "output_type": "stream",
          "text": [
            "Training: 100%|██████████| 64/64 [00:20<00:00,  3.09it/s, train_loss=1.8563]\n",
            "Testing: 100%|██████████| 17/17 [00:03<00:00,  4.44it/s, test_loss=1.8775]\n"
          ]
        },
        {
          "metadata": {
            "tags": null
          },
          "name": "stdout",
          "output_type": "stream",
          "text": [
            "New best model saved! Accuracy: 0.3205\n",
            "\n",
            "Epoch 4/100\n"
          ]
        },
        {
          "metadata": {
            "tags": null
          },
          "name": "stderr",
          "output_type": "stream",
          "text": [
            "Training: 100%|██████████| 64/64 [00:19<00:00,  3.21it/s, train_loss=1.8143]\n",
            "Testing: 100%|██████████| 17/17 [00:04<00:00,  3.63it/s, test_loss=1.8875]\n"
          ]
        },
        {
          "metadata": {
            "tags": null
          },
          "name": "stdout",
          "output_type": "stream",
          "text": [
            "New best model saved! Accuracy: 0.3475\n",
            "\n",
            "Epoch 5/100\n"
          ]
        },
        {
          "metadata": {
            "tags": null
          },
          "name": "stderr",
          "output_type": "stream",
          "text": [
            "Training: 100%|██████████| 64/64 [00:19<00:00,  3.23it/s, train_loss=1.7891]\n",
            "Testing: 100%|██████████| 17/17 [00:03<00:00,  4.34it/s, test_loss=1.8458]\n"
          ]
        },
        {
          "metadata": {
            "tags": null
          },
          "name": "stdout",
          "output_type": "stream",
          "text": [
            "New best model saved! Accuracy: 0.3514\n",
            "\n",
            "Epoch 6/100\n"
          ]
        },
        {
          "metadata": {
            "tags": null
          },
          "name": "stderr",
          "output_type": "stream",
          "text": [
            "Training: 100%|██████████| 64/64 [00:20<00:00,  3.15it/s, train_loss=1.7674]\n",
            "Testing: 100%|██████████| 17/17 [00:03<00:00,  4.44it/s, test_loss=1.7804]\n"
          ]
        },
        {
          "metadata": {
            "tags": null
          },
          "name": "stdout",
          "output_type": "stream",
          "text": [
            "New best model saved! Accuracy: 0.3745\n",
            "Train Loss: 1.7674 | Train Accuracy: 0.3685\n",
            "Test Loss: 1.7804 | Test Accuracy: 0.3745\n",
            "\n",
            "Epoch 7/100\n"
          ]
        },
        {
          "metadata": {
            "tags": null
          },
          "name": "stderr",
          "output_type": "stream",
          "text": [
            "Training: 100%|██████████| 64/64 [00:20<00:00,  3.12it/s, train_loss=1.7190]\n",
            "Testing: 100%|██████████| 17/17 [00:03<00:00,  4.31it/s, test_loss=1.7405]\n"
          ]
        },
        {
          "metadata": {
            "tags": null
          },
          "name": "stdout",
          "output_type": "stream",
          "text": [
            "New best model saved! Accuracy: 0.4054\n",
            "\n",
            "Epoch 8/100\n"
          ]
        },
        {
          "metadata": {
            "tags": null
          },
          "name": "stderr",
          "output_type": "stream",
          "text": [
            "Training: 100%|██████████| 64/64 [00:19<00:00,  3.22it/s, train_loss=1.6357]\n",
            "Testing: 100%|██████████| 17/17 [00:04<00:00,  3.65it/s, test_loss=1.6950]\n"
          ]
        },
        {
          "metadata": {
            "tags": null
          },
          "name": "stdout",
          "output_type": "stream",
          "text": [
            "New best model saved! Accuracy: 0.4208\n",
            "\n",
            "Epoch 9/100\n"
          ]
        },
        {
          "metadata": {
            "tags": null
          },
          "name": "stderr",
          "output_type": "stream",
          "text": [
            "Training: 100%|██████████| 64/64 [00:20<00:00,  3.20it/s, train_loss=1.6430]\n",
            "Testing: 100%|██████████| 17/17 [00:03<00:00,  4.49it/s, test_loss=1.7008]\n"
          ]
        },
        {
          "metadata": {
            "tags": null
          },
          "name": "stdout",
          "output_type": "stream",
          "text": [
            "New best model saved! Accuracy: 0.4324\n",
            "\n",
            "Epoch 10/100\n"
          ]
        },
        {
          "metadata": {
            "tags": null
          },
          "name": "stderr",
          "output_type": "stream",
          "text": [
            "Training: 100%|██████████| 64/64 [00:20<00:00,  3.13it/s, train_loss=1.6056]\n",
            "Testing: 100%|██████████| 17/17 [00:03<00:00,  4.44it/s, test_loss=1.7578]\n"
          ]
        },
        {
          "metadata": {
            "tags": null
          },
          "name": "stdout",
          "output_type": "stream",
          "text": [
            "\n",
            "Epoch 11/100\n"
          ]
        },
        {
          "output_type": "stream",
          "name": "stderr",
          "text": [
            "Training: 100%|██████████| 64/64 [00:20<00:00,  3.09it/s, train_loss=1.5594]\n",
            "Testing: 100%|██████████| 17/17 [00:03<00:00,  4.37it/s, test_loss=1.7121]\n"
          ]
        },
        {
          "output_type": "stream",
          "name": "stdout",
          "text": [
            "Train Loss: 1.5594 | Train Accuracy: 0.4761\n",
            "Test Loss: 1.7121 | Test Accuracy: 0.4131\n",
            "\n",
            "Epoch 12/100\n"
          ]
        },
        {
          "output_type": "stream",
          "name": "stderr",
          "text": [
            "Training: 100%|██████████| 64/64 [00:19<00:00,  3.21it/s, train_loss=1.5521]\n",
            "Testing: 100%|██████████| 17/17 [00:04<00:00,  3.61it/s, test_loss=1.6126]\n"
          ]
        },
        {
          "output_type": "stream",
          "name": "stdout",
          "text": [
            "New best model saved! Accuracy: 0.4710\n",
            "\n",
            "Epoch 13/100\n"
          ]
        },
        {
          "output_type": "stream",
          "name": "stderr",
          "text": [
            "Training: 100%|██████████| 64/64 [00:19<00:00,  3.22it/s, train_loss=1.4868]\n",
            "Testing: 100%|██████████| 17/17 [00:03<00:00,  4.27it/s, test_loss=1.7490]\n"
          ]
        },
        {
          "output_type": "stream",
          "name": "stdout",
          "text": [
            "\n",
            "Epoch 14/100\n"
          ]
        },
        {
          "output_type": "stream",
          "name": "stderr",
          "text": [
            "Training: 100%|██████████| 64/64 [00:20<00:00,  3.12it/s, train_loss=1.4256]\n",
            "Testing: 100%|██████████| 17/17 [00:03<00:00,  4.35it/s, test_loss=1.5883]\n"
          ]
        },
        {
          "output_type": "stream",
          "name": "stdout",
          "text": [
            "\n",
            "Epoch 15/100\n"
          ]
        },
        {
          "output_type": "stream",
          "name": "stderr",
          "text": [
            "Training: 100%|██████████| 64/64 [00:20<00:00,  3.10it/s, train_loss=1.4609]\n",
            "Testing: 100%|██████████| 17/17 [00:03<00:00,  4.42it/s, test_loss=1.5302]\n"
          ]
        },
        {
          "output_type": "stream",
          "name": "stdout",
          "text": [
            "\n",
            "Epoch 16/100\n"
          ]
        },
        {
          "output_type": "stream",
          "name": "stderr",
          "text": [
            "Training: 100%|██████████| 64/64 [00:19<00:00,  3.21it/s, train_loss=1.4241]\n",
            "Testing: 100%|██████████| 17/17 [00:04<00:00,  3.84it/s, test_loss=1.6678]\n"
          ]
        },
        {
          "output_type": "stream",
          "name": "stdout",
          "text": [
            "New best model saved! Accuracy: 0.4942\n",
            "Train Loss: 1.4241 | Train Accuracy: 0.5367\n",
            "Test Loss: 1.6678 | Test Accuracy: 0.4942\n",
            "\n",
            "Epoch 17/100\n"
          ]
        },
        {
          "output_type": "stream",
          "name": "stderr",
          "text": [
            "Training: 100%|██████████| 64/64 [00:19<00:00,  3.21it/s, train_loss=1.3760]\n",
            "Testing: 100%|██████████| 17/17 [00:04<00:00,  4.08it/s, test_loss=1.4599]\n"
          ]
        },
        {
          "output_type": "stream",
          "name": "stdout",
          "text": [
            "New best model saved! Accuracy: 0.5598\n",
            "\n",
            "Epoch 18/100\n"
          ]
        },
        {
          "output_type": "stream",
          "name": "stderr",
          "text": [
            "Training: 100%|██████████| 64/64 [00:20<00:00,  3.19it/s, train_loss=1.3356]\n",
            "Testing: 100%|██████████| 17/17 [00:03<00:00,  4.37it/s, test_loss=1.4805]\n"
          ]
        },
        {
          "output_type": "stream",
          "name": "stdout",
          "text": [
            "\n",
            "Epoch 19/100\n"
          ]
        },
        {
          "output_type": "stream",
          "name": "stderr",
          "text": [
            "Training: 100%|██████████| 64/64 [00:20<00:00,  3.10it/s, train_loss=1.3299]\n",
            "Testing: 100%|██████████| 17/17 [00:03<00:00,  4.50it/s, test_loss=1.5457]\n"
          ]
        },
        {
          "output_type": "stream",
          "name": "stdout",
          "text": [
            "\n",
            "Epoch 20/100\n"
          ]
        },
        {
          "output_type": "stream",
          "name": "stderr",
          "text": [
            "Training: 100%|██████████| 64/64 [00:20<00:00,  3.16it/s, train_loss=1.3123]\n",
            "Testing: 100%|██████████| 17/17 [00:04<00:00,  4.05it/s, test_loss=1.5359]\n"
          ]
        },
        {
          "output_type": "stream",
          "name": "stdout",
          "text": [
            "\n",
            "Epoch 21/100\n"
          ]
        },
        {
          "output_type": "stream",
          "name": "stderr",
          "text": [
            "Training: 100%|██████████| 64/64 [00:19<00:00,  3.20it/s, train_loss=1.2415]\n",
            "Testing: 100%|██████████| 17/17 [00:04<00:00,  3.81it/s, test_loss=1.3806]\n"
          ]
        },
        {
          "output_type": "stream",
          "name": "stdout",
          "text": [
            "New best model saved! Accuracy: 0.5946\n",
            "Train Loss: 1.2415 | Train Accuracy: 0.6373\n",
            "Test Loss: 1.3806 | Test Accuracy: 0.5946\n",
            "\n",
            "Epoch 22/100\n"
          ]
        },
        {
          "output_type": "stream",
          "name": "stderr",
          "text": [
            "Training: 100%|██████████| 64/64 [00:19<00:00,  3.21it/s, train_loss=1.2690]\n",
            "Testing: 100%|██████████| 17/17 [00:03<00:00,  4.43it/s, test_loss=1.4091]\n"
          ]
        },
        {
          "output_type": "stream",
          "name": "stdout",
          "text": [
            "\n",
            "Epoch 23/100\n"
          ]
        },
        {
          "output_type": "stream",
          "name": "stderr",
          "text": [
            "Training: 100%|██████████| 64/64 [00:20<00:00,  3.12it/s, train_loss=1.2365]\n",
            "Testing: 100%|██████████| 17/17 [00:03<00:00,  4.33it/s, test_loss=1.3644]\n"
          ]
        },
        {
          "output_type": "stream",
          "name": "stdout",
          "text": [
            "New best model saved! Accuracy: 0.6062\n",
            "\n",
            "Epoch 24/100\n"
          ]
        },
        {
          "output_type": "stream",
          "name": "stderr",
          "text": [
            "Training: 100%|██████████| 64/64 [00:20<00:00,  3.12it/s, train_loss=1.2001]\n",
            "Testing: 100%|██████████| 17/17 [00:03<00:00,  4.49it/s, test_loss=1.4609]\n"
          ]
        },
        {
          "output_type": "stream",
          "name": "stdout",
          "text": [
            "\n",
            "Epoch 25/100\n"
          ]
        },
        {
          "output_type": "stream",
          "name": "stderr",
          "text": [
            "Training: 100%|██████████| 64/64 [00:20<00:00,  3.19it/s, train_loss=1.1622]\n",
            "Testing: 100%|██████████| 17/17 [00:04<00:00,  3.71it/s, test_loss=1.3459]\n"
          ]
        },
        {
          "output_type": "stream",
          "name": "stdout",
          "text": [
            "\n",
            "Epoch 26/100\n"
          ]
        },
        {
          "output_type": "stream",
          "name": "stderr",
          "text": [
            "Training: 100%|██████████| 64/64 [00:19<00:00,  3.22it/s, train_loss=1.1257]\n",
            "Testing: 100%|██████████| 17/17 [00:04<00:00,  4.21it/s, test_loss=1.4991]\n"
          ]
        },
        {
          "output_type": "stream",
          "name": "stdout",
          "text": [
            "Train Loss: 1.1257 | Train Accuracy: 0.6813\n",
            "Test Loss: 1.4991 | Test Accuracy: 0.5753\n",
            "\n",
            "Epoch 27/100\n"
          ]
        },
        {
          "output_type": "stream",
          "name": "stderr",
          "text": [
            "Training: 100%|██████████| 64/64 [00:20<00:00,  3.15it/s, train_loss=1.0951]\n",
            "Testing: 100%|██████████| 17/17 [00:03<00:00,  4.45it/s, test_loss=1.3837]\n"
          ]
        },
        {
          "output_type": "stream",
          "name": "stdout",
          "text": [
            "\n",
            "Epoch 28/100\n"
          ]
        },
        {
          "output_type": "stream",
          "name": "stderr",
          "text": [
            "Training: 100%|██████████| 64/64 [00:20<00:00,  3.13it/s, train_loss=1.0775]\n",
            "Testing: 100%|██████████| 17/17 [00:03<00:00,  4.36it/s, test_loss=1.2991]\n"
          ]
        },
        {
          "output_type": "stream",
          "name": "stdout",
          "text": [
            "New best model saved! Accuracy: 0.6564\n",
            "\n",
            "Epoch 29/100\n"
          ]
        },
        {
          "output_type": "stream",
          "name": "stderr",
          "text": [
            "Training: 100%|██████████| 64/64 [00:20<00:00,  3.16it/s, train_loss=1.0842]\n",
            "Testing: 100%|██████████| 17/17 [00:04<00:00,  3.81it/s, test_loss=1.2648]\n"
          ]
        },
        {
          "output_type": "stream",
          "name": "stdout",
          "text": [
            "\n",
            "Epoch 30/100\n"
          ]
        },
        {
          "output_type": "stream",
          "name": "stderr",
          "text": [
            "Training: 100%|██████████| 64/64 [00:20<00:00,  3.18it/s, train_loss=1.0440]\n",
            "Testing: 100%|██████████| 17/17 [00:04<00:00,  3.88it/s, test_loss=1.3632]\n"
          ]
        },
        {
          "output_type": "stream",
          "name": "stdout",
          "text": [
            "\n",
            "Epoch 31/100\n"
          ]
        },
        {
          "output_type": "stream",
          "name": "stderr",
          "text": [
            "Training: 100%|██████████| 64/64 [00:20<00:00,  3.19it/s, train_loss=1.1087]\n",
            "Testing: 100%|██████████| 17/17 [00:03<00:00,  4.41it/s, test_loss=1.2971]\n"
          ]
        },
        {
          "output_type": "stream",
          "name": "stdout",
          "text": [
            "Train Loss: 1.1087 | Train Accuracy: 0.6989\n",
            "Test Loss: 1.2971 | Test Accuracy: 0.6448\n",
            "\n",
            "Epoch 32/100\n"
          ]
        },
        {
          "output_type": "stream",
          "name": "stderr",
          "text": [
            "Training: 100%|██████████| 64/64 [00:20<00:00,  3.09it/s, train_loss=1.0515]\n",
            "Testing: 100%|██████████| 17/17 [00:03<00:00,  4.55it/s, test_loss=1.3490]\n"
          ]
        },
        {
          "output_type": "stream",
          "name": "stdout",
          "text": [
            "\n",
            "Epoch 33/100\n"
          ]
        },
        {
          "output_type": "stream",
          "name": "stderr",
          "text": [
            "Training: 100%|██████████| 64/64 [00:20<00:00,  3.13it/s, train_loss=1.0431]\n",
            "Testing: 100%|██████████| 17/17 [00:04<00:00,  4.19it/s, test_loss=1.3646]\n"
          ]
        },
        {
          "output_type": "stream",
          "name": "stdout",
          "text": [
            "\n",
            "Epoch 34/100\n"
          ]
        },
        {
          "output_type": "stream",
          "name": "stderr",
          "text": [
            "Training: 100%|██████████| 64/64 [00:19<00:00,  3.22it/s, train_loss=1.0123]\n",
            "Testing: 100%|██████████| 17/17 [00:04<00:00,  3.72it/s, test_loss=1.2202]\n"
          ]
        },
        {
          "output_type": "stream",
          "name": "stdout",
          "text": [
            "\n",
            "Epoch 35/100\n"
          ]
        },
        {
          "output_type": "stream",
          "name": "stderr",
          "text": [
            "Training: 100%|██████████| 64/64 [00:20<00:00,  3.18it/s, train_loss=1.0421]\n",
            "Testing: 100%|██████████| 17/17 [00:04<00:00,  4.25it/s, test_loss=1.2090]\n"
          ]
        },
        {
          "output_type": "stream",
          "name": "stdout",
          "text": [
            "New best model saved! Accuracy: 0.6834\n",
            "\n",
            "Epoch 36/100\n"
          ]
        },
        {
          "output_type": "stream",
          "name": "stderr",
          "text": [
            "Training: 100%|██████████| 64/64 [00:22<00:00,  2.88it/s, train_loss=1.0060]\n",
            "Testing: 100%|██████████| 17/17 [00:04<00:00,  4.10it/s, test_loss=1.5028]\n"
          ]
        },
        {
          "output_type": "stream",
          "name": "stdout",
          "text": [
            "Train Loss: 1.0060 | Train Accuracy: 0.7595\n",
            "Test Loss: 1.5028 | Test Accuracy: 0.5792\n",
            "\n",
            "Epoch 37/100\n"
          ]
        },
        {
          "output_type": "stream",
          "name": "stderr",
          "text": [
            "Training: 100%|██████████| 64/64 [00:20<00:00,  3.07it/s, train_loss=0.9752]\n",
            "Testing: 100%|██████████| 17/17 [00:03<00:00,  4.43it/s, test_loss=1.2287]\n"
          ]
        },
        {
          "output_type": "stream",
          "name": "stdout",
          "text": [
            "\n",
            "Epoch 38/100\n"
          ]
        },
        {
          "output_type": "stream",
          "name": "stderr",
          "text": [
            "Training: 100%|██████████| 64/64 [00:20<00:00,  3.14it/s, train_loss=1.0061]\n",
            "Testing: 100%|██████████| 17/17 [00:04<00:00,  4.00it/s, test_loss=1.1867]\n"
          ]
        },
        {
          "output_type": "stream",
          "name": "stdout",
          "text": [
            "\n",
            "Epoch 39/100\n"
          ]
        },
        {
          "output_type": "stream",
          "name": "stderr",
          "text": [
            "Training: 100%|██████████| 64/64 [00:19<00:00,  3.21it/s, train_loss=0.9942]\n",
            "Testing: 100%|██████████| 17/17 [00:04<00:00,  3.70it/s, test_loss=1.2532]\n"
          ]
        },
        {
          "output_type": "stream",
          "name": "stdout",
          "text": [
            "\n",
            "Epoch 40/100\n"
          ]
        },
        {
          "output_type": "stream",
          "name": "stderr",
          "text": [
            "Training: 100%|██████████| 64/64 [00:20<00:00,  3.20it/s, train_loss=1.0018]\n",
            "Testing: 100%|██████████| 17/17 [00:03<00:00,  4.46it/s, test_loss=1.3539]\n"
          ]
        },
        {
          "output_type": "stream",
          "name": "stdout",
          "text": [
            "\n",
            "Epoch 41/100\n"
          ]
        },
        {
          "output_type": "stream",
          "name": "stderr",
          "text": [
            "Training: 100%|██████████| 64/64 [00:20<00:00,  3.11it/s, train_loss=0.9719]\n",
            "Testing: 100%|██████████| 17/17 [00:03<00:00,  4.33it/s, test_loss=1.2086]\n"
          ]
        },
        {
          "output_type": "stream",
          "name": "stdout",
          "text": [
            "Train Loss: 0.9719 | Train Accuracy: 0.7615\n",
            "Test Loss: 1.2086 | Test Accuracy: 0.6602\n",
            "\n",
            "Epoch 42/100\n"
          ]
        },
        {
          "output_type": "stream",
          "name": "stderr",
          "text": [
            "Training: 100%|██████████| 64/64 [00:20<00:00,  3.10it/s, train_loss=0.9504]\n",
            "Testing: 100%|██████████| 17/17 [00:03<00:00,  4.47it/s, test_loss=1.1916]\n"
          ]
        },
        {
          "output_type": "stream",
          "name": "stdout",
          "text": [
            "\n",
            "Epoch 43/100\n"
          ]
        },
        {
          "output_type": "stream",
          "name": "stderr",
          "text": [
            "Training: 100%|██████████| 64/64 [00:19<00:00,  3.21it/s, train_loss=0.9457]\n",
            "Testing: 100%|██████████| 17/17 [00:04<00:00,  3.69it/s, test_loss=1.2873]\n"
          ]
        },
        {
          "output_type": "stream",
          "name": "stdout",
          "text": [
            "\n",
            "Epoch 44/100\n"
          ]
        },
        {
          "output_type": "stream",
          "name": "stderr",
          "text": [
            "Training: 100%|██████████| 64/64 [00:19<00:00,  3.20it/s, train_loss=0.9486]\n",
            "Testing: 100%|██████████| 17/17 [00:04<00:00,  3.99it/s, test_loss=1.1292]\n"
          ]
        },
        {
          "output_type": "stream",
          "name": "stdout",
          "text": [
            "New best model saved! Accuracy: 0.7104\n",
            "\n",
            "Epoch 45/100\n"
          ]
        },
        {
          "output_type": "stream",
          "name": "stderr",
          "text": [
            "Training: 100%|██████████| 64/64 [00:20<00:00,  3.16it/s, train_loss=0.9005]\n",
            "Testing: 100%|██████████| 17/17 [00:03<00:00,  4.48it/s, test_loss=1.1593]\n"
          ]
        },
        {
          "output_type": "stream",
          "name": "stdout",
          "text": [
            "\n",
            "Epoch 46/100\n"
          ]
        },
        {
          "output_type": "stream",
          "name": "stderr",
          "text": [
            "Training: 100%|██████████| 64/64 [00:20<00:00,  3.08it/s, train_loss=0.9086]\n",
            "Testing: 100%|██████████| 17/17 [00:03<00:00,  4.51it/s, test_loss=1.3083]\n"
          ]
        },
        {
          "output_type": "stream",
          "name": "stdout",
          "text": [
            "Train Loss: 0.9086 | Train Accuracy: 0.7879\n",
            "Test Loss: 1.3083 | Test Accuracy: 0.6448\n",
            "\n",
            "Epoch 47/100\n"
          ]
        },
        {
          "output_type": "stream",
          "name": "stderr",
          "text": [
            "Training: 100%|██████████| 64/64 [00:20<00:00,  3.19it/s, train_loss=0.9055]\n",
            "Testing: 100%|██████████| 17/17 [00:04<00:00,  3.88it/s, test_loss=1.1599]\n"
          ]
        },
        {
          "output_type": "stream",
          "name": "stdout",
          "text": [
            "\n",
            "Epoch 48/100\n"
          ]
        },
        {
          "output_type": "stream",
          "name": "stderr",
          "text": [
            "Training: 100%|██████████| 64/64 [00:19<00:00,  3.22it/s, train_loss=0.9076]\n",
            "Testing: 100%|██████████| 17/17 [00:04<00:00,  4.05it/s, test_loss=1.3521]\n"
          ]
        },
        {
          "output_type": "stream",
          "name": "stdout",
          "text": [
            "\n",
            "Epoch 49/100\n"
          ]
        },
        {
          "output_type": "stream",
          "name": "stderr",
          "text": [
            "Training: 100%|██████████| 64/64 [00:20<00:00,  3.12it/s, train_loss=0.9112]\n",
            "Testing: 100%|██████████| 17/17 [00:03<00:00,  4.45it/s, test_loss=1.1497]\n"
          ]
        },
        {
          "output_type": "stream",
          "name": "stdout",
          "text": [
            "New best model saved! Accuracy: 0.7220\n",
            "\n",
            "Epoch 50/100\n"
          ]
        },
        {
          "output_type": "stream",
          "name": "stderr",
          "text": [
            "Training: 100%|██████████| 64/64 [00:20<00:00,  3.11it/s, train_loss=0.9169]\n",
            "Testing: 100%|██████████| 17/17 [00:03<00:00,  4.46it/s, test_loss=1.2072]\n"
          ]
        },
        {
          "output_type": "stream",
          "name": "stdout",
          "text": [
            "\n",
            "Epoch 51/100\n"
          ]
        },
        {
          "output_type": "stream",
          "name": "stderr",
          "text": [
            "Training: 100%|██████████| 64/64 [00:20<00:00,  3.15it/s, train_loss=0.8511]\n",
            "Testing: 100%|██████████| 17/17 [00:04<00:00,  4.11it/s, test_loss=1.0520]\n"
          ]
        },
        {
          "output_type": "stream",
          "name": "stdout",
          "text": [
            "New best model saved! Accuracy: 0.7645\n",
            "Train Loss: 0.8511 | Train Accuracy: 0.8240\n",
            "Test Loss: 1.0520 | Test Accuracy: 0.7645\n",
            "\n",
            "Epoch 52/100\n"
          ]
        },
        {
          "output_type": "stream",
          "name": "stderr",
          "text": [
            "Training: 100%|██████████| 64/64 [00:19<00:00,  3.21it/s, train_loss=0.8891]\n",
            "Testing: 100%|██████████| 17/17 [00:04<00:00,  3.82it/s, test_loss=1.1421]\n"
          ]
        },
        {
          "output_type": "stream",
          "name": "stdout",
          "text": [
            "\n",
            "Epoch 53/100\n"
          ]
        },
        {
          "output_type": "stream",
          "name": "stderr",
          "text": [
            "Training: 100%|██████████| 64/64 [00:20<00:00,  3.19it/s, train_loss=0.8453]\n",
            "Testing: 100%|██████████| 17/17 [00:03<00:00,  4.34it/s, test_loss=1.1470]\n"
          ]
        },
        {
          "output_type": "stream",
          "name": "stdout",
          "text": [
            "\n",
            "Epoch 54/100\n"
          ]
        },
        {
          "output_type": "stream",
          "name": "stderr",
          "text": [
            "Training: 100%|██████████| 64/64 [00:20<00:00,  3.11it/s, train_loss=0.8810]\n",
            "Testing: 100%|██████████| 17/17 [00:03<00:00,  4.56it/s, test_loss=1.2755]\n"
          ]
        },
        {
          "output_type": "stream",
          "name": "stdout",
          "text": [
            "\n",
            "Epoch 55/100\n"
          ]
        },
        {
          "output_type": "stream",
          "name": "stderr",
          "text": [
            "Training: 100%|██████████| 64/64 [00:20<00:00,  3.12it/s, train_loss=0.8886]\n",
            "Testing: 100%|██████████| 17/17 [00:03<00:00,  4.29it/s, test_loss=1.1010]\n"
          ]
        },
        {
          "output_type": "stream",
          "name": "stdout",
          "text": [
            "\n",
            "Epoch 56/100\n"
          ]
        },
        {
          "output_type": "stream",
          "name": "stderr",
          "text": [
            "Training: 100%|██████████| 64/64 [00:19<00:00,  3.20it/s, train_loss=0.8751]\n",
            "Testing: 100%|██████████| 17/17 [00:04<00:00,  3.68it/s, test_loss=1.0498]\n"
          ]
        },
        {
          "output_type": "stream",
          "name": "stdout",
          "text": [
            "Train Loss: 0.8751 | Train Accuracy: 0.8143\n",
            "Test Loss: 1.0498 | Test Accuracy: 0.7375\n",
            "\n",
            "Epoch 57/100\n"
          ]
        },
        {
          "output_type": "stream",
          "name": "stderr",
          "text": [
            "Training: 100%|██████████| 64/64 [00:19<00:00,  3.21it/s, train_loss=0.8843]\n",
            "Testing: 100%|██████████| 17/17 [00:04<00:00,  4.24it/s, test_loss=1.0937]\n"
          ]
        },
        {
          "output_type": "stream",
          "name": "stdout",
          "text": [
            "\n",
            "Epoch 58/100\n"
          ]
        },
        {
          "output_type": "stream",
          "name": "stderr",
          "text": [
            "Training: 100%|██████████| 64/64 [00:20<00:00,  3.10it/s, train_loss=0.8399]\n",
            "Testing: 100%|██████████| 17/17 [00:03<00:00,  4.37it/s, test_loss=1.1699]\n"
          ]
        },
        {
          "output_type": "stream",
          "name": "stdout",
          "text": [
            "\n",
            "Epoch 59/100\n"
          ]
        },
        {
          "output_type": "stream",
          "name": "stderr",
          "text": [
            "Training: 100%|██████████| 64/64 [00:20<00:00,  3.10it/s, train_loss=0.8235]\n",
            "Testing: 100%|██████████| 17/17 [00:04<00:00,  4.21it/s, test_loss=1.2127]\n"
          ]
        },
        {
          "output_type": "stream",
          "name": "stdout",
          "text": [
            "\n",
            "Epoch 60/100\n"
          ]
        },
        {
          "output_type": "stream",
          "name": "stderr",
          "text": [
            "Training: 100%|██████████| 64/64 [00:20<00:00,  3.12it/s, train_loss=0.8098]\n",
            "Testing: 100%|██████████| 17/17 [00:04<00:00,  3.83it/s, test_loss=0.9512]\n"
          ]
        },
        {
          "output_type": "stream",
          "name": "stdout",
          "text": [
            "New best model saved! Accuracy: 0.7838\n",
            "\n",
            "Epoch 61/100\n"
          ]
        },
        {
          "output_type": "stream",
          "name": "stderr",
          "text": [
            "Training: 100%|██████████| 64/64 [00:20<00:00,  3.17it/s, train_loss=0.8333]\n",
            "Testing: 100%|██████████| 17/17 [00:04<00:00,  3.83it/s, test_loss=1.1917]\n"
          ]
        },
        {
          "output_type": "stream",
          "name": "stdout",
          "text": [
            "Train Loss: 0.8333 | Train Accuracy: 0.8289\n",
            "Test Loss: 1.1917 | Test Accuracy: 0.6873\n",
            "\n",
            "Epoch 62/100\n"
          ]
        },
        {
          "output_type": "stream",
          "name": "stderr",
          "text": [
            "Training: 100%|██████████| 64/64 [00:20<00:00,  3.16it/s, train_loss=0.8415]\n",
            "Testing: 100%|██████████| 17/17 [00:03<00:00,  4.45it/s, test_loss=1.2258]\n"
          ]
        },
        {
          "output_type": "stream",
          "name": "stdout",
          "text": [
            "\n",
            "Epoch 63/100\n"
          ]
        },
        {
          "output_type": "stream",
          "name": "stderr",
          "text": [
            "Training: 100%|██████████| 64/64 [00:20<00:00,  3.12it/s, train_loss=0.8109]\n",
            "Testing: 100%|██████████| 17/17 [00:03<00:00,  4.46it/s, test_loss=1.1911]\n"
          ]
        },
        {
          "output_type": "stream",
          "name": "stdout",
          "text": [
            "\n",
            "Epoch 64/100\n"
          ]
        },
        {
          "output_type": "stream",
          "name": "stderr",
          "text": [
            "Training: 100%|██████████| 64/64 [00:20<00:00,  3.17it/s, train_loss=0.8278]\n",
            "Testing: 100%|██████████| 17/17 [00:04<00:00,  3.96it/s, test_loss=1.0143]\n"
          ]
        },
        {
          "output_type": "stream",
          "name": "stdout",
          "text": [
            "\n",
            "Epoch 65/100\n"
          ]
        },
        {
          "output_type": "stream",
          "name": "stderr",
          "text": [
            "Training: 100%|██████████| 64/64 [00:19<00:00,  3.20it/s, train_loss=0.8176]\n",
            "Testing: 100%|██████████| 17/17 [00:04<00:00,  3.86it/s, test_loss=1.3385]\n"
          ]
        },
        {
          "output_type": "stream",
          "name": "stdout",
          "text": [
            "\n",
            "Epoch 66/100\n"
          ]
        },
        {
          "output_type": "stream",
          "name": "stderr",
          "text": [
            "Training: 100%|██████████| 64/64 [00:20<00:00,  3.19it/s, train_loss=0.8088]\n",
            "Testing: 100%|██████████| 17/17 [00:03<00:00,  4.41it/s, test_loss=1.0063]\n"
          ]
        },
        {
          "output_type": "stream",
          "name": "stdout",
          "text": [
            "Train Loss: 0.8088 | Train Accuracy: 0.8368\n",
            "Test Loss: 1.0063 | Test Accuracy: 0.7722\n",
            "\n",
            "Epoch 67/100\n"
          ]
        },
        {
          "output_type": "stream",
          "name": "stderr",
          "text": [
            "Training: 100%|██████████| 64/64 [00:20<00:00,  3.10it/s, train_loss=0.8288]\n",
            "Testing: 100%|██████████| 17/17 [00:03<00:00,  4.54it/s, test_loss=1.0931]\n"
          ]
        },
        {
          "output_type": "stream",
          "name": "stdout",
          "text": [
            "\n",
            "Epoch 68/100\n"
          ]
        },
        {
          "output_type": "stream",
          "name": "stderr",
          "text": [
            "Training: 100%|██████████| 64/64 [00:20<00:00,  3.13it/s, train_loss=0.8581]\n",
            "Testing: 100%|██████████| 17/17 [00:04<00:00,  4.06it/s, test_loss=1.2650]\n"
          ]
        },
        {
          "output_type": "stream",
          "name": "stdout",
          "text": [
            "\n",
            "Epoch 69/100\n"
          ]
        },
        {
          "output_type": "stream",
          "name": "stderr",
          "text": [
            "Training: 100%|██████████| 64/64 [00:20<00:00,  3.19it/s, train_loss=0.7930]\n",
            "Testing: 100%|██████████| 17/17 [00:04<00:00,  3.71it/s, test_loss=1.0751]\n"
          ]
        },
        {
          "output_type": "stream",
          "name": "stdout",
          "text": [
            "\n",
            "Epoch 70/100\n"
          ]
        },
        {
          "output_type": "stream",
          "name": "stderr",
          "text": [
            "Training: 100%|██████████| 64/64 [00:20<00:00,  3.18it/s, train_loss=0.8274]\n",
            "Testing: 100%|██████████| 17/17 [00:03<00:00,  4.29it/s, test_loss=1.1300]\n"
          ]
        },
        {
          "output_type": "stream",
          "name": "stdout",
          "text": [
            "\n",
            "Epoch 71/100\n"
          ]
        },
        {
          "output_type": "stream",
          "name": "stderr",
          "text": [
            "Training: 100%|██████████| 64/64 [00:20<00:00,  3.13it/s, train_loss=0.7998]\n",
            "Testing: 100%|██████████| 17/17 [00:03<00:00,  4.48it/s, test_loss=1.2363]\n"
          ]
        },
        {
          "output_type": "stream",
          "name": "stdout",
          "text": [
            "Train Loss: 0.7998 | Train Accuracy: 0.8446\n",
            "Test Loss: 1.2363 | Test Accuracy: 0.6834\n",
            "\n",
            "Epoch 72/100\n"
          ]
        },
        {
          "output_type": "stream",
          "name": "stderr",
          "text": [
            "Training: 100%|██████████| 64/64 [00:20<00:00,  3.12it/s, train_loss=0.8188]\n",
            "Testing: 100%|██████████| 17/17 [00:03<00:00,  4.60it/s, test_loss=1.0969]\n"
          ]
        },
        {
          "output_type": "stream",
          "name": "stdout",
          "text": [
            "\n",
            "Epoch 73/100\n"
          ]
        },
        {
          "output_type": "stream",
          "name": "stderr",
          "text": [
            "Training: 100%|██████████| 64/64 [00:19<00:00,  3.20it/s, train_loss=0.7555]\n",
            "Testing: 100%|██████████| 17/17 [00:04<00:00,  3.64it/s, test_loss=1.0529]\n"
          ]
        },
        {
          "output_type": "stream",
          "name": "stdout",
          "text": [
            "\n",
            "Epoch 74/100\n"
          ]
        },
        {
          "output_type": "stream",
          "name": "stderr",
          "text": [
            "Training: 100%|██████████| 64/64 [00:20<00:00,  3.17it/s, train_loss=0.7592]\n",
            "Testing: 100%|██████████| 17/17 [00:04<00:00,  3.96it/s, test_loss=1.0477]\n"
          ]
        },
        {
          "output_type": "stream",
          "name": "stdout",
          "text": [
            "\n",
            "Epoch 75/100\n"
          ]
        },
        {
          "output_type": "stream",
          "name": "stderr",
          "text": [
            "Training: 100%|██████████| 64/64 [00:20<00:00,  3.13it/s, train_loss=0.7586]\n",
            "Testing: 100%|██████████| 17/17 [00:03<00:00,  4.47it/s, test_loss=1.2458]\n"
          ]
        },
        {
          "output_type": "stream",
          "name": "stdout",
          "text": [
            "\n",
            "Epoch 76/100\n"
          ]
        },
        {
          "output_type": "stream",
          "name": "stderr",
          "text": [
            "Training: 100%|██████████| 64/64 [00:20<00:00,  3.11it/s, train_loss=0.8102]\n",
            "Testing: 100%|██████████| 17/17 [00:03<00:00,  4.46it/s, test_loss=1.0691]\n"
          ]
        },
        {
          "output_type": "stream",
          "name": "stdout",
          "text": [
            "Train Loss: 0.8102 | Train Accuracy: 0.8514\n",
            "Test Loss: 1.0691 | Test Accuracy: 0.7490\n",
            "\n",
            "Epoch 77/100\n"
          ]
        },
        {
          "output_type": "stream",
          "name": "stderr",
          "text": [
            "Training: 100%|██████████| 64/64 [00:20<00:00,  3.17it/s, train_loss=0.7865]\n",
            "Testing: 100%|██████████| 17/17 [00:04<00:00,  3.97it/s, test_loss=0.9559]\n"
          ]
        },
        {
          "output_type": "stream",
          "name": "stdout",
          "text": [
            "\n",
            "Epoch 78/100\n"
          ]
        },
        {
          "output_type": "stream",
          "name": "stderr",
          "text": [
            "Training: 100%|██████████| 64/64 [00:20<00:00,  3.19it/s, train_loss=0.7904]\n",
            "Testing: 100%|██████████| 17/17 [00:04<00:00,  3.73it/s, test_loss=1.0829]\n"
          ]
        },
        {
          "output_type": "stream",
          "name": "stdout",
          "text": [
            "\n",
            "Epoch 79/100\n"
          ]
        },
        {
          "output_type": "stream",
          "name": "stderr",
          "text": [
            "Training: 100%|██████████| 64/64 [00:20<00:00,  3.16it/s, train_loss=0.7574]\n",
            "Testing: 100%|██████████| 17/17 [00:03<00:00,  4.44it/s, test_loss=1.0674]\n"
          ]
        },
        {
          "output_type": "stream",
          "name": "stdout",
          "text": [
            "\n",
            "Epoch 80/100\n"
          ]
        },
        {
          "output_type": "stream",
          "name": "stderr",
          "text": [
            "Training: 100%|██████████| 64/64 [00:20<00:00,  3.11it/s, train_loss=0.7841]\n",
            "Testing: 100%|██████████| 17/17 [00:03<00:00,  4.47it/s, test_loss=1.0919]\n"
          ]
        },
        {
          "output_type": "stream",
          "name": "stdout",
          "text": [
            "\n",
            "Epoch 81/100\n"
          ]
        },
        {
          "output_type": "stream",
          "name": "stderr",
          "text": [
            "Training: 100%|██████████| 64/64 [00:20<00:00,  3.10it/s, train_loss=0.7596]\n",
            "Testing: 100%|██████████| 17/17 [00:03<00:00,  4.53it/s, test_loss=1.0980]\n"
          ]
        },
        {
          "output_type": "stream",
          "name": "stdout",
          "text": [
            "Train Loss: 0.7596 | Train Accuracy: 0.8641\n",
            "Test Loss: 1.0980 | Test Accuracy: 0.7375\n",
            "\n",
            "Epoch 82/100\n"
          ]
        },
        {
          "output_type": "stream",
          "name": "stderr",
          "text": [
            "Training: 100%|██████████| 64/64 [00:20<00:00,  3.20it/s, train_loss=0.7728]\n",
            "Testing: 100%|██████████| 17/17 [00:04<00:00,  3.60it/s, test_loss=1.0262]\n"
          ]
        },
        {
          "output_type": "stream",
          "name": "stdout",
          "text": [
            "\n",
            "Epoch 83/100\n"
          ]
        },
        {
          "output_type": "stream",
          "name": "stderr",
          "text": [
            "Training: 100%|██████████| 64/64 [00:20<00:00,  3.19it/s, train_loss=0.7575]\n",
            "Testing: 100%|██████████| 17/17 [00:04<00:00,  4.18it/s, test_loss=1.1199]\n"
          ]
        },
        {
          "output_type": "stream",
          "name": "stdout",
          "text": [
            "\n",
            "Epoch 84/100\n"
          ]
        },
        {
          "output_type": "stream",
          "name": "stderr",
          "text": [
            "Training: 100%|██████████| 64/64 [00:20<00:00,  3.16it/s, train_loss=0.7672]\n",
            "Testing: 100%|██████████| 17/17 [00:03<00:00,  4.43it/s, test_loss=1.1867]\n"
          ]
        },
        {
          "output_type": "stream",
          "name": "stdout",
          "text": [
            "\n",
            "Epoch 85/100\n"
          ]
        },
        {
          "output_type": "stream",
          "name": "stderr",
          "text": [
            "Training: 100%|██████████| 64/64 [00:20<00:00,  3.09it/s, train_loss=0.7409]\n",
            "Testing: 100%|██████████| 17/17 [00:03<00:00,  4.46it/s, test_loss=1.0072]\n"
          ]
        },
        {
          "output_type": "stream",
          "name": "stdout",
          "text": [
            "\n",
            "Epoch 86/100\n"
          ]
        },
        {
          "output_type": "stream",
          "name": "stderr",
          "text": [
            "Training: 100%|██████████| 64/64 [00:20<00:00,  3.18it/s, train_loss=0.7500]\n",
            "Testing: 100%|██████████| 17/17 [00:04<00:00,  3.86it/s, test_loss=1.3100]\n"
          ]
        },
        {
          "output_type": "stream",
          "name": "stdout",
          "text": [
            "Train Loss: 0.7500 | Train Accuracy: 0.8749\n",
            "Test Loss: 1.3100 | Test Accuracy: 0.6757\n",
            "\n",
            "Epoch 87/100\n"
          ]
        },
        {
          "output_type": "stream",
          "name": "stderr",
          "text": [
            "Training: 100%|██████████| 64/64 [00:20<00:00,  3.20it/s, train_loss=0.7505]\n",
            "Testing: 100%|██████████| 17/17 [00:04<00:00,  3.99it/s, test_loss=1.1235]\n"
          ]
        },
        {
          "output_type": "stream",
          "name": "stdout",
          "text": [
            "\n",
            "Epoch 88/100\n"
          ]
        },
        {
          "output_type": "stream",
          "name": "stderr",
          "text": [
            "Training: 100%|██████████| 64/64 [00:20<00:00,  3.18it/s, train_loss=0.7335]\n",
            "Testing: 100%|██████████| 17/17 [00:03<00:00,  4.49it/s, test_loss=1.0898]\n"
          ]
        },
        {
          "output_type": "stream",
          "name": "stdout",
          "text": [
            "\n",
            "Epoch 89/100\n"
          ]
        },
        {
          "output_type": "stream",
          "name": "stderr",
          "text": [
            "Training: 100%|██████████| 64/64 [00:20<00:00,  3.15it/s, train_loss=0.7302]\n",
            "Testing: 100%|██████████| 17/17 [00:03<00:00,  4.47it/s, test_loss=1.0554]\n"
          ]
        },
        {
          "output_type": "stream",
          "name": "stdout",
          "text": [
            "\n",
            "Epoch 90/100\n"
          ]
        },
        {
          "output_type": "stream",
          "name": "stderr",
          "text": [
            "Training: 100%|██████████| 64/64 [00:20<00:00,  3.13it/s, train_loss=0.7575]\n",
            "Testing: 100%|██████████| 17/17 [00:04<00:00,  3.98it/s, test_loss=1.2029]\n"
          ]
        },
        {
          "output_type": "stream",
          "name": "stdout",
          "text": [
            "\n",
            "Epoch 91/100\n"
          ]
        },
        {
          "output_type": "stream",
          "name": "stderr",
          "text": [
            "Training: 100%|██████████| 64/64 [00:19<00:00,  3.22it/s, train_loss=0.7430]\n",
            "Testing: 100%|██████████| 17/17 [00:04<00:00,  3.85it/s, test_loss=1.0518]\n"
          ]
        },
        {
          "output_type": "stream",
          "name": "stdout",
          "text": [
            "Train Loss: 0.7430 | Train Accuracy: 0.8788\n",
            "Test Loss: 1.0518 | Test Accuracy: 0.7568\n",
            "\n",
            "Epoch 92/100\n"
          ]
        },
        {
          "output_type": "stream",
          "name": "stderr",
          "text": [
            "Training: 100%|██████████| 64/64 [00:20<00:00,  3.19it/s, train_loss=0.7596]\n",
            "Testing: 100%|██████████| 17/17 [00:03<00:00,  4.53it/s, test_loss=1.3516]\n"
          ]
        },
        {
          "output_type": "stream",
          "name": "stdout",
          "text": [
            "\n",
            "Epoch 93/100\n"
          ]
        },
        {
          "output_type": "stream",
          "name": "stderr",
          "text": [
            "Training: 100%|██████████| 64/64 [00:20<00:00,  3.09it/s, train_loss=0.7745]\n",
            "Testing: 100%|██████████| 17/17 [00:03<00:00,  4.35it/s, test_loss=1.0959]\n"
          ]
        },
        {
          "output_type": "stream",
          "name": "stdout",
          "text": [
            "\n",
            "Epoch 94/100\n"
          ]
        },
        {
          "output_type": "stream",
          "name": "stderr",
          "text": [
            "Training: 100%|██████████| 64/64 [00:20<00:00,  3.13it/s, train_loss=0.6905]\n",
            "Testing: 100%|██████████| 17/17 [00:03<00:00,  4.25it/s, test_loss=0.9997]\n"
          ]
        },
        {
          "output_type": "stream",
          "name": "stdout",
          "text": [
            "New best model saved! Accuracy: 0.8224\n",
            "\n",
            "Epoch 95/100\n"
          ]
        },
        {
          "output_type": "stream",
          "name": "stderr",
          "text": [
            "Training: 100%|██████████| 64/64 [00:20<00:00,  3.18it/s, train_loss=0.7414]\n",
            "Testing: 100%|██████████| 17/17 [00:04<00:00,  3.59it/s, test_loss=1.1507]\n"
          ]
        },
        {
          "output_type": "stream",
          "name": "stdout",
          "text": [
            "\n",
            "Epoch 96/100\n"
          ]
        },
        {
          "output_type": "stream",
          "name": "stderr",
          "text": [
            "Training: 100%|██████████| 64/64 [00:19<00:00,  3.22it/s, train_loss=0.7064]\n",
            "Testing: 100%|██████████| 17/17 [00:03<00:00,  4.28it/s, test_loss=1.2012]\n"
          ]
        },
        {
          "output_type": "stream",
          "name": "stdout",
          "text": [
            "Train Loss: 0.7064 | Train Accuracy: 0.8876\n",
            "Test Loss: 1.2012 | Test Accuracy: 0.6950\n",
            "\n",
            "Epoch 97/100\n"
          ]
        },
        {
          "output_type": "stream",
          "name": "stderr",
          "text": [
            "Training: 100%|██████████| 64/64 [00:20<00:00,  3.15it/s, train_loss=0.7522]\n",
            "Testing: 100%|██████████| 17/17 [00:03<00:00,  4.39it/s, test_loss=1.0006]\n"
          ]
        },
        {
          "output_type": "stream",
          "name": "stdout",
          "text": [
            "\n",
            "Epoch 98/100\n"
          ]
        },
        {
          "output_type": "stream",
          "name": "stderr",
          "text": [
            "Training: 100%|██████████| 64/64 [00:20<00:00,  3.11it/s, train_loss=0.7215]\n",
            "Testing: 100%|██████████| 17/17 [00:03<00:00,  4.49it/s, test_loss=1.0738]\n"
          ]
        },
        {
          "output_type": "stream",
          "name": "stdout",
          "text": [
            "\n",
            "Epoch 99/100\n"
          ]
        },
        {
          "output_type": "stream",
          "name": "stderr",
          "text": [
            "Training: 100%|██████████| 64/64 [00:19<00:00,  3.23it/s, train_loss=0.7190]\n",
            "Testing: 100%|██████████| 17/17 [00:04<00:00,  3.79it/s, test_loss=1.1110]\n"
          ]
        },
        {
          "output_type": "stream",
          "name": "stdout",
          "text": [
            "\n",
            "Epoch 100/100\n"
          ]
        },
        {
          "output_type": "stream",
          "name": "stderr",
          "text": [
            "Training: 100%|██████████| 64/64 [00:20<00:00,  3.18it/s, train_loss=0.7357]\n",
            "Testing: 100%|██████████| 17/17 [00:04<00:00,  4.15it/s, test_loss=1.1176]"
          ]
        },
        {
          "output_type": "stream",
          "name": "stdout",
          "text": [
            "\n",
            "Loaded best model from epoch 94\n",
            "Best Test Metrics:\n",
            "Test Loss: 0.9997\n",
            "Test Accuracy: 0.8224\n",
            "\n",
            "Training completed!\n",
            "Best test accuracy achieved: 0.8224\n"
          ]
        },
        {
          "output_type": "stream",
          "name": "stderr",
          "text": [
            "\n"
          ]
        }
      ]
    }
  ]
}